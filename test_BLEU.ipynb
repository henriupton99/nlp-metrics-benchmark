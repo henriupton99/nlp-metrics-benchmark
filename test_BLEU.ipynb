{
 "cells": [
  {
   "cell_type": "markdown",
   "id": "10a2d118",
   "metadata": {},
   "source": [
    "## Test BLEU metric"
   ]
  },
  {
   "cell_type": "code",
   "execution_count": 2,
   "id": "49880768",
   "metadata": {},
   "outputs": [],
   "source": [
    "# FUNCTIONS / CLASSES :\n",
    "import sys\n",
    "from nltk.tokenize import TweetTokenizer\n",
    "%load_ext autoreload\n",
    "%autoreload 2\n",
    "sys.path.append(\"./code\")\n",
    "from BLEU import Sentence_BLEU"
   ]
  },
  {
   "cell_type": "code",
   "execution_count": 7,
   "id": "53884256",
   "metadata": {},
   "outputs": [],
   "source": [
    "BLEU = Sentence_BLEU(N = 5)"
   ]
  },
  {
   "cell_type": "code",
   "execution_count": 11,
   "id": "4d4169ed",
   "metadata": {},
   "outputs": [],
   "source": [
    "reference = \"Je me présente je m'appelle Henri\"\n",
    "good_candidate = \"Je me présente je me prénomme Henri\"\n",
    "avg_candidate = \"Bonjour mon nom est Henri\"\n",
    "bad_candidate = \"J'aime les pizzas\""
   ]
  },
  {
   "cell_type": "code",
   "execution_count": 12,
   "id": "68704e51",
   "metadata": {},
   "outputs": [
    {
     "data": {
      "text/plain": [
       "0.0"
      ]
     },
     "execution_count": 12,
     "metadata": {},
     "output_type": "execute_result"
    }
   ],
   "source": [
    "BLEU.compute_score(reference, bad_candidate)"
   ]
  },
  {
   "cell_type": "code",
   "execution_count": 14,
   "id": "6bc3ecd9",
   "metadata": {},
   "outputs": [
    {
     "data": {
      "text/plain": [
       "4.238549109962199"
      ]
     },
     "execution_count": 14,
     "metadata": {},
     "output_type": "execute_result"
    }
   ],
   "source": [
    "BLEU.compute_score(reference, avg_candidate)"
   ]
  },
  {
   "cell_type": "code",
   "execution_count": 13,
   "id": "dc715946",
   "metadata": {},
   "outputs": [
    {
     "data": {
      "text/plain": [
       "14.589538269601439"
      ]
     },
     "execution_count": 13,
     "metadata": {},
     "output_type": "execute_result"
    }
   ],
   "source": [
    "BLEU.compute_score(reference, good_candidate)"
   ]
  },
  {
   "cell_type": "code",
   "execution_count": null,
   "id": "9d9ad09a",
   "metadata": {},
   "outputs": [],
   "source": []
  }
 ],
 "metadata": {
  "kernelspec": {
   "display_name": "Python 3 (ipykernel)",
   "language": "python",
   "name": "python3"
  },
  "language_info": {
   "codemirror_mode": {
    "name": "ipython",
    "version": 3
   },
   "file_extension": ".py",
   "mimetype": "text/x-python",
   "name": "python",
   "nbconvert_exporter": "python",
   "pygments_lexer": "ipython3",
   "version": "3.9.15"
  }
 },
 "nbformat": 4,
 "nbformat_minor": 5
}
