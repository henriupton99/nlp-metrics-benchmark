{
 "cells": [
  {
   "cell_type": "markdown",
   "metadata": {},
   "source": [
    "# Exploration des données"
   ]
  },
  {
   "cell_type": "code",
   "execution_count": 68,
   "metadata": {},
   "outputs": [
    {
     "name": "stdout",
     "output_type": "stream",
     "text": [
      "The autoreload extension is already loaded. To reload it, use:\n",
      "  %reload_ext autoreload\n"
     ]
    }
   ],
   "source": [
    "# IMPORTS :\n",
    "import numpy as np\n",
    "import matplotlib.pyplot as plt\n",
    "plt.style.use('ggplot')\n",
    "import pandas as pd\n",
    "import seaborn as sns\n",
    "import sys\n",
    "\n",
    "# FUNCTIONS / CLASSES :\n",
    "%load_ext autoreload\n",
    "%autoreload 2\n",
    "sys.path.append(\"./code\")\n",
    "from data_processing import WMT22\n",
    "\n",
    "## DICTIONNAIRE DES COUPLES DE TRADUCTIONS :\n",
    "sl_tls = {\n",
    "    \"English-German\" : \"ende\",\n",
    "    \"English-Russian\" : \"enru\",\n",
    "    \"Chinese-English\" : \"zhen\"\n",
    "}"
   ]
  },
  {
   "cell_type": "markdown",
   "metadata": {},
   "source": [
    "## Accès aux données "
   ]
  },
  {
   "cell_type": "code",
   "execution_count": 40,
   "metadata": {},
   "outputs": [
    {
     "name": "stdout",
     "output_type": "stream",
     "text": [
      "English-German  :  32190  observations\n",
      "English-Russian  :  32348  observations\n",
      "Chinese-English  :  35188  observations\n"
     ]
    }
   ],
   "source": [
    "## PARCOURS DES COUPLES DE TRADUCTION POSSIBLES :\n",
    "for key in sl_tls.keys() :\n",
    "    \n",
    "    val = sl_tls[key]\n",
    "    \n",
    "    ## ACCES AUX DONNEES DE TRAIN ET DEV :\n",
    "    df = WMT22.read_data(sl_tl = val)\n",
    "    \n",
    "    ## NOMBRE D'OBSERVATIONS :\n",
    "    print(key , \" : \" , len(df) , \" observations\" )\n",
    "    \n"
   ]
  },
  {
   "cell_type": "code",
   "execution_count": 190,
   "metadata": {},
   "outputs": [],
   "source": [
    "sl_tl = \"enru\"\n",
    "df_rates = pd.read_table(\"./data/generalMT2022/\" + sl_tl + \"/mqm_generalMT2022_\" + sl_tl + \".tsv\",\n",
    "                                 on_bad_lines = \"skip\",\n",
    "                                 index_col = False).set_index(\"seg_id\")"
   ]
  },
  {
   "cell_type": "code",
   "execution_count": 172,
   "metadata": {},
   "outputs": [
    {
     "data": {
      "text/html": "<div>\n<style scoped>\n    .dataframe tbody tr th:only-of-type {\n        vertical-align: middle;\n    }\n\n    .dataframe tbody tr th {\n        vertical-align: top;\n    }\n\n    .dataframe thead th {\n        text-align: right;\n    }\n</style>\n<table border=\"1\" class=\"dataframe\">\n  <thead>\n    <tr style=\"text-align: right;\">\n      <th></th>\n      <th>sys</th>\n      <th>hyp</th>\n      <th>domain</th>\n      <th>doc</th>\n      <th>source</th>\n      <th>ref</th>\n      <th>score</th>\n    </tr>\n    <tr>\n      <th>seg_id</th>\n      <th></th>\n      <th></th>\n      <th></th>\n      <th></th>\n      <th></th>\n      <th></th>\n      <th></th>\n    </tr>\n  </thead>\n  <tbody>\n    <tr>\n      <th>1201</th>\n      <td>PROMT</td>\n      <td>Между тем, в Болгарии проливные дожди и крупны...</td>\n      <td>news</td>\n      <td>euronews-en.19225</td>\n      <td>Meanwhile, in Bulgaria, heavy rains and major ...</td>\n      <td>Тем временем в Болгарии за выходные проливные ...</td>\n      <td>-0.0</td>\n    </tr>\n  </tbody>\n</table>\n</div>",
      "text/plain": "          sys                                                hyp domain  \\\nseg_id                                                                    \n1201    PROMT  Между тем, в Болгарии проливные дожди и крупны...   news   \n\n                      doc                                             source  \\\nseg_id                                                                         \n1201    euronews-en.19225  Meanwhile, in Bulgaria, heavy rains and major ...   \n\n                                                      ref score  \nseg_id                                                           \n1201    Тем временем в Болгарии за выходные проливные ...  -0.0  "
     },
     "execution_count": 172,
     "metadata": {},
     "output_type": "execute_result"
    }
   ],
   "source": [
    "df.sample(1)"
   ]
  },
  {
   "cell_type": "code",
   "execution_count": 175,
   "metadata": {},
   "outputs": [
    {
     "data": {
      "text/html": "<div>\n<style scoped>\n    .dataframe tbody tr th:only-of-type {\n        vertical-align: middle;\n    }\n\n    .dataframe tbody tr th {\n        vertical-align: top;\n    }\n\n    .dataframe thead th {\n        text-align: right;\n    }\n</style>\n<table border=\"1\" class=\"dataframe\">\n  <thead>\n    <tr style=\"text-align: right;\">\n      <th></th>\n      <th>system</th>\n      <th>doc</th>\n      <th>doc_id</th>\n      <th>rater</th>\n      <th>source</th>\n      <th>target</th>\n      <th>category</th>\n      <th>severity</th>\n    </tr>\n    <tr>\n      <th>seg_id</th>\n      <th></th>\n      <th></th>\n      <th></th>\n      <th></th>\n      <th></th>\n      <th></th>\n      <th></th>\n      <th></th>\n    </tr>\n  </thead>\n  <tbody>\n    <tr>\n      <th>471</th>\n      <td>comet_bestmbr</td>\n      <td>ecommerce_en_38</td>\n      <td>2</td>\n      <td>unbabel_rater4</td>\n      <td>It includes a power amplifier to drive loudspe...</td>\n      <td>В комплект входит усилитель мощности для громк...</td>\n      <td>No-error</td>\n      <td>No-error</td>\n    </tr>\n    <tr>\n      <th>471</th>\n      <td>JDExploreAcademy</td>\n      <td>ecommerce_en_38</td>\n      <td>2</td>\n      <td>unbabel_rater4</td>\n      <td>It includes a power amplifier to drive loudspe...</td>\n      <td>Он включает в себя усилитель мощности для упра...</td>\n      <td>No-error</td>\n      <td>No-error</td>\n    </tr>\n    <tr>\n      <th>471</th>\n      <td>bleu_bestmbr</td>\n      <td>ecommerce_en_38</td>\n      <td>2</td>\n      <td>unbabel_rater4</td>\n      <td>It includes a power amplifier to drive loudspe...</td>\n      <td>Он включает в себя усилитель мощности для упра...</td>\n      <td>No-error</td>\n      <td>No-error</td>\n    </tr>\n    <tr>\n      <th>471</th>\n      <td>SRPOL</td>\n      <td>ecommerce_en_38</td>\n      <td>2</td>\n      <td>unbabel_rater4</td>\n      <td>It includes a power amplifier to drive loudspe...</td>\n      <td>Он включает в себя усилитель мощности для прив...</td>\n      <td>No-error</td>\n      <td>No-error</td>\n    </tr>\n    <tr>\n      <th>471</th>\n      <td>Online-G</td>\n      <td>ecommerce_en_38</td>\n      <td>2</td>\n      <td>unbabel_rater4</td>\n      <td>It includes a power amplifier to drive loudspe...</td>\n      <td>Он включает в себя усилитель мощности для упра...</td>\n      <td>No-error</td>\n      <td>No-error</td>\n    </tr>\n    <tr>\n      <th>471</th>\n      <td>refA</td>\n      <td>ecommerce_en_38</td>\n      <td>2</td>\n      <td>unbabel_rater4</td>\n      <td>It includes a power amplifier to drive loudspe...</td>\n      <td>Он включает усилитель мощности, чтобы управлят...</td>\n      <td>No-error</td>\n      <td>No-error</td>\n    </tr>\n    <tr>\n      <th>471</th>\n      <td>eTranslation</td>\n      <td>ecommerce_en_38</td>\n      <td>2</td>\n      <td>unbabel_rater4</td>\n      <td>It includes a power amplifier to drive loudspe...</td>\n      <td>Он включает в себя усилитель мощности для прив...</td>\n      <td>No-error</td>\n      <td>No-error</td>\n    </tr>\n    <tr>\n      <th>471</th>\n      <td>Online-B</td>\n      <td>ecommerce_en_38</td>\n      <td>2</td>\n      <td>unbabel_rater4</td>\n      <td>It includes a power amplifier to drive loudspe...</td>\n      <td>Он включает в себя усилитель мощности для упра...</td>\n      <td>No-error</td>\n      <td>No-error</td>\n    </tr>\n    <tr>\n      <th>471</th>\n      <td>Online-A</td>\n      <td>ecommerce_en_38</td>\n      <td>2</td>\n      <td>unbabel_rater4</td>\n      <td>It includes a power amplifier to drive loudspe...</td>\n      <td>Он включает в себя усилитель мощности для прив...</td>\n      <td>No-error</td>\n      <td>No-error</td>\n    </tr>\n    <tr>\n      <th>471</th>\n      <td>Online-Y</td>\n      <td>ecommerce_en_38</td>\n      <td>2</td>\n      <td>unbabel_rater4</td>\n      <td>It includes a power amplifier to drive loudspe...</td>\n      <td>Он включает усилитель мощности для управления ...</td>\n      <td>No-error</td>\n      <td>No-error</td>\n    </tr>\n    <tr>\n      <th>471</th>\n      <td>Lan-Bridge</td>\n      <td>ecommerce_en_38</td>\n      <td>2</td>\n      <td>unbabel_rater4</td>\n      <td>It includes a power amplifier to drive loudspe...</td>\n      <td>Он включает усилитель мощности для управления ...</td>\n      <td>No-error</td>\n      <td>No-error</td>\n    </tr>\n    <tr>\n      <th>471</th>\n      <td>Online-W</td>\n      <td>ecommerce_en_38</td>\n      <td>2</td>\n      <td>unbabel_rater4</td>\n      <td>It includes a power amplifier to drive loudspe...</td>\n      <td>В комплект входит усилитель мощности для управ...</td>\n      <td>No-error</td>\n      <td>No-error</td>\n    </tr>\n    <tr>\n      <th>471</th>\n      <td>HuaweiTSC</td>\n      <td>ecommerce_en_38</td>\n      <td>2</td>\n      <td>unbabel_rater4</td>\n      <td>It includes a power amplifier to drive loudspe...</td>\n      <td>Он включает в себя усилитель мощности для прив...</td>\n      <td>No-error</td>\n      <td>No-error</td>\n    </tr>\n    <tr>\n      <th>471</th>\n      <td>PROMT</td>\n      <td>ecommerce_en_38</td>\n      <td>2</td>\n      <td>unbabel_rater4</td>\n      <td>It includes a power amplifier to drive loudspe...</td>\n      <td>В его состав входит усилитель мощности для при...</td>\n      <td>No-error</td>\n      <td>No-error</td>\n    </tr>\n    <tr>\n      <th>471</th>\n      <td>QUARTZ_TuneReranking</td>\n      <td>ecommerce_en_38</td>\n      <td>2</td>\n      <td>unbabel_rater4</td>\n      <td>It includes a power amplifier to drive loudspe...</td>\n      <td>В комплект поставки входит усилитель для приво...</td>\n      <td>No-error</td>\n      <td>No-error</td>\n    </tr>\n    <tr>\n      <th>471</th>\n      <td>M2M100_1.2B-B4</td>\n      <td>ecommerce_en_38</td>\n      <td>2</td>\n      <td>unbabel_rater4</td>\n      <td>It includes a power amplifier to drive loudspe...</td>\n      <td>Он включает в себя &lt;v&gt;мощный&lt;/v&gt; усилитель для...</td>\n      <td>mistranslation</td>\n      <td>minor</td>\n    </tr>\n  </tbody>\n</table>\n</div>",
      "text/plain": "                      system              doc  doc_id           rater  \\\nseg_id                                                                  \n471            comet_bestmbr  ecommerce_en_38       2  unbabel_rater4   \n471         JDExploreAcademy  ecommerce_en_38       2  unbabel_rater4   \n471             bleu_bestmbr  ecommerce_en_38       2  unbabel_rater4   \n471                    SRPOL  ecommerce_en_38       2  unbabel_rater4   \n471                 Online-G  ecommerce_en_38       2  unbabel_rater4   \n471                     refA  ecommerce_en_38       2  unbabel_rater4   \n471             eTranslation  ecommerce_en_38       2  unbabel_rater4   \n471                 Online-B  ecommerce_en_38       2  unbabel_rater4   \n471                 Online-A  ecommerce_en_38       2  unbabel_rater4   \n471                 Online-Y  ecommerce_en_38       2  unbabel_rater4   \n471               Lan-Bridge  ecommerce_en_38       2  unbabel_rater4   \n471                 Online-W  ecommerce_en_38       2  unbabel_rater4   \n471                HuaweiTSC  ecommerce_en_38       2  unbabel_rater4   \n471                    PROMT  ecommerce_en_38       2  unbabel_rater4   \n471     QUARTZ_TuneReranking  ecommerce_en_38       2  unbabel_rater4   \n471           M2M100_1.2B-B4  ecommerce_en_38       2  unbabel_rater4   \n\n                                                   source  \\\nseg_id                                                      \n471     It includes a power amplifier to drive loudspe...   \n471     It includes a power amplifier to drive loudspe...   \n471     It includes a power amplifier to drive loudspe...   \n471     It includes a power amplifier to drive loudspe...   \n471     It includes a power amplifier to drive loudspe...   \n471     It includes a power amplifier to drive loudspe...   \n471     It includes a power amplifier to drive loudspe...   \n471     It includes a power amplifier to drive loudspe...   \n471     It includes a power amplifier to drive loudspe...   \n471     It includes a power amplifier to drive loudspe...   \n471     It includes a power amplifier to drive loudspe...   \n471     It includes a power amplifier to drive loudspe...   \n471     It includes a power amplifier to drive loudspe...   \n471     It includes a power amplifier to drive loudspe...   \n471     It includes a power amplifier to drive loudspe...   \n471     It includes a power amplifier to drive loudspe...   \n\n                                                   target        category  \\\nseg_id                                                                      \n471     В комплект входит усилитель мощности для громк...        No-error   \n471     Он включает в себя усилитель мощности для упра...        No-error   \n471     Он включает в себя усилитель мощности для упра...        No-error   \n471     Он включает в себя усилитель мощности для прив...        No-error   \n471     Он включает в себя усилитель мощности для упра...        No-error   \n471     Он включает усилитель мощности, чтобы управлят...        No-error   \n471     Он включает в себя усилитель мощности для прив...        No-error   \n471     Он включает в себя усилитель мощности для упра...        No-error   \n471     Он включает в себя усилитель мощности для прив...        No-error   \n471     Он включает усилитель мощности для управления ...        No-error   \n471     Он включает усилитель мощности для управления ...        No-error   \n471     В комплект входит усилитель мощности для управ...        No-error   \n471     Он включает в себя усилитель мощности для прив...        No-error   \n471     В его состав входит усилитель мощности для при...        No-error   \n471     В комплект поставки входит усилитель для приво...        No-error   \n471     Он включает в себя <v>мощный</v> усилитель для...  mistranslation   \n\n        severity  \nseg_id            \n471     No-error  \n471     No-error  \n471     No-error  \n471     No-error  \n471     No-error  \n471     No-error  \n471     No-error  \n471     No-error  \n471     No-error  \n471     No-error  \n471     No-error  \n471     No-error  \n471     No-error  \n471     No-error  \n471     No-error  \n471        minor  "
     },
     "execution_count": 175,
     "metadata": {},
     "output_type": "execute_result"
    }
   ],
   "source": [
    "df_rates.loc[471]"
   ]
  },
  {
   "cell_type": "code",
   "execution_count": 179,
   "metadata": {},
   "outputs": [
    {
     "data": {
      "text/html": "<div>\n<style scoped>\n    .dataframe tbody tr th:only-of-type {\n        vertical-align: middle;\n    }\n\n    .dataframe tbody tr th {\n        vertical-align: top;\n    }\n\n    .dataframe thead th {\n        text-align: right;\n    }\n</style>\n<table border=\"1\" class=\"dataframe\">\n  <thead>\n    <tr style=\"text-align: right;\">\n      <th></th>\n      <th>system</th>\n      <th>doc</th>\n      <th>doc_id</th>\n      <th>rater</th>\n      <th>source</th>\n      <th>target</th>\n      <th>category</th>\n      <th>severity</th>\n    </tr>\n    <tr>\n      <th>seg_id</th>\n      <th></th>\n      <th></th>\n      <th></th>\n      <th></th>\n      <th></th>\n      <th></th>\n      <th></th>\n      <th></th>\n    </tr>\n  </thead>\n  <tbody>\n    <tr>\n      <th>1580</th>\n      <td>QUARTZ_TuneReranking</td>\n      <td>t1_hiyjod1</td>\n      <td>0</td>\n      <td>unbabel_rater3</td>\n      <td>There's a circularity to it...</td>\n      <td>В этом есть какая-то &lt;v&gt;непоследовательность&lt;/...</td>\n      <td>mistranslation</td>\n      <td>major</td>\n    </tr>\n  </tbody>\n</table>\n</div>",
      "text/plain": "                      system         doc  doc_id           rater  \\\nseg_id                                                             \n1580    QUARTZ_TuneReranking  t1_hiyjod1       0  unbabel_rater3   \n\n                                source  \\\nseg_id                                   \n1580    There's a circularity to it...   \n\n                                                   target        category  \\\nseg_id                                                                      \n1580    В этом есть какая-то <v>непоследовательность</...  mistranslation   \n\n       severity  \nseg_id           \n1580      major  "
     },
     "execution_count": 179,
     "metadata": {},
     "output_type": "execute_result"
    }
   ],
   "source": [
    "df_rates.sample(1)"
   ]
  },
  {
   "cell_type": "code",
   "execution_count": 191,
   "metadata": {},
   "outputs": [
    {
     "data": {
      "text/plain": "100"
     },
     "execution_count": 191,
     "metadata": {},
     "output_type": "execute_result"
    }
   ],
   "source": [
    "WMT22.MQM_unlabel_score(\n",
    "                df_rates = df_rates,\n",
    "                seg_id = 471,\n",
    "                sys = \"comet_bestmbr\"\n",
    "                )"
   ]
  },
  {
   "cell_type": "code",
   "execution_count": 114,
   "metadata": {},
   "outputs": [
    {
     "data": {
      "text/plain": "-1"
     },
     "execution_count": 114,
     "metadata": {},
     "output_type": "execute_result"
    }
   ],
   "source": [
    "WMT22.MQM_google_score(\n",
    "                df_rates = df_rates,\n",
    "                seg_id = 1,\n",
    "                sys = \"QUARTZ_TuneReranking\"\n",
    "                )"
   ]
  },
  {
   "cell_type": "code",
   "execution_count": 55,
   "metadata": {},
   "outputs": [
    {
     "data": {
      "text/plain": "'Online-B'"
     },
     "execution_count": 55,
     "metadata": {},
     "output_type": "execute_result"
    }
   ],
   "source": [
    "res"
   ]
  },
  {
   "cell_type": "code",
   "execution_count": 194,
   "metadata": {},
   "outputs": [],
   "source": [
    "df = WMT22.read_data(sl_tl = \"enru\")"
   ]
  },
  {
   "cell_type": "code",
   "execution_count": 195,
   "metadata": {},
   "outputs": [
    {
     "data": {
      "text/html": "<div>\n<style scoped>\n    .dataframe tbody tr th:only-of-type {\n        vertical-align: middle;\n    }\n\n    .dataframe tbody tr th {\n        vertical-align: top;\n    }\n\n    .dataframe thead th {\n        text-align: right;\n    }\n</style>\n<table border=\"1\" class=\"dataframe\">\n  <thead>\n    <tr style=\"text-align: right;\">\n      <th></th>\n      <th>sys</th>\n      <th>hyp</th>\n      <th>domain</th>\n      <th>doc</th>\n      <th>source</th>\n      <th>ref</th>\n      <th>score</th>\n      <th>score_test</th>\n    </tr>\n    <tr>\n      <th>seg_id</th>\n      <th></th>\n      <th></th>\n      <th></th>\n      <th></th>\n      <th></th>\n      <th></th>\n      <th></th>\n      <th></th>\n    </tr>\n  </thead>\n  <tbody>\n    <tr>\n      <th>1</th>\n      <td>bleu_bestmbr</td>\n      <td>Я постоянно вижу это в своей работе.</td>\n      <td>social</td>\n      <td>t1_hqh0ref</td>\n      <td>I see it all the time in my line of work.</td>\n      <td>Я постоянно вижу такое в своей сфере деятельно...</td>\n      <td>-0.0</td>\n      <td>100</td>\n    </tr>\n    <tr>\n      <th>2</th>\n      <td>bleu_bestmbr</td>\n      <td>И даже не обязательно вопрос жизни или смерти,...</td>\n      <td>social</td>\n      <td>t1_hqh0ref</td>\n      <td>And it doesn’t even have to be life or death t...</td>\n      <td>И это даже не должно быть вопросом жизни и сме...</td>\n      <td>-5.0</td>\n      <td>-400</td>\n    </tr>\n    <tr>\n      <th>3</th>\n      <td>bleu_bestmbr</td>\n      <td>Недавно был пациент, которому потребовалась оч...</td>\n      <td>social</td>\n      <td>t1_hqh0ref</td>\n      <td>Had a recent patient who needed a very specifi...</td>\n      <td>Недавно у меня был пациент, которому была необ...</td>\n      <td>-0.0</td>\n      <td>100</td>\n    </tr>\n    <tr>\n      <th>4</th>\n      <td>bleu_bestmbr</td>\n      <td>Одноранговый обмен не удалось.</td>\n      <td>social</td>\n      <td>t1_hqh0ref</td>\n      <td>Peer to peer failed.</td>\n      <td>Ошибка одноранговой сети.</td>\n      <td>-15.0</td>\n      <td>-1400</td>\n    </tr>\n    <tr>\n      <th>5</th>\n      <td>bleu_bestmbr</td>\n      <td>Страховка говорит, что это не нужно по медицин...</td>\n      <td>social</td>\n      <td>t1_hqh0ref</td>\n      <td>Insurance says it’s not medically necessary.</td>\n      <td>В страховке говорится, что это не является нео...</td>\n      <td>-0.0</td>\n      <td>100</td>\n    </tr>\n    <tr>\n      <th>...</th>\n      <td>...</td>\n      <td>...</td>\n      <td>...</td>\n      <td>...</td>\n      <td>...</td>\n      <td>...</td>\n      <td>...</td>\n      <td>...</td>\n    </tr>\n    <tr>\n      <th>2033</th>\n      <td>SRPOL</td>\n      <td>Пожалуйста, заполните его, если у вас есть мом...</td>\n      <td>conversation</td>\n      <td>en_de_CLIENT-01_default_2021-02-14-9_doc0</td>\n      <td>Please kindly fill this in if you have a momen...</td>\n      <td>Пожалуйста, заполните ее, если у Вас есть своб...</td>\n      <td>-2.0</td>\n      <td>-300</td>\n    </tr>\n    <tr>\n      <th>2034</th>\n      <td>SRPOL</td>\n      <td>Айова Санта уходит на пенсию после 50 лет</td>\n      <td>news</td>\n      <td>news.com.au.33709</td>\n      <td>Iowa Santa retires after 50 years</td>\n      <td>Санта-Клаус штата Айова ушел в отставку спустя...</td>\n      <td>-5.0</td>\n      <td>-400</td>\n    </tr>\n    <tr>\n      <th>2035</th>\n      <td>SRPOL</td>\n      <td>Айова Санта, который заставляет детей улыбатьс...</td>\n      <td>news</td>\n      <td>news.com.au.33709</td>\n      <td>An Iowa Santa who has been making children smi...</td>\n      <td>В штате Айова Санта-Клаус, даривший детям улыб...</td>\n      <td>-6.0</td>\n      <td>-500</td>\n    </tr>\n    <tr>\n      <th>2036</th>\n      <td>SRPOL</td>\n      <td>Дэйв Стауфер раскрыл проблемы со здоровьем и в...</td>\n      <td>news</td>\n      <td>news.com.au.33709</td>\n      <td>Dave Stoufer revealed health issues and age-re...</td>\n      <td>Дейв Стауфер сообщил, что проблемы со здоровье...</td>\n      <td>-5.0</td>\n      <td>-400</td>\n    </tr>\n    <tr>\n      <th>2037</th>\n      <td>SRPOL</td>\n      <td>Его жена Рэйчел Никола сказала, что, хотя она ...</td>\n      <td>news</td>\n      <td>news.com.au.33709</td>\n      <td>His wife Rachel Nicola said while she was very...</td>\n      <td>Его жена Рейчел Никола сказала, что, хотя она ...</td>\n      <td>-0.0</td>\n      <td>100</td>\n    </tr>\n  </tbody>\n</table>\n<p>32348 rows × 8 columns</p>\n</div>",
      "text/plain": "                 sys                                                hyp  \\\nseg_id                                                                    \n1       bleu_bestmbr               Я постоянно вижу это в своей работе.   \n2       bleu_bestmbr  И даже не обязательно вопрос жизни или смерти,...   \n3       bleu_bestmbr  Недавно был пациент, которому потребовалась оч...   \n4       bleu_bestmbr                     Одноранговый обмен не удалось.   \n5       bleu_bestmbr  Страховка говорит, что это не нужно по медицин...   \n...              ...                                                ...   \n2033           SRPOL  Пожалуйста, заполните его, если у вас есть мом...   \n2034           SRPOL          Айова Санта уходит на пенсию после 50 лет   \n2035           SRPOL  Айова Санта, который заставляет детей улыбатьс...   \n2036           SRPOL  Дэйв Стауфер раскрыл проблемы со здоровьем и в...   \n2037           SRPOL  Его жена Рэйчел Никола сказала, что, хотя она ...   \n\n              domain                                        doc  \\\nseg_id                                                            \n1             social                                 t1_hqh0ref   \n2             social                                 t1_hqh0ref   \n3             social                                 t1_hqh0ref   \n4             social                                 t1_hqh0ref   \n5             social                                 t1_hqh0ref   \n...              ...                                        ...   \n2033    conversation  en_de_CLIENT-01_default_2021-02-14-9_doc0   \n2034            news                          news.com.au.33709   \n2035            news                          news.com.au.33709   \n2036            news                          news.com.au.33709   \n2037            news                          news.com.au.33709   \n\n                                                   source  \\\nseg_id                                                      \n1               I see it all the time in my line of work.   \n2       And it doesn’t even have to be life or death t...   \n3       Had a recent patient who needed a very specifi...   \n4                                    Peer to peer failed.   \n5            Insurance says it’s not medically necessary.   \n...                                                   ...   \n2033    Please kindly fill this in if you have a momen...   \n2034                    Iowa Santa retires after 50 years   \n2035    An Iowa Santa who has been making children smi...   \n2036    Dave Stoufer revealed health issues and age-re...   \n2037    His wife Rachel Nicola said while she was very...   \n\n                                                      ref  score score_test  \nseg_id                                                                       \n1       Я постоянно вижу такое в своей сфере деятельно...   -0.0        100  \n2       И это даже не должно быть вопросом жизни и сме...   -5.0       -400  \n3       Недавно у меня был пациент, которому была необ...   -0.0        100  \n4                               Ошибка одноранговой сети.  -15.0      -1400  \n5       В страховке говорится, что это не является нео...   -0.0        100  \n...                                                   ...    ...        ...  \n2033    Пожалуйста, заполните ее, если у Вас есть своб...   -2.0       -300  \n2034    Санта-Клаус штата Айова ушел в отставку спустя...   -5.0       -400  \n2035    В штате Айова Санта-Клаус, даривший детям улыб...   -6.0       -500  \n2036    Дейв Стауфер сообщил, что проблемы со здоровье...   -5.0       -400  \n2037    Его жена Рейчел Никола сказала, что, хотя она ...   -0.0        100  \n\n[32348 rows x 8 columns]"
     },
     "execution_count": 195,
     "metadata": {},
     "output_type": "execute_result"
    }
   ],
   "source": [
    "df"
   ]
  }
 ],
 "metadata": {
  "kernelspec": {
   "display_name": "Python 3 (ipykernel)",
   "language": "python",
   "name": "python3"
  },
  "language_info": {
   "codemirror_mode": {
    "name": "ipython",
    "version": 3
   },
   "file_extension": ".py",
   "mimetype": "text/x-python",
   "name": "python",
   "nbconvert_exporter": "python",
   "pygments_lexer": "ipython3",
   "version": "3.9.15"
  }
 },
 "nbformat": 4,
 "nbformat_minor": 5
}