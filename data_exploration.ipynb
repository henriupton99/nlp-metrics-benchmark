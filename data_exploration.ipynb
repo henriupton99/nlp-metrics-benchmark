{
 "cells": [
  {
   "cell_type": "markdown",
   "id": "64735397",
   "metadata": {},
   "source": [
    "# Calcul des \"*Golden Scores*\""
   ]
  },
  {
   "cell_type": "markdown",
   "id": "e673beb9",
   "metadata": {},
   "source": [
    "## I - Introduction"
   ]
  },
  {
   "cell_type": "markdown",
   "id": "fd11f1a2",
   "metadata": {},
   "source": [
    "L'idée principale du projet est d'évaluer des métriques qui mesurent la performance de systèmes de traduction. Un des premiers critères à considérer est leur corrélation avec le jugement humain. Les données du WMT22 nous permettent d'affecter un score humain à chaque traduction candidate des systèmes considérés via le calcul des scores **MQM** (Multidimensional Quality Metrics). Le **MQM** est un type de **Golden Score** car il correspond à un score basé sur les erreurs identifiées par les experts humains.\n",
    "\n",
    "Nous disposons de trois paires de langages source (**sl** pour \"source langage\") et langages cibles (**tl** pour \"target langage\") :\n",
    "\n",
    "- *English-German* : **ende**\n",
    "- *Chinese-English* : **zhen**\n",
    "- *English-Russian* : **enru**\n",
    "\n",
    "Pour chacune de ces trois paires, nous disposons de deux bases de données issues du GitHub Google MQM Human Evaluation (https://github.com/google/wmt-mqm-human-evaluation) :\n",
    "\n",
    "1 - **Base de données \"Liste Candidats\"** : répertorie les traductions de différents modèles de langage (**hyp** pour hypothèse), les phrases source (**source**), les traductions de référence établies par des experts (**ref** pour référence). \n",
    "\n",
    "2 - **Base de données \"Correction des Candidats\"** : répertorie l'ensemble des erreurs faites par les modèles de traduction. Un expert humain a annoté pour chaque traduction candidate de chaque système les erreurs de traduction, en indiquant pour chaque erreur son type et sa sévérité, c'est à dire s'il s'agit d'une faute importante ou non. \n",
    "\n",
    "Ici, le MQM pour chaque traduction candidate se calcule comme la somme sur toutes les erreurs identifiées des poids associés à leur sévérité. Les poids sont donc à percevoir comme des pénalités, où le score de la traduction se voit décrémenté d'une certaine valeur pour chaque erreur commise. Formellement, on peut écrire : \n",
    "\n",
    "\\begin{equation}\n",
    "MQM_{hyp} = - \\sum_{error \\in Errors} w_{error} \n",
    "\\end{equation}\n",
    "\n",
    "Le barème des poids par type d'erreur provient du concours WMT 2021, et deux tableaux récapitulatifs provenant de l'article *\"Results of the WMT21 Metrics Shared Task: Evaluating Metrics with Expert-based Human Evaluations on TED and News Domain\"* (https://aclanthology.org/2021.wmt-1.73/) dresse une liste exhaustive de ceux ci. La table 2 (Google MQM) est utilisée pour les paires *English-German* : **ende** et *Chinese-English* : **zhen**. La table 3 (Unlabel MQM) est utilisée pour la paire *English-Russian* : **enru**."
   ]
  },
  {
   "cell_type": "markdown",
   "id": "d7d59021",
   "metadata": {},
   "source": [
    "### I.1 - *English-German* (**ende**) et *Chinese-English* (**zhen**) : **Google's MQM error**"
   ]
  },
  {
   "cell_type": "markdown",
   "id": "8def95e8",
   "metadata": {},
   "source": [
    "<img src=\"./figures/google_mqm_score.png\" alt=\"Employee data\" width=\"250\" height=\"250\" title=\"Employee Data title\">"
   ]
  },
  {
   "cell_type": "markdown",
   "id": "5d7cc09d",
   "metadata": {},
   "source": [
    "### I.2 - *English-Russian* (**enru**) : **Unlabel's MQM error**"
   ]
  },
  {
   "cell_type": "markdown",
   "id": "8d4b025f",
   "metadata": {},
   "source": [
    "<img src=\"./figures/unlabel_mqm_score.png\" alt=\"Employee data\" width=\"300\" height=\"300\" title=\"Employee Data title\">"
   ]
  },
  {
   "cell_type": "markdown",
   "id": "45833b62",
   "metadata": {},
   "source": [
    "### I.3 - Classe WMT22 pour Calcul des scores"
   ]
  },
  {
   "cell_type": "markdown",
   "id": "2fd900bd",
   "metadata": {},
   "source": [
    "L'ensemble des fonctions permettant de calculer les MQM scores pour les trois paires de traductions sont à retrouver dans **/code/data_processing** : \n",
    "- **MQM_google_score** : calcul des MQM scores pour la partie I.1\n",
    "- **MQM_unlabel_score** : calcul des MQM scores pour la partie I.2\n",
    "- **data_golden_scores** : formation des bases de données de traductions annotées des scores MQM, et enregistrement sous le nom WMT22_w_golden_scores_sltl\n",
    "- **read_data** : lecture de la base de données déjà annotée des scores (pour éviter le recalcul des scores à chaque session de travail)."
   ]
  },
  {
   "cell_type": "markdown",
   "id": "107551dd",
   "metadata": {},
   "source": [
    "## II - Création base avec Golden Scores"
   ]
  },
  {
   "cell_type": "code",
   "execution_count": 13,
   "id": "bdf3b2ac",
   "metadata": {},
   "outputs": [
    {
     "name": "stdout",
     "output_type": "stream",
     "text": [
      "The autoreload extension is already loaded. To reload it, use:\n",
      "  %reload_ext autoreload\n"
     ]
    }
   ],
   "source": [
    "# IMPORTS :\n",
    "import numpy as np\n",
    "from nltk.tokenize import TweetTokenizer\n",
    "import matplotlib.pyplot as plt\n",
    "plt.style.use('ggplot')\n",
    "import pandas as pd\n",
    "import seaborn as sns\n",
    "import sys\n",
    "\n",
    "# FUNCTIONS / CLASSES :\n",
    "%load_ext autoreload\n",
    "%autoreload 2\n",
    "sys.path.append(\"./code\")\n",
    "from data_processing import WMT22\n",
    "\n",
    "## DICTIONNAIRE DES COUPLES DE TRADUCTIONS :\n",
    "sl_tls = {\n",
    "    \"ende\" : \"English-German\",\n",
    "    \"enru\" : \"English-Russian\",\n",
    "    \"zhen\" : \"Chinese-English\" \n",
    "}"
   ]
  },
  {
   "cell_type": "code",
   "execution_count": 2,
   "id": "bca6b63d",
   "metadata": {},
   "outputs": [
    {
     "name": "stdout",
     "output_type": "stream",
     "text": [
      "English-German  :  32190  observations\n"
     ]
    },
    {
     "name": "stderr",
     "output_type": "stream",
     "text": [
      "/Users/henriup/Desktop/project_nlp/./code/data_processing.py:145: ParserWarning: Length of header or names does not match length of data. This leads to a loss of data with index_col=False.\n",
      "  df_rates = pd.read_table(\"./data/generalMT2022/\" + sl_tl + \"/mqm_generalMT2022_\" + sl_tl + \".tsv\",\n"
     ]
    },
    {
     "name": "stdout",
     "output_type": "stream",
     "text": [
      "English-Russian  :  32348  observations\n",
      "Chinese-English  :  35188  observations\n"
     ]
    }
   ],
   "source": [
    "## PARCOURS DES COUPLES DE TRADUCTION POSSIBLES :\n",
    "for key in sl_tls.keys() :\n",
    "    \n",
    "    val = sl_tls[key]\n",
    "    \n",
    "    ## ACCES AUX DONNEES DE TRAIN ET DEV :\n",
    "    df = WMT22.data_golden_scores(sl_tl = key)\n",
    "    \n",
    "    ## NOMBRE D'OBSERVATIONS :\n",
    "    print(val , \" : \" , len(df) , \" observations\" )\n",
    "    \n"
   ]
  },
  {
   "cell_type": "markdown",
   "id": "e45f1e34",
   "metadata": {},
   "source": [
    "## III - Lecture des données"
   ]
  },
  {
   "cell_type": "code",
   "execution_count": 3,
   "id": "44491a43",
   "metadata": {},
   "outputs": [
    {
     "name": "stdout",
     "output_type": "stream",
     "text": [
      "English-German  :  32190  observations\n",
      "                                                     ref  \\\n",
      "25591  Aber sie schilderten mir, wie seine Hose zu ru...   \n",
      "9099   Im Rahmen des ursprünglichen Atomabkommens, da...   \n",
      "7863   Wenn die Synchronisierung abgeschlossen ist, t...   \n",
      "26530  HQV® Videoverarbeitung: HQV-Verarbeitung (Holl...   \n",
      "4582   Ich habe versucht, das durch Löschen der App z...   \n",
      "20041  Russland hat gegen ihre Ernennung als umfassen...   \n",
      "16406  Wenn man sich Fälle wie die katholische Kirche...   \n",
      "1149   Ihr Lesegerätbildschirm wird schwarz, und der ...   \n",
      "31166  Viele Leute, die Trans-Menschen hassen, hassen...   \n",
      "28560  Mehrere Seitenverhältnis-Optionen: 4x3 oder 16...   \n",
      "\n",
      "                                                     hyp  score  \n",
      "25591  Aber mir wurde gesagt, dass seine Hose zu fall...    0.0  \n",
      "9099   Im Rahmen des ursprünglichen Atomabkommens, da...    0.0  \n",
      "7863   Tippen Sie nach Abschluss der Synchronisierung...   -1.0  \n",
      "26530  HQV® Video Processing - Die HQV-Verarbeitung (...  -17.1  \n",
      "4582   Ich habe versucht, dies zu beheben, indem ich ...    0.0  \n",
      "20041  Russland hat ihr Veto gegen ihre Ernennung als...    0.0  \n",
      "16406  Betrachtet man Fälle wie die katholische Kirch...    0.0  \n",
      "1149   Ihr eReader-Bildschirm wird schwarz und der Wi...    0.0  \n",
      "31166  Viele Leute, die Trans-Personen hassen, hassen...   -1.0  \n",
      "28560  Auswahl mehrerer Seitenverhältnisse - 4x3 oder...    0.0  \n",
      "\n",
      "\n",
      "English-Russian  :  32348  observations\n",
      "                                                     ref  \\\n",
      "18902  «Нам нужно больше истинных христиан в Сенате, ...   \n",
      "21270  Как я уже говорил, мое психическое здоровье не...   \n",
      "7893       Вы делаете первый заказ с веб-сайта #PRS_ORG#   \n",
      "19150  Регулирующий орган Германии приостановил проце...   \n",
      "31270  Теперь я просто подготовлю для Вас возвратную ...   \n",
      "30197  Нажмите и удерживайте кнопку питания, пока не ...   \n",
      "24584                  Точная формулировка не требуется.   \n",
      "26017  Если вы запрашиваете доставку на следующий ден...   \n",
      "15886  Ответ. Если вы находитесь в Великобритании, мы...   \n",
      "16533  Мы оставляем за собой право устанавливать огра...   \n",
      "\n",
      "                                                     hyp  score  \n",
      "18902  «Нужно больше смелых христиан, чтобы противост...      0  \n",
      "21270  Как я уже сказал, мое психическое здоровье не ...      0  \n",
      "7893   и сделать свою первую покупку с веб-сайта «PRS...     -1  \n",
      "19150  Регулирующий орган Германии приостановил проце...      0  \n",
      "31270  Я просто организую для вас ярлык возврата сейчас.     -1  \n",
      "30197  Нажимайте и удерживайте кнопку питания до тех ...     -2  \n",
      "24584                          Правильный язык не нужен.      0  \n",
      "26017  Если вам требуется доставка на следующий день,...      0  \n",
      "15886  A. Если вы находитесь в Великобритании, у нас ...    -17  \n",
      "16533  Мы оставляем за собой право устанавливать огра...      0  \n",
      "\n",
      "\n",
      "Chinese-English  :  35188  observations\n",
      "                                                     ref  \\\n",
      "25182  In the past, many things about women were supp...   \n",
      "12942  Pinching philtrum has no effect at all if a pe...   \n",
      "12982  As for why the female leading role acts like a...   \n",
      "8177   College exam is the baton of college education...   \n",
      "24915  “One of the reasons is that the manufacturers ...   \n",
      "14009                               Still not delivered.   \n",
      "10155                                            Thanks.   \n",
      "9585   Here is the complete list of all the finalists...   \n",
      "7392   This type of smart operating lamp has been tri...   \n",
      "31042  The US suppresses China’s chips industry and r...   \n",
      "\n",
      "                                                     hyp  score  \n",
      "25182  In the past, many things about women were supp...    0.0  \n",
      "12942  If a person has a sudden cardiac arrest, his b...    0.0  \n",
      "12982  As for the fact that the hostess is clearly no...   -1.0  \n",
      "8177   Exams are the baton of university education. S...    0.0  \n",
      "24915  One of the reasons is that Chinese manufacture...    0.0  \n",
      "14009                                  It hasn't arrived    0.0  \n",
      "10155                                          Thank you    0.0  \n",
      "9585   Here's the full list of finalists in each cate...    0.0  \n",
      "7392   This type of smart operating lamp has been tri...    0.0  \n",
      "31042  The US emperor suppressed China's chip industr...    0.0  \n",
      "\n",
      "\n"
     ]
    }
   ],
   "source": [
    "## PARCOURS DES COUPLES DE TRADUCTION POSSIBLES :\n",
    "for key in sl_tls.keys() :\n",
    "    \n",
    "    val = sl_tls[key]\n",
    "    \n",
    "    df = WMT22.read_data(sl_tl = key)\n",
    "    \n",
    "    ## NOMBRE D'OBSERVATIONS :\n",
    "    print(val , \" : \" , len(df) , \" observations\" )\n",
    "    \n",
    "    print(df.sample(10)[[\"ref\", \"hyp\", \"score\"]])\n",
    "    \n",
    "    print(\"\\n\")"
   ]
  },
  {
   "cell_type": "markdown",
   "id": "010e45be",
   "metadata": {},
   "source": [
    "## IV - Visualisations"
   ]
  },
  {
   "cell_type": "markdown",
   "id": "1bc0696e",
   "metadata": {},
   "source": [
    "### 1 - Number of segments per translation pair"
   ]
  },
  {
   "cell_type": "code",
   "execution_count": 20,
   "id": "0fda5ee2",
   "metadata": {},
   "outputs": [],
   "source": [
    "num_segments = []\n",
    "avg_score = []\n",
    "mean_tokens = []\n",
    "\n",
    "for key in sl_tls.keys() :\n",
    "    \n",
    "    val = sl_tls[key]\n",
    "    \n",
    "    ## ACCES AUX DONNEES DE TRAIN ET DEV :\n",
    "    df = WMT22.read_data(sl_tl = key)\n",
    "    \n",
    "    num_segments.append(len(df.seg_id.unique()))\n",
    "    avg_score.append(df.score.mean())\n",
    "    \n",
    "    tokens = df.apply(lambda x : len(TweetTokenizer().tokenize(x.hyp)), axis = 1)\n",
    "    mean_tokens.append(tokens.mean())"
   ]
  },
  {
   "cell_type": "code",
   "execution_count": 21,
   "id": "627dda01",
   "metadata": {},
   "outputs": [],
   "source": [
    "res = pd.DataFrame(data = {\n",
    "    \"sl-tl\" : sl_tls.keys(),\n",
    "    \"num-segments\" : num_segments, \n",
    "    \"avg-hyps-len\" : mean_tokens,\n",
    "    \"avg-score\" : avg_score,\n",
    "}).set_index(\"sl-tl\")"
   ]
  },
  {
   "cell_type": "code",
   "execution_count": 22,
   "id": "b27f7662",
   "metadata": {},
   "outputs": [
    {
     "data": {
      "text/html": [
       "<div>\n",
       "<style scoped>\n",
       "    .dataframe tbody tr th:only-of-type {\n",
       "        vertical-align: middle;\n",
       "    }\n",
       "\n",
       "    .dataframe tbody tr th {\n",
       "        vertical-align: top;\n",
       "    }\n",
       "\n",
       "    .dataframe thead th {\n",
       "        text-align: right;\n",
       "    }\n",
       "</style>\n",
       "<table border=\"1\" class=\"dataframe\">\n",
       "  <thead>\n",
       "    <tr style=\"text-align: right;\">\n",
       "      <th></th>\n",
       "      <th>num-segments</th>\n",
       "      <th>avg-hyps-len</th>\n",
       "      <th>avg-score</th>\n",
       "    </tr>\n",
       "    <tr>\n",
       "      <th>sl-tl</th>\n",
       "      <th></th>\n",
       "      <th></th>\n",
       "      <th></th>\n",
       "    </tr>\n",
       "  </thead>\n",
       "  <tbody>\n",
       "    <tr>\n",
       "      <th>ende</th>\n",
       "      <td>2027</td>\n",
       "      <td>19.649550</td>\n",
       "      <td>-0.749637</td>\n",
       "    </tr>\n",
       "    <tr>\n",
       "      <th>enru</th>\n",
       "      <td>2027</td>\n",
       "      <td>18.073946</td>\n",
       "      <td>-1.766632</td>\n",
       "    </tr>\n",
       "    <tr>\n",
       "      <th>zhen</th>\n",
       "      <td>1875</td>\n",
       "      <td>29.278049</td>\n",
       "      <td>-1.767983</td>\n",
       "    </tr>\n",
       "  </tbody>\n",
       "</table>\n",
       "</div>"
      ],
      "text/plain": [
       "       num-segments  avg-hyps-len  avg-score\n",
       "sl-tl                                       \n",
       "ende           2027     19.649550  -0.749637\n",
       "enru           2027     18.073946  -1.766632\n",
       "zhen           1875     29.278049  -1.767983"
      ]
     },
     "execution_count": 22,
     "metadata": {},
     "output_type": "execute_result"
    }
   ],
   "source": [
    "res"
   ]
  },
  {
   "cell_type": "code",
   "execution_count": null,
   "id": "9d19fbd8",
   "metadata": {},
   "outputs": [],
   "source": []
  }
 ],
 "metadata": {
  "kernelspec": {
   "display_name": "Python 3 (ipykernel)",
   "language": "python",
   "name": "python3"
  },
  "language_info": {
   "codemirror_mode": {
    "name": "ipython",
    "version": 3
   },
   "file_extension": ".py",
   "mimetype": "text/x-python",
   "name": "python",
   "nbconvert_exporter": "python",
   "pygments_lexer": "ipython3",
   "version": "3.9.15"
  }
 },
 "nbformat": 4,
 "nbformat_minor": 5
}
