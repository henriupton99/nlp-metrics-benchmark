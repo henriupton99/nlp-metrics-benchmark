{
 "cells": [
  {
   "cell_type": "markdown",
   "id": "64735397",
   "metadata": {},
   "source": [
    "# Calcul des \"*Golden Scores*\""
   ]
  },
  {
   "cell_type": "markdown",
   "id": "e673beb9",
   "metadata": {},
   "source": [
    "## I - Introduction"
   ]
  },
  {
   "attachments": {},
   "cell_type": "markdown",
   "id": "fd11f1a2",
   "metadata": {},
   "source": [
    "L'idée principale du projet est d'évaluer des métriques qui mesurent la performance de systèmes de traduction. Un des premiers critères à considérer est leur corrélation avec le jugement humain. Les données du WMT22 nous permettent d'affecter un score humain à chaque traduction candidate des systèmes considérés via le calcul des scores **MQM** (Multidimensional Quality Metrics). Le **MQM** est un type de **Golden Score** car il correspond à un score basé sur les erreurs identifiées par les experts humains.\n",
    "\n",
    "Nous disposons de trois paires de langages source (**sl** pour \"source langage\") et langages cibles (**tl** pour \"target langage\") :\n",
    "\n",
    "- *English-German* : **ende**\n",
    "- *Chinese-English* : **zhen**\n",
    "- *English-Russian* : **enru**\n",
    "\n",
    "Pour chacune de ces trois paires, nous disposons de deux bases de données issues du GitHub Google MQM Human Evaluation (https://github.com/google/wmt-mqm-human-evaluation) :\n",
    "\n",
    "1 - **Base de données \"Liste Candidats\"** : répertorie les traductions de différents modèles de langage (**hyp** pour hypothèse), les phrases source (**source**), les traductions de référence établies par des experts (**ref** pour référence). \n",
    "\n",
    "2 - **Base de données \"Correction des Candidats\"** : répertorie l'ensemble des erreurs faites par les modèles de traduction. Un expert humain a annoté pour chaque traduction candidate de chaque système les erreurs de traduction, en indiquant pour chaque erreur son type et sa sévérité, c'est à dire s'il s'agit d'une faute importante ou non. \n",
    "\n",
    "Ici, le MQM pour chaque traduction candidate se calcule comme la somme sur toutes les erreurs identifiées des poids associés à leur sévérité. Les poids sont donc à percevoir comme des pénalités, où le score de la traduction se voit décrémenté d'une certaine valeur pour chaque erreur commise. Formellement, on peut écrire : \n",
    "\n",
    "\\begin{equation}\n",
    "MQM_{hyp} = - \\sum_{error \\in Errors} w_{error} \n",
    "\\end{equation}\n",
    "\n",
    "Le barème des poids par type d'erreur provient du concours WMT 2021, et deux tableaux récapitulatifs provenant de l'article *\"Results of the WMT21 Metrics Shared Task: Evaluating Metrics with Expert-based Human Evaluations on TED and News Domain\"* (https://aclanthology.org/2021.wmt-1.73/) dresse une liste exhaustive de ceux ci. La table 2 (Google MQM) est utilisée pour les paires *English-German* : **ende** et *Chinese-English* : **zhen**. La table 3 (Unlabel MQM) est utilisée pour la paire *English-Russian* : **enru**."
   ]
  },
  {
   "cell_type": "markdown",
   "id": "d7d59021",
   "metadata": {},
   "source": [
    "### I.1 - *English-German* (**ende**) et *Chinese-English* (**zhen**) : **Google's MQM error**"
   ]
  },
  {
   "cell_type": "markdown",
   "id": "8def95e8",
   "metadata": {},
   "source": [
    "<img src=\"./figures/google_mqm_score.png\" alt=\"Employee data\" width=\"250\" height=\"250\" title=\"Employee Data title\">"
   ]
  },
  {
   "cell_type": "markdown",
   "id": "5d7cc09d",
   "metadata": {},
   "source": [
    "### I.2 - *English-Russian* (**enru**) : **Unlabel's MQM error**"
   ]
  },
  {
   "cell_type": "markdown",
   "id": "8d4b025f",
   "metadata": {},
   "source": [
    "<img src=\"./figures/unlabel_mqm_score.png\" alt=\"Employee data\" width=\"300\" height=\"300\" title=\"Employee Data title\">"
   ]
  },
  {
   "cell_type": "markdown",
   "id": "45833b62",
   "metadata": {},
   "source": [
    "### I.3 - Classe WMT22 pour Calcul des scores"
   ]
  },
  {
   "cell_type": "markdown",
   "id": "2fd900bd",
   "metadata": {},
   "source": [
    "L'ensemble des fonctions permettant de calculer les MQM scores pour les trois paires de traductions sont à retrouver dans **/code/data_processing** : \n",
    "- **MQM_google_score** : calcul des MQM scores pour la partie I.1\n",
    "- **MQM_unlabel_score** : calcul des MQM scores pour la partie I.2\n",
    "- **data_golden_scores** : formation des bases de données de traductions annotées des scores MQM, et enregistrement sous le nom WMT22_w_golden_scores_sltl\n",
    "- **read_data** : lecture de la base de données déjà annotée des scores (pour éviter le recalcul des scores à chaque session de travail)."
   ]
  },
  {
   "cell_type": "markdown",
   "id": "107551dd",
   "metadata": {},
   "source": [
    "## II - Création base avec Golden Scores"
   ]
  },
  {
   "cell_type": "code",
   "execution_count": 126,
   "id": "bdf3b2ac",
   "metadata": {},
   "outputs": [
    {
     "name": "stdout",
     "output_type": "stream",
     "text": [
      "The autoreload extension is already loaded. To reload it, use:\n",
      "  %reload_ext autoreload\n"
     ]
    }
   ],
   "source": [
    "# IMPORTS :\n",
    "import numpy as np\n",
    "import matplotlib.pyplot as plt\n",
    "plt.style.use('ggplot')\n",
    "import pandas as pd\n",
    "import seaborn as sns\n",
    "import sys\n",
    "\n",
    "# FUNCTIONS / CLASSES :\n",
    "%load_ext autoreload\n",
    "%autoreload 2\n",
    "sys.path.append(\"./code\")\n",
    "from data_processing import WMT22\n",
    "\n",
    "## DICTIONNAIRE DES COUPLES DE TRADUCTIONS :\n",
    "sl_tls = {\n",
    "    \"ende\" : \"English-German\",\n",
    "    \"enru\" : \"English-Russian\",\n",
    "    \"zhen\" : \"Chinese-English\" \n",
    "}"
   ]
  },
  {
   "cell_type": "code",
   "execution_count": 127,
   "id": "bca6b63d",
   "metadata": {},
   "outputs": [
    {
     "name": "stdout",
     "output_type": "stream",
     "text": [
      "English-German  :  32190  observations\n"
     ]
    },
    {
     "name": "stderr",
     "output_type": "stream",
     "text": [
      "/Users/henriup/Desktop/project_nlp/./code/data_processing.py:145: ParserWarning: Length of header or names does not match length of data. This leads to a loss of data with index_col=False.\n",
      "  df_rates = pd.read_table(\"./data/generalMT2022/\" + sl_tl + \"/mqm_generalMT2022_\" + sl_tl + \".tsv\",\n"
     ]
    },
    {
     "name": "stdout",
     "output_type": "stream",
     "text": [
      "English-Russian  :  32348  observations\n",
      "Chinese-English  :  35188  observations\n"
     ]
    }
   ],
   "source": [
    "## PARCOURS DES COUPLES DE TRADUCTION POSSIBLES :\n",
    "for key in sl_tls.keys() :\n",
    "    \n",
    "    val = sl_tls[key]\n",
    "    \n",
    "    ## ACCES AUX DONNEES DE TRAIN ET DEV :\n",
    "    df = WMT22.data_golden_scores(sl_tl = key)\n",
    "    \n",
    "    ## NOMBRE D'OBSERVATIONS :\n",
    "    print(val , \" : \" , len(df) , \" observations\" )\n",
    "    \n"
   ]
  },
  {
   "cell_type": "markdown",
   "id": "e45f1e34",
   "metadata": {},
   "source": [
    "## III - Lecture des données"
   ]
  },
  {
   "cell_type": "code",
   "execution_count": 136,
   "id": "44491a43",
   "metadata": {},
   "outputs": [
    {
     "name": "stdout",
     "output_type": "stream",
     "text": [
      "English-German  :  32190  observations\n",
      "                                                     ref  \\\n",
      "9171   - Schließen Sie das Wandladegerät (nicht im Li...   \n",
      "15065  Melden Sie sich einfach bei Ihrem Konto an und...   \n",
      "4446        Wahrscheinlich haben wir, wonach Sie suchen!   \n",
      "28069  Einige von uns müssen zumindest etwas Komfort ...   \n",
      "22613                      Wir danken für Ihren Einkauf.   \n",
      "15446  Das kann das Ergebnis ihrer oder meiner Komple...   \n",
      "27857  Um Ihren #PRS_ORG# auf die Werkseinstellungen ...   \n",
      "16159  Ein bahnbrechendes Element ihres Projekts ist ...   \n",
      "25984  Das kann ihnen ernsthaft schaden und ein Tier ...   \n",
      "1143   Drücken und halten Sie die Power-Taste, bis si...   \n",
      "\n",
      "                                                     hyp  score  \n",
      "9171   - Schließen Sie das Ladegerät (nicht im Liefer...    0.0  \n",
      "15065  Melden Sie sich einfach bei Ihrem Konto an und...    0.0  \n",
      "4446    Wir haben wahrscheinlich das, wonach Sie suchen!    0.0  \n",
      "28069  Einige von uns müssen zumindest etwas Bequemli...    0.0  \n",
      "22613                 Wir danken Ihnen für Ihren Brauch.    0.0  \n",
      "15446  Das könnte das Ergebnis ihrer Komplexe oder me...    0.0  \n",
      "27857  So führen Sie einen Werksreset auf Ihrem #PRS_...    0.0  \n",
      "16159  Ein bahnbrechendes Element ihres Projekts ist ...    0.0  \n",
      "25984  Dies kann ein Tier ernsthaft schädigen und sog...    0.0  \n",
      "1143   Halten Sie die Ein-/Aus-Taste gedrückt, bis di...   -1.0  \n",
      "\n",
      "\n",
      "English-Russian  :  32348  observations\n",
      "                                                     ref  \\\n",
      "10123  Один из них был довольно печально известен в г...   \n",
      "31593  Международные отправления обычно доставляются ...   \n",
      "20593  Вниманию продавцов — получите хостинг шаблонны...   \n",
      "15443  Джерри: да-да-да, это твоя вина, у молодежи не...   \n",
      "13241   Экран стал неактивным и вы видите обложку книги?   \n",
      "1662            Вам нужно оплатить через систему Paypal.   \n",
      "9944                  Я даже не знаю, с чего тут начать.   \n",
      "2729   Мы отозвали его, и теперь система ищет нового ...   \n",
      "15173  Какой посыл это дает восприимчивому, очень вни...   \n",
      "28463  Поэтому вы можете разместить новый заказ вмест...   \n",
      "\n",
      "                                                     hyp score  \n",
      "10123  Один из них был довольно известен в городе тем...  -0.0  \n",
      "31593  Международные отправления обычно доставляются ...  -5.1  \n",
      "20593  Вниманию Продавцов - Получите Шаблоны Для Разм...  None  \n",
      "15443  Джерри: blah blah blah your fault, damn kids h...  None  \n",
      "13241          Экран затемнен и вы видите обложку книги?  -0.0  \n",
      "1662            Вы должны оплатить через систему Paypal.  None  \n",
      "9944                Я даже не знаю, с чего начать здесь.  -2.0  \n",
      "2729   Мы отменили его назначение, и теперь система и...  None  \n",
      "15173  Какое сообщение это посылает в восприимчивый, ...  -1.0  \n",
      "28463    Поэтому вместо этого можно сделать новый заказ.  -1.0  \n",
      "\n",
      "\n",
      "Chinese-English  :  35188  observations\n",
      "                                                     ref  \\\n",
      "22465  Refined Olive Oil can be divided into two cate...   \n",
      "3715   According to Chen Chunming, leader of Guidance...   \n",
      "9939        Nice taste, enthusiastic service, great meat   \n",
      "2855   Please help me cancel it; every order needs to...   \n",
      "23398  The funds for these projects mainly came from ...   \n",
      "2369   Upon the arriving of the “Double Twelve” sale,...   \n",
      "29958                        #PRS_ORG# is not delivered.   \n",
      "11457  The packaging of the bagged water in the box i...   \n",
      "27497  I tried on two outfits because I didn’t know w...   \n",
      "18693  According to report from the Associated Press,...   \n",
      "\n",
      "                                                     hyp  score  \n",
      "22465  Refined olive oil can be divided into two levels:    0.0  \n",
      "3715   Chen Chunming, head of the Chinese guidance an...    0.0  \n",
      "9939                 Taste Praise Service Warm Meat Good    0.0  \n",
      "2855   Please help me to cancel, each order will be r...    0.0  \n",
      "23398  Funding for these projects came mainly from ca...    0.0  \n",
      "2369   When Double Twelve is coming, Home Credit remi...   -6.0  \n",
      "29958         None of the #PRS_ORG # have been delivered   -0.1  \n",
      "11457  The water in the box is 100% recyclable, which...    0.0  \n",
      "27497  Because I didn't know what style I wanted, I t...    0.0  \n",
      "18693  With the spread of the Omick variation in Sout...  -20.0  \n",
      "\n",
      "\n"
     ]
    }
   ],
   "source": [
    "## PARCOURS DES COUPLES DE TRADUCTION POSSIBLES :\n",
    "for key in sl_tls.keys() :\n",
    "    \n",
    "    val = sl_tls[key]\n",
    "    \n",
    "    ## ACCES AUX DONNEES DE TRAIN ET DEV :\n",
    "    df = WMT22.read_data(sl_tl = key)\n",
    "    \n",
    "    ## NOMBRE D'OBSERVATIONS :\n",
    "    print(val , \" : \" , len(df) , \" observations\" )\n",
    "    \n",
    "    print(df.sample(10)[[\"ref\", \"hyp\", \"score\"]])\n",
    "    \n",
    "    print(\"\\n\")"
   ]
  }
 ],
 "metadata": {
  "kernelspec": {
   "display_name": "Python 3 (ipykernel)",
   "language": "python",
   "name": "python3"
  },
  "language_info": {
   "codemirror_mode": {
    "name": "ipython",
    "version": 3
   },
   "file_extension": ".py",
   "mimetype": "text/x-python",
   "name": "python",
   "nbconvert_exporter": "python",
   "pygments_lexer": "ipython3",
   "version": "3.9.15"
  }
 },
 "nbformat": 4,
 "nbformat_minor": 5
}
