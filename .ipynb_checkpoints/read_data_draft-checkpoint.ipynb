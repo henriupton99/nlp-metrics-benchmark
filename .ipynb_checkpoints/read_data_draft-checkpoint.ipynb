{
 "cells": [
  {
   "cell_type": "markdown",
   "id": "ca3a776c",
   "metadata": {},
   "source": [
    "# Exploration des données"
   ]
  },
  {
   "cell_type": "code",
   "execution_count": 1,
   "id": "69a9d066",
   "metadata": {},
   "outputs": [],
   "source": [
    "# IMPORTS :\n",
    "import pandas as pd\n",
    "import tarfile"
   ]
  },
  {
   "cell_type": "code",
   "execution_count": 17,
   "id": "fbf6f2b0",
   "metadata": {},
   "outputs": [],
   "source": [
    "## DICTIONNAIRE DES COUPLES DE TRADUCTIONS :\n",
    "sl_tls = {\n",
    "    \"English-German\" : \"en-de\",\n",
    "    \"English-Chinese\" : \"en-zh\",\n",
    "    \"Romanian-English\" : \"ro-en\",\n",
    "    \"Estonian-English\" : \"et-en\",\n",
    "    \"Nepalese-English\" : \"ne-en\",\n",
    "    \"Sinhala-English\" : \"si-en\"\n",
    "}"
   ]
  },
  {
   "cell_type": "markdown",
   "id": "d8314a81",
   "metadata": {},
   "source": [
    "## Accès aux données "
   ]
  },
  {
   "cell_type": "code",
   "execution_count": 30,
   "id": "acbb5eff",
   "metadata": {},
   "outputs": [
    {
     "name": "stdout",
     "output_type": "stream",
     "text": [
      "English-German :\n",
      "DEV SIZE :  1000\n",
      "TRAIN SIZE :  7000\n",
      "TEST SIZE :  1000\n",
      "\n",
      "\n",
      "English-Chinese :\n",
      "DEV SIZE :  996\n",
      "TRAIN SIZE :  6974\n",
      "TEST SIZE :  1000\n",
      "\n",
      "\n",
      "Romanian-English :\n",
      "DEV SIZE :  905\n",
      "TRAIN SIZE :  6776\n",
      "TEST SIZE :  1000\n",
      "\n",
      "\n",
      "Estonian-English :\n",
      "DEV SIZE :  1000\n",
      "TRAIN SIZE :  7000\n",
      "TEST SIZE :  1000\n",
      "\n",
      "\n",
      "Nepalese-English :\n",
      "DEV SIZE :  946\n",
      "TRAIN SIZE :  6180\n",
      "TEST SIZE :  1000\n",
      "\n",
      "\n",
      "Sinhala-English :\n",
      "DEV SIZE :  1000\n",
      "TRAIN SIZE :  6967\n",
      "TEST SIZE :  1000\n",
      "\n",
      "\n"
     ]
    }
   ],
   "source": [
    "## PARCOURS DES COUPLES DE TRADUCTION POSSIBLES :\n",
    "for key in sl_tls.keys() :\n",
    "    \n",
    "    val = sl_tls[key]\n",
    "    \n",
    "    print(key, \":\")\n",
    "    \n",
    "    ## ACCES AUX DONNEES DE TRAIN ET DEV :\n",
    "    with tarfile.open(\"data/\"+val+\".tar.gz\", \"r:*\") as tar:\n",
    "        \n",
    "        separator = \"\\t\"\n",
    "        \n",
    "        df_dev = pd.read_csv(tar.extractfile(\"\"+val+'/dev.'+val.replace(\"-\",\"\")+'.df.short.tsv'),\n",
    "                            on_bad_lines='skip',\n",
    "                            sep = separator,\n",
    "                            index_col = \"index\")\n",
    "        \n",
    "        df_train = pd.read_csv(tar.extractfile(\"\"+val+'/train.'+val.replace(\"-\",\"\")+'.df.short.tsv'),\n",
    "                            on_bad_lines='skip',\n",
    "                            sep = separator,\n",
    "                            index_col = \"index\")\n",
    "        \n",
    "        print(\"DEV SIZE : \" , len(df_dev))\n",
    "        print(\"TRAIN SIZE : \" , len(df_train))\n",
    "        del df_dev\n",
    "        del df_train\n",
    "    \n",
    "    ## ACCES AUX DONNEES DE TEST :\n",
    "    with tarfile.open(\"data/\"+val+\"_test.tar.gz\", \"r:*\") as tar:\n",
    "        \n",
    "        separator = \"\\t\"\n",
    "        \n",
    "        df_test = pd.read_csv(tar.extractfile(\"\"+ val+\"/test20.\"+val.replace(\"-\", \"\")+\".df.short.tsv\"),\n",
    "                            on_bad_lines='skip',\n",
    "                            sep = separator,\n",
    "                            index_col = \"index\")\n",
    "        \n",
    "        print(\"TEST SIZE : \" , len(df_test))\n",
    "        del df_test\n",
    "    \n",
    "    print(\"\\n\")\n",
    "    \n"
   ]
  },
  {
   "cell_type": "code",
   "execution_count": null,
   "id": "48258052",
   "metadata": {},
   "outputs": [],
   "source": []
  }
 ],
 "metadata": {
  "kernelspec": {
   "display_name": "Python 3 (ipykernel)",
   "language": "python",
   "name": "python3"
  },
  "language_info": {
   "codemirror_mode": {
    "name": "ipython",
    "version": 3
   },
   "file_extension": ".py",
   "mimetype": "text/x-python",
   "name": "python",
   "nbconvert_exporter": "python",
   "pygments_lexer": "ipython3",
   "version": "3.9.15"
  }
 },
 "nbformat": 4,
 "nbformat_minor": 5
}
