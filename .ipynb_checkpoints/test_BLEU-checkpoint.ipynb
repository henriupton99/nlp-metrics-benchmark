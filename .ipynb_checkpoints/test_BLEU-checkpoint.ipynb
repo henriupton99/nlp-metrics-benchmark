{
 "cells": [
  {
   "cell_type": "markdown",
   "id": "10a2d118",
   "metadata": {},
   "source": [
    "## Test BLEU metric"
   ]
  },
  {
   "cell_type": "code",
   "execution_count": 6,
   "id": "49880768",
   "metadata": {},
   "outputs": [
    {
     "name": "stdout",
     "output_type": "stream",
     "text": [
      "The autoreload extension is already loaded. To reload it, use:\n",
      "  %reload_ext autoreload\n"
     ]
    }
   ],
   "source": [
    "# FUNCTIONS / CLASSES :\n",
    "import sys\n",
    "from nltk.tokenize import TweetTokenizer\n",
    "%load_ext autoreload\n",
    "%autoreload 2\n",
    "sys.path.append(\"./code\")\n",
    "from BLEU import Sentence_BLEU"
   ]
  },
  {
   "cell_type": "code",
   "execution_count": 8,
   "id": "53884256",
   "metadata": {},
   "outputs": [],
   "source": [
    "BLEU = Sentence_BLEU(tokenizer = TweetTokenizer())"
   ]
  },
  {
   "cell_type": "code",
   "execution_count": 14,
   "id": "4d4169ed",
   "metadata": {},
   "outputs": [],
   "source": [
    "reference = \"Je me présente je m'appelle Henri\"\n",
    "candidate = \"Je me présente je me prénomme Henri\""
   ]
  },
  {
   "cell_type": "code",
   "execution_count": 23,
   "id": "9e024ae0",
   "metadata": {},
   "outputs": [
    {
     "data": {
      "text/plain": [
       "['j e',\n",
       " 'e  ',\n",
       " '  m',\n",
       " 'm e',\n",
       " 'e  ',\n",
       " '  p',\n",
       " 'p r',\n",
       " 'r é',\n",
       " 'é s',\n",
       " 's e',\n",
       " 'e n',\n",
       " 'n t',\n",
       " 't e',\n",
       " 'e  ',\n",
       " '  j',\n",
       " 'j e',\n",
       " 'e  ',\n",
       " '  m',\n",
       " \"m '\",\n",
       " \"' a\",\n",
       " 'a p',\n",
       " 'p p',\n",
       " 'p e',\n",
       " 'e l',\n",
       " 'l l',\n",
       " 'l e',\n",
       " 'e  ',\n",
       " '  h',\n",
       " 'h e',\n",
       " 'e n',\n",
       " 'n r',\n",
       " 'r i']"
      ]
     },
     "execution_count": 23,
     "metadata": {},
     "output_type": "execute_result"
    }
   ],
   "source": [
    "BLEU.compute_n_grams(reference, n = 2)"
   ]
  },
  {
   "cell_type": "code",
   "execution_count": null,
   "id": "68704e51",
   "metadata": {},
   "outputs": [],
   "source": []
  }
 ],
 "metadata": {
  "kernelspec": {
   "display_name": "Python 3 (ipykernel)",
   "language": "python",
   "name": "python3"
  },
  "language_info": {
   "codemirror_mode": {
    "name": "ipython",
    "version": 3
   },
   "file_extension": ".py",
   "mimetype": "text/x-python",
   "name": "python",
   "nbconvert_exporter": "python",
   "pygments_lexer": "ipython3",
   "version": "3.9.15"
  }
 },
 "nbformat": 4,
 "nbformat_minor": 5
}
