{
 "cells": [
  {
   "cell_type": "markdown",
   "id": "10a2d118",
   "metadata": {},
   "source": [
    "# Test metrics on Toy Example"
   ]
  },
  {
   "cell_type": "code",
   "execution_count": 62,
   "id": "49880768",
   "metadata": {},
   "outputs": [
    {
     "name": "stdout",
     "output_type": "stream",
     "text": [
      "The autoreload extension is already loaded. To reload it, use:\n",
      "  %reload_ext autoreload\n"
     ]
    }
   ],
   "source": [
    "# FUNCTIONS / CLASSES :\n",
    "import sys\n",
    "from tqdm import tqdm\n",
    "%load_ext autoreload\n",
    "%autoreload 2\n",
    "sys.path.append(\"./code\")\n",
    "from metrics import METEOR, BLEU, NIST, WACC\n",
    "from data_processing import WMT22\n",
    "\n",
    "metrics = [METEOR, BLEU, NIST, WACC]"
   ]
  },
  {
   "cell_type": "code",
   "execution_count": 46,
   "id": "712092e0",
   "metadata": {},
   "outputs": [],
   "source": [
    "reference = \"Je me présente je m'appelle Henri\"\n",
    "good_candidate = \"Je me présente je me prénomme Henri\"\n",
    "avg_candidate = \"Bonjour mon nom est Henri\"\n",
    "bad_candidate = \"J'aime les pizzas\""
   ]
  },
  {
   "cell_type": "markdown",
   "id": "5c38e64e",
   "metadata": {},
   "source": [
    "## 1 - METEOR"
   ]
  },
  {
   "cell_type": "code",
   "execution_count": 47,
   "id": "92e0f898",
   "metadata": {},
   "outputs": [
    {
     "name": "stdout",
     "output_type": "stream",
     "text": [
      "0.5391304347826087\n",
      "0.09803921568627452\n",
      "0.0\n"
     ]
    }
   ],
   "source": [
    "print(METEOR(good_candidate, reference))\n",
    "print(METEOR(avg_candidate, reference))\n",
    "print(METEOR(bad_candidate, reference))"
   ]
  },
  {
   "cell_type": "markdown",
   "id": "df02bf77",
   "metadata": {},
   "source": [
    "## 2 - BLEU"
   ]
  },
  {
   "cell_type": "code",
   "execution_count": 48,
   "id": "bed107aa",
   "metadata": {},
   "outputs": [
    {
     "name": "stdout",
     "output_type": "stream",
     "text": [
      "0.7054014205932617\n",
      "0.1666666567325592\n",
      "0.0\n"
     ]
    }
   ],
   "source": [
    "print(BLEU(good_candidate, reference))\n",
    "print(BLEU(avg_candidate, reference))\n",
    "print(BLEU(bad_candidate, reference))"
   ]
  },
  {
   "cell_type": "markdown",
   "id": "49279663",
   "metadata": {},
   "source": [
    "## 3 - NIST"
   ]
  },
  {
   "cell_type": "code",
   "execution_count": 49,
   "id": "ae0a16a3",
   "metadata": {},
   "outputs": [
    {
     "name": "stdout",
     "output_type": "stream",
     "text": [
      "1.9656602059902528\n",
      "0.3869880158145604\n",
      "0.0\n"
     ]
    }
   ],
   "source": [
    "print(NIST(good_candidate, reference))\n",
    "print(NIST(avg_candidate, reference))\n",
    "print(NIST(bad_candidate, reference))"
   ]
  },
  {
   "cell_type": "markdown",
   "id": "513fcc6a",
   "metadata": {},
   "source": [
    "## 4 - WAcc"
   ]
  },
  {
   "cell_type": "code",
   "execution_count": 50,
   "id": "3068d518",
   "metadata": {},
   "outputs": [
    {
     "name": "stdout",
     "output_type": "stream",
     "text": [
      "0.7142857015132904\n",
      "0.0\n",
      "-1.0\n"
     ]
    }
   ],
   "source": [
    "print(WACC(good_candidate, reference))\n",
    "print(WACC(avg_candidate, reference))\n",
    "print(WACC(bad_candidate, reference))"
   ]
  },
  {
   "cell_type": "markdown",
   "id": "ab505b15",
   "metadata": {},
   "source": [
    "## Test on WMT Data"
   ]
  },
  {
   "cell_type": "code",
   "execution_count": 69,
   "id": "95d11247",
   "metadata": {},
   "outputs": [],
   "source": [
    "df = WMT22.read_data()"
   ]
  },
  {
   "cell_type": "code",
   "execution_count": 70,
   "id": "1cf6b7c0",
   "metadata": {},
   "outputs": [
    {
     "data": {
      "text/html": [
       "<div>\n",
       "<style scoped>\n",
       "    .dataframe tbody tr th:only-of-type {\n",
       "        vertical-align: middle;\n",
       "    }\n",
       "\n",
       "    .dataframe tbody tr th {\n",
       "        vertical-align: top;\n",
       "    }\n",
       "\n",
       "    .dataframe thead th {\n",
       "        text-align: right;\n",
       "    }\n",
       "</style>\n",
       "<table border=\"1\" class=\"dataframe\">\n",
       "  <thead>\n",
       "    <tr style=\"text-align: right;\">\n",
       "      <th></th>\n",
       "      <th>seg_id</th>\n",
       "      <th>sys</th>\n",
       "      <th>hyp</th>\n",
       "      <th>domain</th>\n",
       "      <th>doc</th>\n",
       "      <th>source</th>\n",
       "      <th>ref</th>\n",
       "      <th>score</th>\n",
       "      <th>sltl</th>\n",
       "    </tr>\n",
       "  </thead>\n",
       "  <tbody>\n",
       "    <tr>\n",
       "      <th>29200</th>\n",
       "      <td>911</td>\n",
       "      <td>QUARTZ_TuneReranking</td>\n",
       "      <td>Возврат товара должен быть произведен в течени...</td>\n",
       "      <td>ecommerce</td>\n",
       "      <td>ecommerce_en_24</td>\n",
       "      <td>Returns must be within 30 days of delivery in ...</td>\n",
       "      <td>Возвраты осуществляются в течение 30 дней с мо...</td>\n",
       "      <td>0.0</td>\n",
       "      <td>enru</td>\n",
       "    </tr>\n",
       "    <tr>\n",
       "      <th>1085</th>\n",
       "      <td>1102</td>\n",
       "      <td>bleu_bestmbr</td>\n",
       "      <td>Через несколько недель после того, как я верну...</td>\n",
       "      <td>social</td>\n",
       "      <td>t1_hoh4p6r</td>\n",
       "      <td>A few weeks after I returned home, I received ...</td>\n",
       "      <td>Спустя несколько недель после того, как я верн...</td>\n",
       "      <td>-3.0</td>\n",
       "      <td>enru</td>\n",
       "    </tr>\n",
       "  </tbody>\n",
       "</table>\n",
       "</div>"
      ],
      "text/plain": [
       "       seg_id                   sys  \\\n",
       "29200     911  QUARTZ_TuneReranking   \n",
       "1085     1102          bleu_bestmbr   \n",
       "\n",
       "                                                     hyp     domain  \\\n",
       "29200  Возврат товара должен быть произведен в течени...  ecommerce   \n",
       "1085   Через несколько недель после того, как я верну...     social   \n",
       "\n",
       "                   doc                                             source  \\\n",
       "29200  ecommerce_en_24  Returns must be within 30 days of delivery in ...   \n",
       "1085        t1_hoh4p6r  A few weeks after I returned home, I received ...   \n",
       "\n",
       "                                                     ref  score  sltl  \n",
       "29200  Возвраты осуществляются в течение 30 дней с мо...    0.0  enru  \n",
       "1085   Спустя несколько недель после того, как я верн...   -3.0  enru  "
      ]
     },
     "execution_count": 70,
     "metadata": {},
     "output_type": "execute_result"
    }
   ],
   "source": [
    "sample = df.sample(1000)\n",
    "sample.sample(2)"
   ]
  },
  {
   "cell_type": "code",
   "execution_count": 78,
   "id": "e65c2340",
   "metadata": {},
   "outputs": [
    {
     "name": "stderr",
     "output_type": "stream",
     "text": [
      "100%|█████████████████████████████████████████████| 4/4 [00:01<00:00,  2.94it/s]\n"
     ]
    }
   ],
   "source": [
    "for metric in tqdm(metrics):\n",
    "    \n",
    "    sample[str(metric.__name__)] = sample.apply(lambda x : metric(\n",
    "        reference = x.ref, \n",
    "        candidate = x.hyp,), axis = 1)"
   ]
  },
  {
   "cell_type": "code",
   "execution_count": 79,
   "id": "e01b5988",
   "metadata": {},
   "outputs": [
    {
     "data": {
      "text/html": [
       "<div>\n",
       "<style scoped>\n",
       "    .dataframe tbody tr th:only-of-type {\n",
       "        vertical-align: middle;\n",
       "    }\n",
       "\n",
       "    .dataframe tbody tr th {\n",
       "        vertical-align: top;\n",
       "    }\n",
       "\n",
       "    .dataframe thead th {\n",
       "        text-align: right;\n",
       "    }\n",
       "</style>\n",
       "<table border=\"1\" class=\"dataframe\">\n",
       "  <thead>\n",
       "    <tr style=\"text-align: right;\">\n",
       "      <th></th>\n",
       "      <th>score</th>\n",
       "      <th>METEOR</th>\n",
       "      <th>BLEU</th>\n",
       "      <th>NIST</th>\n",
       "      <th>WACC</th>\n",
       "    </tr>\n",
       "  </thead>\n",
       "  <tbody>\n",
       "    <tr>\n",
       "      <th>score</th>\n",
       "      <td>1.000000</td>\n",
       "      <td>0.129131</td>\n",
       "      <td>0.107183</td>\n",
       "      <td>0.035658</td>\n",
       "      <td>0.102204</td>\n",
       "    </tr>\n",
       "    <tr>\n",
       "      <th>METEOR</th>\n",
       "      <td>0.129131</td>\n",
       "      <td>1.000000</td>\n",
       "      <td>0.876642</td>\n",
       "      <td>0.728350</td>\n",
       "      <td>0.762269</td>\n",
       "    </tr>\n",
       "    <tr>\n",
       "      <th>BLEU</th>\n",
       "      <td>0.107183</td>\n",
       "      <td>0.876642</td>\n",
       "      <td>1.000000</td>\n",
       "      <td>0.777584</td>\n",
       "      <td>0.889027</td>\n",
       "    </tr>\n",
       "    <tr>\n",
       "      <th>NIST</th>\n",
       "      <td>0.035658</td>\n",
       "      <td>0.728350</td>\n",
       "      <td>0.777584</td>\n",
       "      <td>1.000000</td>\n",
       "      <td>0.636838</td>\n",
       "    </tr>\n",
       "    <tr>\n",
       "      <th>WACC</th>\n",
       "      <td>0.102204</td>\n",
       "      <td>0.762269</td>\n",
       "      <td>0.889027</td>\n",
       "      <td>0.636838</td>\n",
       "      <td>1.000000</td>\n",
       "    </tr>\n",
       "  </tbody>\n",
       "</table>\n",
       "</div>"
      ],
      "text/plain": [
       "           score    METEOR      BLEU      NIST      WACC\n",
       "score   1.000000  0.129131  0.107183  0.035658  0.102204\n",
       "METEOR  0.129131  1.000000  0.876642  0.728350  0.762269\n",
       "BLEU    0.107183  0.876642  1.000000  0.777584  0.889027\n",
       "NIST    0.035658  0.728350  0.777584  1.000000  0.636838\n",
       "WACC    0.102204  0.762269  0.889027  0.636838  1.000000"
      ]
     },
     "execution_count": 79,
     "metadata": {},
     "output_type": "execute_result"
    }
   ],
   "source": [
    "sample[[\"score\"] + [str(metric.__name__) for metric in metrics]].corr(method = \"spearman\")"
   ]
  },
  {
   "cell_type": "code",
   "execution_count": 81,
   "id": "92fd01fb",
   "metadata": {},
   "outputs": [
    {
     "data": {
      "text/html": [
       "<div>\n",
       "<style scoped>\n",
       "    .dataframe tbody tr th:only-of-type {\n",
       "        vertical-align: middle;\n",
       "    }\n",
       "\n",
       "    .dataframe tbody tr th {\n",
       "        vertical-align: top;\n",
       "    }\n",
       "\n",
       "    .dataframe thead th {\n",
       "        text-align: right;\n",
       "    }\n",
       "</style>\n",
       "<table border=\"1\" class=\"dataframe\">\n",
       "  <thead>\n",
       "    <tr style=\"text-align: right;\">\n",
       "      <th></th>\n",
       "      <th>score</th>\n",
       "      <th>METEOR</th>\n",
       "      <th>BLEU</th>\n",
       "      <th>NIST</th>\n",
       "      <th>WACC</th>\n",
       "    </tr>\n",
       "  </thead>\n",
       "  <tbody>\n",
       "    <tr>\n",
       "      <th>score</th>\n",
       "      <td>1.000000</td>\n",
       "      <td>0.100935</td>\n",
       "      <td>0.083766</td>\n",
       "      <td>0.027280</td>\n",
       "      <td>0.079863</td>\n",
       "    </tr>\n",
       "    <tr>\n",
       "      <th>METEOR</th>\n",
       "      <td>0.100935</td>\n",
       "      <td>1.000000</td>\n",
       "      <td>0.710016</td>\n",
       "      <td>0.538894</td>\n",
       "      <td>0.590097</td>\n",
       "    </tr>\n",
       "    <tr>\n",
       "      <th>BLEU</th>\n",
       "      <td>0.083766</td>\n",
       "      <td>0.710016</td>\n",
       "      <td>1.000000</td>\n",
       "      <td>0.593039</td>\n",
       "      <td>0.732003</td>\n",
       "    </tr>\n",
       "    <tr>\n",
       "      <th>NIST</th>\n",
       "      <td>0.027280</td>\n",
       "      <td>0.538894</td>\n",
       "      <td>0.593039</td>\n",
       "      <td>1.000000</td>\n",
       "      <td>0.460533</td>\n",
       "    </tr>\n",
       "    <tr>\n",
       "      <th>WACC</th>\n",
       "      <td>0.079863</td>\n",
       "      <td>0.590097</td>\n",
       "      <td>0.732003</td>\n",
       "      <td>0.460533</td>\n",
       "      <td>1.000000</td>\n",
       "    </tr>\n",
       "  </tbody>\n",
       "</table>\n",
       "</div>"
      ],
      "text/plain": [
       "           score    METEOR      BLEU      NIST      WACC\n",
       "score   1.000000  0.100935  0.083766  0.027280  0.079863\n",
       "METEOR  0.100935  1.000000  0.710016  0.538894  0.590097\n",
       "BLEU    0.083766  0.710016  1.000000  0.593039  0.732003\n",
       "NIST    0.027280  0.538894  0.593039  1.000000  0.460533\n",
       "WACC    0.079863  0.590097  0.732003  0.460533  1.000000"
      ]
     },
     "execution_count": 81,
     "metadata": {},
     "output_type": "execute_result"
    }
   ],
   "source": [
    "sample[[\"score\"] + [str(metric.__name__) for metric in metrics]].corr(method = \"kendall\")"
   ]
  },
  {
   "cell_type": "code",
   "execution_count": null,
   "id": "e4009406",
   "metadata": {},
   "outputs": [],
   "source": []
  }
 ],
 "metadata": {
  "kernelspec": {
   "display_name": "Python 3 (ipykernel)",
   "language": "python",
   "name": "python3"
  },
  "language_info": {
   "codemirror_mode": {
    "name": "ipython",
    "version": 3
   },
   "file_extension": ".py",
   "mimetype": "text/x-python",
   "name": "python",
   "nbconvert_exporter": "python",
   "pygments_lexer": "ipython3",
   "version": "3.9.15"
  }
 },
 "nbformat": 4,
 "nbformat_minor": 5
}
