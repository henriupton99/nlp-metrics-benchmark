{
 "cells": [
  {
   "cell_type": "markdown",
   "id": "10a2d118",
   "metadata": {},
   "source": [
    "# Test metrics on Toy Example"
   ]
  },
  {
   "cell_type": "code",
   "execution_count": 15,
   "id": "49880768",
   "metadata": {},
   "outputs": [
    {
     "name": "stdout",
     "output_type": "stream",
     "text": [
      "The autoreload extension is already loaded. To reload it, use:\n",
      "  %reload_ext autoreload\n"
     ]
    }
   ],
   "source": [
    "# FUNCTIONS / CLASSES :\n",
    "import sys\n",
    "%load_ext autoreload\n",
    "%autoreload 2\n",
    "sys.path.append(\"./code\")\n",
    "from metrics import METEOR, BLEU\n",
    "from data_processing import WMT22"
   ]
  },
  {
   "cell_type": "code",
   "execution_count": 16,
   "id": "712092e0",
   "metadata": {},
   "outputs": [],
   "source": [
    "reference = \"Je me présente je m'appelle Henri\"\n",
    "good_candidate = \"Je me présente je me prénomme Henri\"\n",
    "avg_candidate = \"Bonjour mon nom est Henri\"\n",
    "bad_candidate = \"J'aime les pizzas\""
   ]
  },
  {
   "cell_type": "markdown",
   "id": "5c38e64e",
   "metadata": {},
   "source": [
    "## 1 - METEOR"
   ]
  },
  {
   "cell_type": "code",
   "execution_count": 17,
   "id": "92e0f898",
   "metadata": {},
   "outputs": [
    {
     "name": "stdout",
     "output_type": "stream",
     "text": [
      "0.5391304347826087\n",
      "0.09803921568627452\n",
      "0.0\n"
     ]
    }
   ],
   "source": [
    "print(METEOR(good_candidate, reference))\n",
    "print(METEOR(avg_candidate, reference))\n",
    "print(METEOR(bad_candidate, reference))"
   ]
  },
  {
   "cell_type": "markdown",
   "id": "df02bf77",
   "metadata": {},
   "source": [
    "## 2 - BLEU"
   ]
  },
  {
   "cell_type": "code",
   "execution_count": 20,
   "id": "bed107aa",
   "metadata": {},
   "outputs": [
    {
     "name": "stdout",
     "output_type": "stream",
     "text": [
      "0.7054014205932617\n",
      "0.1666666567325592\n",
      "0.0\n"
     ]
    }
   ],
   "source": [
    "print(BLEU(good_candidate, reference))\n",
    "print(BLEU(avg_candidate, reference))\n",
    "print(BLEU(bad_candidate, reference))"
   ]
  },
  {
   "cell_type": "markdown",
   "id": "ab505b15",
   "metadata": {},
   "source": [
    "## Test on WMT Data"
   ]
  },
  {
   "cell_type": "code",
   "execution_count": 21,
   "id": "95d11247",
   "metadata": {},
   "outputs": [],
   "source": [
    "df = WMT22.read_data()"
   ]
  },
  {
   "cell_type": "code",
   "execution_count": 25,
   "id": "1cf6b7c0",
   "metadata": {},
   "outputs": [
    {
     "data": {
      "text/html": [
       "<div>\n",
       "<style scoped>\n",
       "    .dataframe tbody tr th:only-of-type {\n",
       "        vertical-align: middle;\n",
       "    }\n",
       "\n",
       "    .dataframe tbody tr th {\n",
       "        vertical-align: top;\n",
       "    }\n",
       "\n",
       "    .dataframe thead th {\n",
       "        text-align: right;\n",
       "    }\n",
       "</style>\n",
       "<table border=\"1\" class=\"dataframe\">\n",
       "  <thead>\n",
       "    <tr style=\"text-align: right;\">\n",
       "      <th></th>\n",
       "      <th>seg_id</th>\n",
       "      <th>sys</th>\n",
       "      <th>hyp</th>\n",
       "      <th>domain</th>\n",
       "      <th>doc</th>\n",
       "      <th>source</th>\n",
       "      <th>ref</th>\n",
       "      <th>score</th>\n",
       "      <th>sltl</th>\n",
       "    </tr>\n",
       "  </thead>\n",
       "  <tbody>\n",
       "    <tr>\n",
       "      <th>16552</th>\n",
       "      <td>1806</td>\n",
       "      <td>Lan-Bridge</td>\n",
       "      <td>Ballistic missile submarines are often referre...</td>\n",
       "      <td>social</td>\n",
       "      <td>social_social_zh_linkedin.com_134531737:Chines...</td>\n",
       "      <td>弹道导弹潜艇通常被称为“雷鸣潜艇”（Boomer submarine）。</td>\n",
       "      <td>Ballistic missile submarines are often called ...</td>\n",
       "      <td>0.0</td>\n",
       "      <td>zhen</td>\n",
       "    </tr>\n",
       "    <tr>\n",
       "      <th>33052</th>\n",
       "      <td>1612</td>\n",
       "      <td>QUARTZ_TuneReranking</td>\n",
       "      <td>[Service] Very warm and attentive.</td>\n",
       "      <td>ecommerce</td>\n",
       "      <td>ecommerce_ecommerce_zh_meituan.com_166272631:C...</td>\n",
       "      <td>【服务】很热情，也很细心。</td>\n",
       "      <td>[Service] Very enthusiastic and attentive to d...</td>\n",
       "      <td>0.0</td>\n",
       "      <td>zhen</td>\n",
       "    </tr>\n",
       "  </tbody>\n",
       "</table>\n",
       "</div>"
      ],
      "text/plain": [
       "       seg_id                   sys  \\\n",
       "16552    1806            Lan-Bridge   \n",
       "33052    1612  QUARTZ_TuneReranking   \n",
       "\n",
       "                                                     hyp     domain  \\\n",
       "16552  Ballistic missile submarines are often referre...     social   \n",
       "33052                 [Service] Very warm and attentive.  ecommerce   \n",
       "\n",
       "                                                     doc  \\\n",
       "16552  social_social_zh_linkedin.com_134531737:Chines...   \n",
       "33052  ecommerce_ecommerce_zh_meituan.com_166272631:C...   \n",
       "\n",
       "                                     source  \\\n",
       "16552  弹道导弹潜艇通常被称为“雷鸣潜艇”（Boomer submarine）。   \n",
       "33052                         【服务】很热情，也很细心。   \n",
       "\n",
       "                                                     ref  score  sltl  \n",
       "16552  Ballistic missile submarines are often called ...    0.0  zhen  \n",
       "33052  [Service] Very enthusiastic and attentive to d...    0.0  zhen  "
      ]
     },
     "execution_count": 25,
     "metadata": {},
     "output_type": "execute_result"
    }
   ],
   "source": [
    "sample = df.sample(1000)\n",
    "sample.sample(2)"
   ]
  },
  {
   "cell_type": "code",
   "execution_count": 27,
   "id": "3ba57d09",
   "metadata": {},
   "outputs": [],
   "source": [
    "df[\"BLEU\"] = df.apply(lambda x : BLEU(\n",
    "    reference = x.ref,\n",
    "    candidate = x.hyp,), axis = 1)"
   ]
  },
  {
   "cell_type": "code",
   "execution_count": 29,
   "id": "d23420d8",
   "metadata": {},
   "outputs": [],
   "source": [
    "df[\"METEOR\"] = df.apply(lambda x : METEOR(\n",
    "    reference = x.ref,\n",
    "    candidate = x.hyp,), axis = 1)"
   ]
  },
  {
   "cell_type": "code",
   "execution_count": 30,
   "id": "e01b5988",
   "metadata": {},
   "outputs": [
    {
     "data": {
      "text/html": [
       "<div>\n",
       "<style scoped>\n",
       "    .dataframe tbody tr th:only-of-type {\n",
       "        vertical-align: middle;\n",
       "    }\n",
       "\n",
       "    .dataframe tbody tr th {\n",
       "        vertical-align: top;\n",
       "    }\n",
       "\n",
       "    .dataframe thead th {\n",
       "        text-align: right;\n",
       "    }\n",
       "</style>\n",
       "<table border=\"1\" class=\"dataframe\">\n",
       "  <thead>\n",
       "    <tr style=\"text-align: right;\">\n",
       "      <th></th>\n",
       "      <th>score</th>\n",
       "      <th>BLEU</th>\n",
       "      <th>METEOR</th>\n",
       "    </tr>\n",
       "  </thead>\n",
       "  <tbody>\n",
       "    <tr>\n",
       "      <th>score</th>\n",
       "      <td>1.000000</td>\n",
       "      <td>0.125824</td>\n",
       "      <td>0.145203</td>\n",
       "    </tr>\n",
       "    <tr>\n",
       "      <th>BLEU</th>\n",
       "      <td>0.125824</td>\n",
       "      <td>1.000000</td>\n",
       "      <td>0.876286</td>\n",
       "    </tr>\n",
       "    <tr>\n",
       "      <th>METEOR</th>\n",
       "      <td>0.145203</td>\n",
       "      <td>0.876286</td>\n",
       "      <td>1.000000</td>\n",
       "    </tr>\n",
       "  </tbody>\n",
       "</table>\n",
       "</div>"
      ],
      "text/plain": [
       "           score      BLEU    METEOR\n",
       "score   1.000000  0.125824  0.145203\n",
       "BLEU    0.125824  1.000000  0.876286\n",
       "METEOR  0.145203  0.876286  1.000000"
      ]
     },
     "execution_count": 30,
     "metadata": {},
     "output_type": "execute_result"
    }
   ],
   "source": [
    "df[[\"score\", \"BLEU\", \"METEOR\"]].corr(method = \"spearman\")"
   ]
  },
  {
   "cell_type": "code",
   "execution_count": 31,
   "id": "92fd01fb",
   "metadata": {},
   "outputs": [
    {
     "data": {
      "text/html": [
       "<div>\n",
       "<style scoped>\n",
       "    .dataframe tbody tr th:only-of-type {\n",
       "        vertical-align: middle;\n",
       "    }\n",
       "\n",
       "    .dataframe tbody tr th {\n",
       "        vertical-align: top;\n",
       "    }\n",
       "\n",
       "    .dataframe thead th {\n",
       "        text-align: right;\n",
       "    }\n",
       "</style>\n",
       "<table border=\"1\" class=\"dataframe\">\n",
       "  <thead>\n",
       "    <tr style=\"text-align: right;\">\n",
       "      <th></th>\n",
       "      <th>score</th>\n",
       "      <th>BLEU</th>\n",
       "      <th>METEOR</th>\n",
       "    </tr>\n",
       "  </thead>\n",
       "  <tbody>\n",
       "    <tr>\n",
       "      <th>score</th>\n",
       "      <td>1.000000</td>\n",
       "      <td>0.097002</td>\n",
       "      <td>0.111814</td>\n",
       "    </tr>\n",
       "    <tr>\n",
       "      <th>BLEU</th>\n",
       "      <td>0.097002</td>\n",
       "      <td>1.000000</td>\n",
       "      <td>0.710727</td>\n",
       "    </tr>\n",
       "    <tr>\n",
       "      <th>METEOR</th>\n",
       "      <td>0.111814</td>\n",
       "      <td>0.710727</td>\n",
       "      <td>1.000000</td>\n",
       "    </tr>\n",
       "  </tbody>\n",
       "</table>\n",
       "</div>"
      ],
      "text/plain": [
       "           score      BLEU    METEOR\n",
       "score   1.000000  0.097002  0.111814\n",
       "BLEU    0.097002  1.000000  0.710727\n",
       "METEOR  0.111814  0.710727  1.000000"
      ]
     },
     "execution_count": 31,
     "metadata": {},
     "output_type": "execute_result"
    }
   ],
   "source": [
    "df[[\"score\", \"BLEU\", \"METEOR\"]].corr(method = \"kendall\")"
   ]
  },
  {
   "cell_type": "code",
   "execution_count": null,
   "id": "e4009406",
   "metadata": {},
   "outputs": [],
   "source": []
  }
 ],
 "metadata": {
  "kernelspec": {
   "display_name": "Python 3 (ipykernel)",
   "language": "python",
   "name": "python3"
  },
  "language_info": {
   "codemirror_mode": {
    "name": "ipython",
    "version": 3
   },
   "file_extension": ".py",
   "mimetype": "text/x-python",
   "name": "python",
   "nbconvert_exporter": "python",
   "pygments_lexer": "ipython3",
   "version": "3.9.15"
  }
 },
 "nbformat": 4,
 "nbformat_minor": 5
}
