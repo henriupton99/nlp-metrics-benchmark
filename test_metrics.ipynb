{
 "cells": [
  {
   "cell_type": "markdown",
   "metadata": {},
   "source": [
    "# Test metrics on Toy Example"
   ]
  },
  {
   "cell_type": "code",
   "execution_count": 91,
   "metadata": {},
   "outputs": [
    {
     "name": "stdout",
     "output_type": "stream",
     "text": [
      "The autoreload extension is already loaded. To reload it, use:\n",
      "  %reload_ext autoreload\n"
     ]
    }
   ],
   "source": [
    "# FUNCTIONS / CLASSES :\n",
    "import sys\n",
    "from tqdm import tqdm\n",
    "import pandas as pd\n",
    "%load_ext autoreload\n",
    "%autoreload 2\n",
    "sys.path.append(\"./code\")\n",
    "from metrics import METEOR, BLEU, WACC, CHRF, TER, compute_metrics\n",
    "from data_processing import WMT22, dataset\n",
    "\n",
    "metrics = [METEOR, BLEU, WACC, CHRF, TER]"
   ]
  },
  {
   "cell_type": "code",
   "execution_count": 86,
   "metadata": {},
   "outputs": [],
   "source": [
    "reference = \"Je me présente je m'appelle Henri\"\n",
    "good_candidate = \"Je me présente je me prénomme Henri\"\n",
    "avg_candidate = \"Bonjour mon nom est Henri\"\n",
    "bad_candidate = \"J'aime les pizzas\""
   ]
  },
  {
   "cell_type": "code",
   "execution_count": 100,
   "metadata": {},
   "outputs": [
    {
     "name": "stdout",
     "output_type": "stream",
     "text": [
      "METRIC :  METEOR\n",
      "good candidate :  0.6098360655737705\n",
      "avg candidate :  0.0847457627118644\n",
      "bad candidate :  0.0\n",
      "METRIC :  BLEU\n",
      "good candidate :  0.7142857313156128\n",
      "avg candidate :  0.16374613344669342\n",
      "bad candidate :  0.0\n",
      "METRIC :  SACRE_BLEU\n",
      "good candidate :  0.43472087383270264\n",
      "avg candidate :  0.0\n",
      "bad candidate :  0.0\n",
      "METRIC :  NIST\n",
      "good candidate :  1.846401786229397\n",
      "avg candidate :  0.4493840682593886\n",
      "bad candidate :  0.0\n",
      "METRIC :  WACC\n",
      "good candidate :  0.6666666567325592\n",
      "avg candidate :  0.1666666865348816\n",
      "bad candidate :  0.0\n",
      "METRIC :  CHRF\n",
      "good candidate :  0.6306954117328964\n",
      "avg candidate :  0.15168410023582476\n",
      "bad candidate :  0.08836230975871608\n",
      "METRIC :  TER\n",
      "good candidate :  0.6666666567325592\n",
      "avg candidate :  0.1666666865348816\n",
      "bad candidate :  0.0\n"
     ]
    }
   ],
   "source": [
    "for metric in metrics:\n",
    "    print(\"METRIC : \", str(metric.__name__))\n",
    "    print(\"good candidate : \", metric(reference = reference, candidate = good_candidate))\n",
    "    print(\"avg candidate : \", metric(reference = reference, candidate = avg_candidate))\n",
    "    print(\"bad candidate : \", metric(reference = reference, candidate = bad_candidate))"
   ]
  },
  {
   "cell_type": "markdown",
   "metadata": {},
   "source": [
    "## Test on WMT Data"
   ]
  },
  {
   "cell_type": "code",
   "execution_count": 98,
   "metadata": {},
   "outputs": [],
   "source": [
    "df = WMT22.read_data()"
   ]
  },
  {
   "cell_type": "code",
   "execution_count": 99,
   "metadata": {},
   "outputs": [
    {
     "data": {
      "text/html": "<div>\n<style scoped>\n    .dataframe tbody tr th:only-of-type {\n        vertical-align: middle;\n    }\n\n    .dataframe tbody tr th {\n        vertical-align: top;\n    }\n\n    .dataframe thead th {\n        text-align: right;\n    }\n</style>\n<table border=\"1\" class=\"dataframe\">\n  <thead>\n    <tr style=\"text-align: right;\">\n      <th></th>\n      <th>seg_id</th>\n      <th>sys</th>\n      <th>hyp</th>\n      <th>domain</th>\n      <th>doc</th>\n      <th>source</th>\n      <th>ref</th>\n      <th>score</th>\n      <th>sltl</th>\n    </tr>\n  </thead>\n  <tbody>\n    <tr>\n      <th>29843</th>\n      <td>246</td>\n      <td>Online-Y</td>\n      <td>Recently, an emergency release platform for in...</td>\n      <td>news</td>\n      <td>news_xinhua-zh-01.104266:Chinese-English</td>\n      <td>近日，公安部刑事侦查局打拐办开发的儿童失踪信息紧急发布平台上线。</td>\n      <td>Recently, the platform of emergency release of...</td>\n      <td>0.0</td>\n      <td>zhen</td>\n    </tr>\n    <tr>\n      <th>23434</th>\n      <td>1291</td>\n      <td>Online-A</td>\n      <td>Please ask, what is the order situation now?</td>\n      <td>conversation</td>\n      <td>conversation_en_zh-TW_CLIENT-05_2020-12-13-19_...</td>\n      <td>请问，订单情况现在是什么样</td>\n      <td>May I ask what the status of the order is now?</td>\n      <td>-6.0</td>\n      <td>zhen</td>\n    </tr>\n  </tbody>\n</table>\n</div>",
      "text/plain": "       seg_id       sys                                                hyp  \\\n29843     246  Online-Y  Recently, an emergency release platform for in...   \n23434    1291  Online-A       Please ask, what is the order situation now?   \n\n             domain                                                doc  \\\n29843          news           news_xinhua-zh-01.104266:Chinese-English   \n23434  conversation  conversation_en_zh-TW_CLIENT-05_2020-12-13-19_...   \n\n                                 source  \\\n29843  近日，公安部刑事侦查局打拐办开发的儿童失踪信息紧急发布平台上线。   \n23434                     请问，订单情况现在是什么样   \n\n                                                     ref  score  sltl  \n29843  Recently, the platform of emergency release of...    0.0  zhen  \n23434     May I ask what the status of the order is now?   -6.0  zhen  "
     },
     "execution_count": 99,
     "metadata": {},
     "output_type": "execute_result"
    }
   ],
   "source": [
    "sample = df.sample(1000)\n",
    "sample.sample(2)"
   ]
  },
  {
   "cell_type": "code",
   "execution_count": 101,
   "metadata": {},
   "outputs": [
    {
     "name": "stderr",
     "output_type": "stream",
     "text": [
      "100%|██████████| 7/7 [00:23<00:00,  3.29s/it]\n"
     ]
    }
   ],
   "source": [
    "for metric in tqdm(metrics):\n",
    "    \n",
    "    sample[str(metric.__name__)] = sample.apply(lambda x : metric(\n",
    "        reference = x.ref, \n",
    "        candidate = x.hyp,), axis = 1)"
   ]
  },
  {
   "cell_type": "code",
   "execution_count": 102,
   "metadata": {},
   "outputs": [
    {
     "data": {
      "text/html": "<div>\n<style scoped>\n    .dataframe tbody tr th:only-of-type {\n        vertical-align: middle;\n    }\n\n    .dataframe tbody tr th {\n        vertical-align: top;\n    }\n\n    .dataframe thead th {\n        text-align: right;\n    }\n</style>\n<table border=\"1\" class=\"dataframe\">\n  <thead>\n    <tr style=\"text-align: right;\">\n      <th></th>\n      <th>score</th>\n      <th>METEOR</th>\n      <th>BLEU</th>\n      <th>SACRE_BLEU</th>\n      <th>NIST</th>\n      <th>WACC</th>\n      <th>CHRF</th>\n      <th>TER</th>\n    </tr>\n  </thead>\n  <tbody>\n    <tr>\n      <th>score</th>\n      <td>1.000000</td>\n      <td>0.151769</td>\n      <td>0.141547</td>\n      <td>0.089533</td>\n      <td>0.029616</td>\n      <td>0.145502</td>\n      <td>0.160688</td>\n      <td>0.141055</td>\n    </tr>\n    <tr>\n      <th>METEOR</th>\n      <td>0.151769</td>\n      <td>1.000000</td>\n      <td>0.847539</td>\n      <td>0.720235</td>\n      <td>0.676411</td>\n      <td>0.739990</td>\n      <td>0.827712</td>\n      <td>0.785328</td>\n    </tr>\n    <tr>\n      <th>BLEU</th>\n      <td>0.141547</td>\n      <td>0.847539</td>\n      <td>1.000000</td>\n      <td>0.713094</td>\n      <td>0.743387</td>\n      <td>0.883074</td>\n      <td>0.792563</td>\n      <td>0.905119</td>\n    </tr>\n    <tr>\n      <th>SACRE_BLEU</th>\n      <td>0.089533</td>\n      <td>0.720235</td>\n      <td>0.713094</td>\n      <td>1.000000</td>\n      <td>0.716497</td>\n      <td>0.678674</td>\n      <td>0.661901</td>\n      <td>0.677029</td>\n    </tr>\n    <tr>\n      <th>NIST</th>\n      <td>0.029616</td>\n      <td>0.676411</td>\n      <td>0.743387</td>\n      <td>0.716497</td>\n      <td>1.000000</td>\n      <td>0.602287</td>\n      <td>0.620638</td>\n      <td>0.625635</td>\n    </tr>\n    <tr>\n      <th>WACC</th>\n      <td>0.145502</td>\n      <td>0.739990</td>\n      <td>0.883074</td>\n      <td>0.678674</td>\n      <td>0.602287</td>\n      <td>1.000000</td>\n      <td>0.694773</td>\n      <td>0.966769</td>\n    </tr>\n    <tr>\n      <th>CHRF</th>\n      <td>0.160688</td>\n      <td>0.827712</td>\n      <td>0.792563</td>\n      <td>0.661901</td>\n      <td>0.620638</td>\n      <td>0.694773</td>\n      <td>1.000000</td>\n      <td>0.731358</td>\n    </tr>\n    <tr>\n      <th>TER</th>\n      <td>0.141055</td>\n      <td>0.785328</td>\n      <td>0.905119</td>\n      <td>0.677029</td>\n      <td>0.625635</td>\n      <td>0.966769</td>\n      <td>0.731358</td>\n      <td>1.000000</td>\n    </tr>\n  </tbody>\n</table>\n</div>",
      "text/plain": "               score    METEOR      BLEU  SACRE_BLEU      NIST      WACC  \\\nscore       1.000000  0.151769  0.141547    0.089533  0.029616  0.145502   \nMETEOR      0.151769  1.000000  0.847539    0.720235  0.676411  0.739990   \nBLEU        0.141547  0.847539  1.000000    0.713094  0.743387  0.883074   \nSACRE_BLEU  0.089533  0.720235  0.713094    1.000000  0.716497  0.678674   \nNIST        0.029616  0.676411  0.743387    0.716497  1.000000  0.602287   \nWACC        0.145502  0.739990  0.883074    0.678674  0.602287  1.000000   \nCHRF        0.160688  0.827712  0.792563    0.661901  0.620638  0.694773   \nTER         0.141055  0.785328  0.905119    0.677029  0.625635  0.966769   \n\n                CHRF       TER  \nscore       0.160688  0.141055  \nMETEOR      0.827712  0.785328  \nBLEU        0.792563  0.905119  \nSACRE_BLEU  0.661901  0.677029  \nNIST        0.620638  0.625635  \nWACC        0.694773  0.966769  \nCHRF        1.000000  0.731358  \nTER         0.731358  1.000000  "
     },
     "execution_count": 102,
     "metadata": {},
     "output_type": "execute_result"
    }
   ],
   "source": [
    "sample[[\"score\"] + [str(metric.__name__) for metric in metrics]].corr(method = \"spearman\")"
   ]
  },
  {
   "cell_type": "code",
   "execution_count": 28,
   "metadata": {},
   "outputs": [
    {
     "data": {
      "text/html": "<div>\n<style scoped>\n    .dataframe tbody tr th:only-of-type {\n        vertical-align: middle;\n    }\n\n    .dataframe tbody tr th {\n        vertical-align: top;\n    }\n\n    .dataframe thead th {\n        text-align: right;\n    }\n</style>\n<table border=\"1\" class=\"dataframe\">\n  <thead>\n    <tr style=\"text-align: right;\">\n      <th></th>\n      <th>score</th>\n      <th>METEOR</th>\n      <th>BLEU</th>\n      <th>NIST</th>\n      <th>WACC</th>\n      <th>CHRF</th>\n    </tr>\n  </thead>\n  <tbody>\n    <tr>\n      <th>score</th>\n      <td>1.000000</td>\n      <td>0.138642</td>\n      <td>0.104777</td>\n      <td>0.034244</td>\n      <td>0.101007</td>\n      <td>0.117543</td>\n    </tr>\n    <tr>\n      <th>METEOR</th>\n      <td>0.138642</td>\n      <td>1.000000</td>\n      <td>0.703407</td>\n      <td>0.499913</td>\n      <td>0.595935</td>\n      <td>0.716147</td>\n    </tr>\n    <tr>\n      <th>BLEU</th>\n      <td>0.104777</td>\n      <td>0.703407</td>\n      <td>1.000000</td>\n      <td>0.574815</td>\n      <td>0.736617</td>\n      <td>0.724203</td>\n    </tr>\n    <tr>\n      <th>NIST</th>\n      <td>0.034244</td>\n      <td>0.499913</td>\n      <td>0.574815</td>\n      <td>1.000000</td>\n      <td>0.445493</td>\n      <td>0.544694</td>\n    </tr>\n    <tr>\n      <th>WACC</th>\n      <td>0.101007</td>\n      <td>0.595935</td>\n      <td>0.736617</td>\n      <td>0.445493</td>\n      <td>1.000000</td>\n      <td>0.618921</td>\n    </tr>\n    <tr>\n      <th>CHRF</th>\n      <td>0.117543</td>\n      <td>0.716147</td>\n      <td>0.724203</td>\n      <td>0.544694</td>\n      <td>0.618921</td>\n      <td>1.000000</td>\n    </tr>\n  </tbody>\n</table>\n</div>",
      "text/plain": "           score    METEOR      BLEU      NIST      WACC      CHRF\nscore   1.000000  0.138642  0.104777  0.034244  0.101007  0.117543\nMETEOR  0.138642  1.000000  0.703407  0.499913  0.595935  0.716147\nBLEU    0.104777  0.703407  1.000000  0.574815  0.736617  0.724203\nNIST    0.034244  0.499913  0.574815  1.000000  0.445493  0.544694\nWACC    0.101007  0.595935  0.736617  0.445493  1.000000  0.618921\nCHRF    0.117543  0.716147  0.724203  0.544694  0.618921  1.000000"
     },
     "execution_count": 28,
     "metadata": {},
     "output_type": "execute_result"
    }
   ],
   "source": [
    "sample[[\"score\"] + [str(metric.__name__) for metric in metrics]].corr(method = \"kendall\")"
   ]
  },
  {
   "cell_type": "markdown",
   "metadata": {},
   "source": [
    "# Test dataset and dataloader"
   ]
  },
  {
   "cell_type": "code",
   "execution_count": 7,
   "metadata": {},
   "outputs": [],
   "source": [
    "dataset_WMT22 = dataset(set_name = \"WMT22\")"
   ]
  },
  {
   "cell_type": "code",
   "execution_count": 9,
   "metadata": {},
   "outputs": [
    {
     "data": {
      "text/plain": "('Sie können jederzeit zurückkehren, da unser Chat-Service-Fenster rund um die Uhr geöffnet ist',\n 'Sie können jederzeit wiederkommen, da unser Chat-Service-Fenster täglich rund um die Uhr geöffnet ist',\n 'conversation',\n 1,\n 0.0)"
     },
     "execution_count": 9,
     "metadata": {},
     "output_type": "execute_result"
    }
   ],
   "source": [
    "dataset_WMT22.__getitem__(0)"
   ]
  },
  {
   "cell_type": "code",
   "execution_count": 5,
   "metadata": {},
   "outputs": [
    {
     "name": "stderr",
     "output_type": "stream",
     "text": [
      "  1%|▏         | 66/4987 [00:06<07:58, 10.29it/s]\n"
     ]
    },
    {
     "ename": "KeyboardInterrupt",
     "evalue": "",
     "output_type": "error",
     "traceback": [
      "\u001b[0;31m---------------------------------------------------------------------------\u001b[0m",
      "\u001b[0;31mKeyboardInterrupt\u001b[0m                         Traceback (most recent call last)",
      "\u001b[0;32m/var/folders/zj/yy0y_jv108d6b5knbv8vjwkr0000gn/T/ipykernel_1466/3735515066.py\u001b[0m in \u001b[0;36m<module>\u001b[0;34m\u001b[0m\n\u001b[0;32m----> 1\u001b[0;31m metrics_scores = compute_metrics(\n\u001b[0m\u001b[1;32m      2\u001b[0m     \u001b[0mset_name\u001b[0m \u001b[0;34m=\u001b[0m \u001b[0;34m\"WMT22\"\u001b[0m\u001b[0;34m,\u001b[0m\u001b[0;34m\u001b[0m\u001b[0;34m\u001b[0m\u001b[0m\n\u001b[1;32m      3\u001b[0m     \u001b[0mmetrics\u001b[0m \u001b[0;34m=\u001b[0m \u001b[0mmetrics\u001b[0m\u001b[0;34m,\u001b[0m\u001b[0;34m\u001b[0m\u001b[0;34m\u001b[0m\u001b[0m\n\u001b[1;32m      4\u001b[0m     \u001b[0mbatch_size\u001b[0m \u001b[0;34m=\u001b[0m \u001b[0;36m20\u001b[0m\u001b[0;34m,\u001b[0m\u001b[0;34m\u001b[0m\u001b[0;34m\u001b[0m\u001b[0m\n\u001b[1;32m      5\u001b[0m     \u001b[0mpath\u001b[0m \u001b[0;34m=\u001b[0m \u001b[0;34m\"./data/metrics_scores.csv\"\u001b[0m\u001b[0;34m\u001b[0m\u001b[0;34m\u001b[0m\u001b[0m\n",
      "\u001b[0;32m~/Desktop/project_nlp/./code/metrics.py\u001b[0m in \u001b[0;36mcompute_metrics\u001b[0;34m(set_name, metrics, batch_size, path)\u001b[0m\n\u001b[1;32m    113\u001b[0m             \u001b[0;32mfor\u001b[0m \u001b[0mmetric\u001b[0m \u001b[0;32min\u001b[0m \u001b[0mmetrics\u001b[0m\u001b[0;34m:\u001b[0m\u001b[0;34m\u001b[0m\u001b[0;34m\u001b[0m\u001b[0m\n\u001b[1;32m    114\u001b[0m \u001b[0;34m\u001b[0m\u001b[0m\n\u001b[0;32m--> 115\u001b[0;31m                 \u001b[0mmetrics_scores\u001b[0m\u001b[0;34m[\u001b[0m\u001b[0mstr\u001b[0m\u001b[0;34m(\u001b[0m\u001b[0mmetric\u001b[0m\u001b[0;34m.\u001b[0m\u001b[0m__name__\u001b[0m\u001b[0;34m)\u001b[0m\u001b[0;34m]\u001b[0m\u001b[0;34m.\u001b[0m\u001b[0mappend\u001b[0m\u001b[0;34m(\u001b[0m\u001b[0mmetric\u001b[0m\u001b[0;34m(\u001b[0m\u001b[0mref\u001b[0m\u001b[0;34m[\u001b[0m\u001b[0mi\u001b[0m\u001b[0;34m]\u001b[0m\u001b[0;34m,\u001b[0m \u001b[0mhyp\u001b[0m\u001b[0;34m[\u001b[0m\u001b[0mi\u001b[0m\u001b[0;34m]\u001b[0m\u001b[0;34m)\u001b[0m\u001b[0;34m)\u001b[0m\u001b[0;34m\u001b[0m\u001b[0;34m\u001b[0m\u001b[0m\n\u001b[0m\u001b[1;32m    116\u001b[0m \u001b[0;34m\u001b[0m\u001b[0m\n\u001b[1;32m    117\u001b[0m     \u001b[0;32mif\u001b[0m \u001b[0mpath\u001b[0m \u001b[0;32mis\u001b[0m \u001b[0;32mnot\u001b[0m \u001b[0;32mNone\u001b[0m\u001b[0;34m:\u001b[0m\u001b[0;34m\u001b[0m\u001b[0;34m\u001b[0m\u001b[0m\n",
      "\u001b[0;32m~/Desktop/project_nlp/./code/metrics.py\u001b[0m in \u001b[0;36mCHRF\u001b[0;34m(reference, candidate)\u001b[0m\n\u001b[1;32m     71\u001b[0m     \u001b[0mreference\u001b[0m \u001b[0;34m=\u001b[0m \u001b[0;34m[\u001b[0m\u001b[0mreference\u001b[0m\u001b[0;34m]\u001b[0m\u001b[0;34m\u001b[0m\u001b[0;34m\u001b[0m\u001b[0m\n\u001b[1;32m     72\u001b[0m \u001b[0;34m\u001b[0m\u001b[0m\n\u001b[0;32m---> 73\u001b[0;31m     \u001b[0;32mreturn\u001b[0m \u001b[0mchrf_score\u001b[0m\u001b[0;34m(\u001b[0m\u001b[0mcandidate\u001b[0m\u001b[0;34m,\u001b[0m \u001b[0mreference\u001b[0m\u001b[0;34m,\u001b[0m \u001b[0mn_char_order\u001b[0m \u001b[0;34m=\u001b[0m \u001b[0;36m1\u001b[0m\u001b[0;34m)\u001b[0m\u001b[0;34m.\u001b[0m\u001b[0mitem\u001b[0m\u001b[0;34m(\u001b[0m\u001b[0;34m)\u001b[0m\u001b[0;34m\u001b[0m\u001b[0;34m\u001b[0m\u001b[0m\n\u001b[0m\u001b[1;32m     74\u001b[0m \u001b[0;34m\u001b[0m\u001b[0m\n\u001b[1;32m     75\u001b[0m def compute_metrics(\n",
      "\u001b[0;32m~/opt/anaconda3/lib/python3.9/site-packages/torchmetrics/functional/text/chrf.py\u001b[0m in \u001b[0;36mchrf_score\u001b[0;34m(preds, target, n_char_order, n_word_order, beta, lowercase, whitespace, return_sentence_level_score)\u001b[0m\n\u001b[1;32m    602\u001b[0m         \u001b[0mtotal_matching_word_n_grams\u001b[0m\u001b[0;34m,\u001b[0m\u001b[0;34m\u001b[0m\u001b[0;34m\u001b[0m\u001b[0m\n\u001b[1;32m    603\u001b[0m         \u001b[0msentence_chrf_score\u001b[0m\u001b[0;34m,\u001b[0m\u001b[0;34m\u001b[0m\u001b[0;34m\u001b[0m\u001b[0m\n\u001b[0;32m--> 604\u001b[0;31m     \u001b[0;34m)\u001b[0m \u001b[0;34m=\u001b[0m \u001b[0m_chrf_score_update\u001b[0m\u001b[0;34m(\u001b[0m\u001b[0;34m\u001b[0m\u001b[0;34m\u001b[0m\u001b[0m\n\u001b[0m\u001b[1;32m    605\u001b[0m         \u001b[0mpreds\u001b[0m\u001b[0;34m,\u001b[0m\u001b[0;34m\u001b[0m\u001b[0;34m\u001b[0m\u001b[0m\n\u001b[1;32m    606\u001b[0m         \u001b[0mtarget\u001b[0m\u001b[0;34m,\u001b[0m\u001b[0;34m\u001b[0m\u001b[0;34m\u001b[0m\u001b[0m\n",
      "\u001b[0;32m~/opt/anaconda3/lib/python3.9/site-packages/torchmetrics/functional/text/chrf.py\u001b[0m in \u001b[0;36m_chrf_score_update\u001b[0;34m(preds, target, total_preds_char_n_grams, total_preds_word_n_grams, total_target_char_n_grams, total_target_word_n_grams, total_matching_char_n_grams, total_matching_word_n_grams, n_char_order, n_word_order, n_order, beta, lowercase, whitespace, sentence_chrf_score)\u001b[0m\n\u001b[1;32m    439\u001b[0m             \u001b[0mpred_char_n_grams\u001b[0m\u001b[0;34m,\u001b[0m\u001b[0;34m\u001b[0m\u001b[0;34m\u001b[0m\u001b[0m\n\u001b[1;32m    440\u001b[0m             \u001b[0mpred_word_n_grams\u001b[0m\u001b[0;34m,\u001b[0m\u001b[0;34m\u001b[0m\u001b[0;34m\u001b[0m\u001b[0m\n\u001b[0;32m--> 441\u001b[0;31m         ) = _get_n_grams_counts_and_total_ngrams(pred, n_char_order, n_word_order, lowercase, whitespace)\n\u001b[0m\u001b[1;32m    442\u001b[0m         \u001b[0mtotal_preds_char_n_grams\u001b[0m \u001b[0;34m=\u001b[0m \u001b[0m_sum_over_dicts\u001b[0m\u001b[0;34m(\u001b[0m\u001b[0mtotal_preds_char_n_grams\u001b[0m\u001b[0;34m,\u001b[0m \u001b[0mpred_char_n_grams\u001b[0m\u001b[0;34m)\u001b[0m\u001b[0;34m\u001b[0m\u001b[0;34m\u001b[0m\u001b[0m\n\u001b[1;32m    443\u001b[0m         \u001b[0mtotal_preds_word_n_grams\u001b[0m \u001b[0;34m=\u001b[0m \u001b[0m_sum_over_dicts\u001b[0m\u001b[0;34m(\u001b[0m\u001b[0mtotal_preds_word_n_grams\u001b[0m\u001b[0;34m,\u001b[0m \u001b[0mpred_word_n_grams\u001b[0m\u001b[0;34m)\u001b[0m\u001b[0;34m\u001b[0m\u001b[0;34m\u001b[0m\u001b[0m\n",
      "\u001b[0;32m~/opt/anaconda3/lib/python3.9/site-packages/torchmetrics/functional/text/chrf.py\u001b[0m in \u001b[0;36m_get_n_grams_counts_and_total_ngrams\u001b[0;34m(sentence, n_char_order, n_word_order, lowercase, whitespace)\u001b[0m\n\u001b[1;32m    182\u001b[0m         \u001b[0;32mreturn\u001b[0m \u001b[0mtotal_n_grams\u001b[0m\u001b[0;34m\u001b[0m\u001b[0;34m\u001b[0m\u001b[0m\n\u001b[1;32m    183\u001b[0m \u001b[0;34m\u001b[0m\u001b[0m\n\u001b[0;32m--> 184\u001b[0;31m     char_n_grams_counts, word_n_grams_counts = _char_and_word_ngrams_counts(\n\u001b[0m\u001b[1;32m    185\u001b[0m         \u001b[0msentence\u001b[0m\u001b[0;34m,\u001b[0m \u001b[0mn_char_order\u001b[0m\u001b[0;34m,\u001b[0m \u001b[0mn_word_order\u001b[0m\u001b[0;34m,\u001b[0m \u001b[0mlowercase\u001b[0m\u001b[0;34m\u001b[0m\u001b[0;34m\u001b[0m\u001b[0m\n\u001b[1;32m    186\u001b[0m     )\n",
      "\u001b[0;32m~/opt/anaconda3/lib/python3.9/site-packages/torchmetrics/functional/text/chrf.py\u001b[0m in \u001b[0;36m_char_and_word_ngrams_counts\u001b[0;34m(sentence, n_char_order, n_word_order, lowercase)\u001b[0m\n\u001b[1;32m    171\u001b[0m         \u001b[0;32mif\u001b[0m \u001b[0mlowercase\u001b[0m\u001b[0;34m:\u001b[0m\u001b[0;34m\u001b[0m\u001b[0;34m\u001b[0m\u001b[0m\n\u001b[1;32m    172\u001b[0m             \u001b[0msentence\u001b[0m \u001b[0;34m=\u001b[0m \u001b[0msentence\u001b[0m\u001b[0;34m.\u001b[0m\u001b[0mlower\u001b[0m\u001b[0;34m(\u001b[0m\u001b[0;34m)\u001b[0m\u001b[0;34m\u001b[0m\u001b[0;34m\u001b[0m\u001b[0m\n\u001b[0;32m--> 173\u001b[0;31m         \u001b[0mchar_n_grams_counts\u001b[0m \u001b[0;34m=\u001b[0m \u001b[0m_ngram_counts\u001b[0m\u001b[0;34m(\u001b[0m\u001b[0m_get_characters\u001b[0m\u001b[0;34m(\u001b[0m\u001b[0msentence\u001b[0m\u001b[0;34m,\u001b[0m \u001b[0mwhitespace\u001b[0m\u001b[0;34m)\u001b[0m\u001b[0;34m,\u001b[0m \u001b[0mn_char_order\u001b[0m\u001b[0;34m)\u001b[0m\u001b[0;34m\u001b[0m\u001b[0;34m\u001b[0m\u001b[0m\n\u001b[0m\u001b[1;32m    174\u001b[0m         \u001b[0mword_n_grams_counts\u001b[0m \u001b[0;34m=\u001b[0m \u001b[0m_ngram_counts\u001b[0m\u001b[0;34m(\u001b[0m\u001b[0m_get_words_and_punctiation\u001b[0m\u001b[0;34m(\u001b[0m\u001b[0msentence\u001b[0m\u001b[0;34m)\u001b[0m\u001b[0;34m,\u001b[0m \u001b[0mn_word_order\u001b[0m\u001b[0;34m)\u001b[0m\u001b[0;34m\u001b[0m\u001b[0;34m\u001b[0m\u001b[0m\n\u001b[1;32m    175\u001b[0m         \u001b[0;32mreturn\u001b[0m \u001b[0mchar_n_grams_counts\u001b[0m\u001b[0;34m,\u001b[0m \u001b[0mword_n_grams_counts\u001b[0m\u001b[0;34m\u001b[0m\u001b[0;34m\u001b[0m\u001b[0m\n",
      "\u001b[0;32m~/opt/anaconda3/lib/python3.9/site-packages/torchmetrics/functional/text/chrf.py\u001b[0m in \u001b[0;36m_ngram_counts\u001b[0;34m(char_or_word_list, n_gram_order)\u001b[0m\n\u001b[1;32m    138\u001b[0m     \u001b[0;32mfor\u001b[0m \u001b[0mn\u001b[0m \u001b[0;32min\u001b[0m \u001b[0mrange\u001b[0m\u001b[0;34m(\u001b[0m\u001b[0;36m1\u001b[0m\u001b[0;34m,\u001b[0m \u001b[0mn_gram_order\u001b[0m \u001b[0;34m+\u001b[0m \u001b[0;36m1\u001b[0m\u001b[0;34m)\u001b[0m\u001b[0;34m:\u001b[0m\u001b[0;34m\u001b[0m\u001b[0;34m\u001b[0m\u001b[0m\n\u001b[1;32m    139\u001b[0m         \u001b[0;32mfor\u001b[0m \u001b[0mngram\u001b[0m \u001b[0;32min\u001b[0m \u001b[0;34m(\u001b[0m\u001b[0mtuple\u001b[0m\u001b[0;34m(\u001b[0m\u001b[0mchar_or_word_list\u001b[0m\u001b[0;34m[\u001b[0m\u001b[0mi\u001b[0m \u001b[0;34m:\u001b[0m \u001b[0mi\u001b[0m \u001b[0;34m+\u001b[0m \u001b[0mn\u001b[0m\u001b[0;34m]\u001b[0m\u001b[0;34m)\u001b[0m \u001b[0;32mfor\u001b[0m \u001b[0mi\u001b[0m \u001b[0;32min\u001b[0m \u001b[0mrange\u001b[0m\u001b[0;34m(\u001b[0m\u001b[0mlen\u001b[0m\u001b[0;34m(\u001b[0m\u001b[0mchar_or_word_list\u001b[0m\u001b[0;34m)\u001b[0m \u001b[0;34m-\u001b[0m \u001b[0mn\u001b[0m \u001b[0;34m+\u001b[0m \u001b[0;36m1\u001b[0m\u001b[0;34m)\u001b[0m\u001b[0;34m)\u001b[0m\u001b[0;34m:\u001b[0m\u001b[0;34m\u001b[0m\u001b[0;34m\u001b[0m\u001b[0m\n\u001b[0;32m--> 140\u001b[0;31m             \u001b[0mngrams\u001b[0m\u001b[0;34m[\u001b[0m\u001b[0mn\u001b[0m\u001b[0;34m]\u001b[0m\u001b[0;34m[\u001b[0m\u001b[0mngram\u001b[0m\u001b[0;34m]\u001b[0m \u001b[0;34m+=\u001b[0m \u001b[0mtensor\u001b[0m\u001b[0;34m(\u001b[0m\u001b[0;36m1\u001b[0m\u001b[0;34m)\u001b[0m\u001b[0;34m\u001b[0m\u001b[0;34m\u001b[0m\u001b[0m\n\u001b[0m\u001b[1;32m    141\u001b[0m     \u001b[0;32mreturn\u001b[0m \u001b[0mngrams\u001b[0m\u001b[0;34m\u001b[0m\u001b[0;34m\u001b[0m\u001b[0m\n\u001b[1;32m    142\u001b[0m \u001b[0;34m\u001b[0m\u001b[0m\n",
      "\u001b[0;31mKeyboardInterrupt\u001b[0m: "
     ]
    }
   ],
   "source": [
    "metrics_scores = compute_metrics(\n",
    "    set_name = \"WMT22\",\n",
    "    metrics = metrics,\n",
    "    batch_size = 20,\n",
    "    path = \"./data/metrics_scores.csv\"\n",
    ")"
   ]
  },
  {
   "cell_type": "code",
   "execution_count": 9,
   "metadata": {},
   "outputs": [],
   "source": [
    "metrics_scores = pd.read_csv(\n",
    "    \"./data/metrics_scores.csv\",\n",
    "    index_col = \"gold_score\"\n",
    ")"
   ]
  },
  {
   "cell_type": "code",
   "execution_count": 10,
   "metadata": {},
   "outputs": [
    {
     "data": {
      "text/html": "<div>\n<style scoped>\n    .dataframe tbody tr th:only-of-type {\n        vertical-align: middle;\n    }\n\n    .dataframe tbody tr th {\n        vertical-align: top;\n    }\n\n    .dataframe thead th {\n        text-align: right;\n    }\n</style>\n<table border=\"1\" class=\"dataframe\">\n  <thead>\n    <tr style=\"text-align: right;\">\n      <th></th>\n      <th>sltl</th>\n      <th>hyp</th>\n      <th>ref</th>\n      <th>domain</th>\n      <th>seg_id</th>\n      <th>METEOR</th>\n      <th>BLEU</th>\n      <th>NIST</th>\n      <th>WACC</th>\n    </tr>\n    <tr>\n      <th>gold_score</th>\n      <th></th>\n      <th></th>\n      <th></th>\n      <th></th>\n      <th></th>\n      <th></th>\n      <th></th>\n      <th></th>\n      <th></th>\n    </tr>\n  </thead>\n  <tbody>\n    <tr>\n      <th>0.386671</th>\n      <td>ende</td>\n      <td>Sie können jederzeit zurückkehren, da unser Ch...</td>\n      <td>Sie können jederzeit wiederkommen, da unser Ch...</td>\n      <td>conversation</td>\n      <td>1</td>\n      <td>1.376832</td>\n      <td>1.642982</td>\n      <td>1.380845</td>\n      <td>0.358519</td>\n    </tr>\n    <tr>\n      <th>0.386671</th>\n      <td>ende</td>\n      <td>Ich hoffe sehr, dass Sie eine Lösung finden</td>\n      <td>Ich hoffe wirklich, dass Sie eine Lösung finde...</td>\n      <td>conversation</td>\n      <td>2</td>\n      <td>1.061923</td>\n      <td>1.260124</td>\n      <td>0.571660</td>\n      <td>0.301252</td>\n    </tr>\n    <tr>\n      <th>0.386671</th>\n      <td>ende</td>\n      <td>Vielen Dank, dass Sie #PRS_ORG# kontaktiert ha...</td>\n      <td>Vielen Dank, dass Sie #PRS_ORG# kontaktiert ha...</td>\n      <td>conversation</td>\n      <td>3</td>\n      <td>0.521747</td>\n      <td>-0.002266</td>\n      <td>0.475743</td>\n      <td>0.076767</td>\n    </tr>\n    <tr>\n      <th>0.386671</th>\n      <td>ende</td>\n      <td>Ich wünsche Ihnen einen schönen Abend.</td>\n      <td>Ich wünsche Ihnen noch einen schönen Abend.</td>\n      <td>conversation</td>\n      <td>4</td>\n      <td>1.418371</td>\n      <td>1.604712</td>\n      <td>0.533203</td>\n      <td>0.358519</td>\n    </tr>\n    <tr>\n      <th>0.117933</th>\n      <td>ende</td>\n      <td>Der Iran meldet die niedrigste Anzahl tägliche...</td>\n      <td>Iran meldet niedrigste Zahl täglicher COVID-19...</td>\n      <td>news</td>\n      <td>5</td>\n      <td>1.167222</td>\n      <td>0.532886</td>\n      <td>0.299814</td>\n      <td>0.100819</td>\n    </tr>\n    <tr>\n      <th>...</th>\n      <td>...</td>\n      <td>...</td>\n      <td>...</td>\n      <td>...</td>\n      <td>...</td>\n      <td>...</td>\n      <td>...</td>\n      <td>...</td>\n      <td>...</td>\n    </tr>\n    <tr>\n      <th>0.386671</th>\n      <td>zhen</td>\n      <td>The exercise achievements have been confirmed ...</td>\n      <td>The results of the exercise have won recogniti...</td>\n      <td>news</td>\n      <td>1871</td>\n      <td>-1.637440</td>\n      <td>-1.262939</td>\n      <td>-1.654093</td>\n      <td>-0.115648</td>\n    </tr>\n    <tr>\n      <th>0.117933</th>\n      <td>zhen</td>\n      <td>Ruan Xiongsheng, the director of the Exercise ...</td>\n      <td>Ruan Xiongsheng, Director of the Exercise Guid...</td>\n      <td>news</td>\n      <td>1872</td>\n      <td>1.562744</td>\n      <td>1.725648</td>\n      <td>2.346062</td>\n      <td>0.358519</td>\n    </tr>\n    <tr>\n      <th>0.386671</th>\n      <td>zhen</td>\n      <td>The achievements made from exercise proved spe...</td>\n      <td>The achievements made from the exercise proved...</td>\n      <td>news</td>\n      <td>1873</td>\n      <td>1.655621</td>\n      <td>1.913690</td>\n      <td>2.241715</td>\n      <td>0.401469</td>\n    </tr>\n    <tr>\n      <th>0.386671</th>\n      <td>zhen</td>\n      <td>According to Chen Chunming, leader of Guidance...</td>\n      <td>According to Chen Chunming, leader of Guidance...</td>\n      <td>news</td>\n      <td>1874</td>\n      <td>1.070302</td>\n      <td>1.081698</td>\n      <td>2.083909</td>\n      <td>0.259562</td>\n    </tr>\n    <tr>\n      <th>0.386671</th>\n      <td>zhen</td>\n      <td>During the exercise period, Chinese People’s L...</td>\n      <td>During the exercise, Chinese People’s Liberati...</td>\n      <td>news</td>\n      <td>1875</td>\n      <td>1.872884</td>\n      <td>1.867890</td>\n      <td>2.489571</td>\n      <td>0.389443</td>\n    </tr>\n  </tbody>\n</table>\n<p>99726 rows × 9 columns</p>\n</div>",
      "text/plain": "            sltl                                                hyp  \\\ngold_score                                                            \n0.386671    ende  Sie können jederzeit zurückkehren, da unser Ch...   \n0.386671    ende        Ich hoffe sehr, dass Sie eine Lösung finden   \n0.386671    ende  Vielen Dank, dass Sie #PRS_ORG# kontaktiert ha...   \n0.386671    ende             Ich wünsche Ihnen einen schönen Abend.   \n0.117933    ende  Der Iran meldet die niedrigste Anzahl tägliche...   \n...          ...                                                ...   \n0.386671    zhen  The exercise achievements have been confirmed ...   \n0.117933    zhen  Ruan Xiongsheng, the director of the Exercise ...   \n0.386671    zhen  The achievements made from exercise proved spe...   \n0.386671    zhen  According to Chen Chunming, leader of Guidance...   \n0.386671    zhen  During the exercise period, Chinese People’s L...   \n\n                                                          ref        domain  \\\ngold_score                                                                    \n0.386671    Sie können jederzeit wiederkommen, da unser Ch...  conversation   \n0.386671    Ich hoffe wirklich, dass Sie eine Lösung finde...  conversation   \n0.386671    Vielen Dank, dass Sie #PRS_ORG# kontaktiert ha...  conversation   \n0.386671          Ich wünsche Ihnen noch einen schönen Abend.  conversation   \n0.117933    Iran meldet niedrigste Zahl täglicher COVID-19...          news   \n...                                                       ...           ...   \n0.386671    The results of the exercise have won recogniti...          news   \n0.117933    Ruan Xiongsheng, Director of the Exercise Guid...          news   \n0.386671    The achievements made from the exercise proved...          news   \n0.386671    According to Chen Chunming, leader of Guidance...          news   \n0.386671    During the exercise, Chinese People’s Liberati...          news   \n\n            seg_id    METEOR      BLEU      NIST      WACC  \ngold_score                                                  \n0.386671         1  1.376832  1.642982  1.380845  0.358519  \n0.386671         2  1.061923  1.260124  0.571660  0.301252  \n0.386671         3  0.521747 -0.002266  0.475743  0.076767  \n0.386671         4  1.418371  1.604712  0.533203  0.358519  \n0.117933         5  1.167222  0.532886  0.299814  0.100819  \n...            ...       ...       ...       ...       ...  \n0.386671      1871 -1.637440 -1.262939 -1.654093 -0.115648  \n0.117933      1872  1.562744  1.725648  2.346062  0.358519  \n0.386671      1873  1.655621  1.913690  2.241715  0.401469  \n0.386671      1874  1.070302  1.081698  2.083909  0.259562  \n0.386671      1875  1.872884  1.867890  2.489571  0.389443  \n\n[99726 rows x 9 columns]"
     },
     "execution_count": 10,
     "metadata": {},
     "output_type": "execute_result"
    }
   ],
   "source": [
    "metrics_scores"
   ]
  },
  {
   "cell_type": "code",
   "execution_count": null,
   "metadata": {},
   "outputs": [],
   "source": []
  }
 ],
 "metadata": {
  "kernelspec": {
   "display_name": "Python 3 (ipykernel)",
   "language": "python",
   "name": "python3"
  },
  "language_info": {
   "codemirror_mode": {
    "name": "ipython",
    "version": 3
   },
   "file_extension": ".py",
   "mimetype": "text/x-python",
   "name": "python",
   "nbconvert_exporter": "python",
   "pygments_lexer": "ipython3",
   "version": "3.9.15"
  }
 },
 "nbformat": 4,
 "nbformat_minor": 5
}