{
 "cells": [
  {
   "cell_type": "markdown",
   "metadata": {},
   "source": [
    "# Test metrics on Toy Example"
   ]
  },
  {
   "cell_type": "code",
   "execution_count": 29,
   "metadata": {},
   "outputs": [
    {
     "name": "stdout",
     "output_type": "stream",
     "text": [
      "The autoreload extension is already loaded. To reload it, use:\n",
      "  %reload_ext autoreload\n"
     ]
    }
   ],
   "source": [
    "# FUNCTIONS / CLASSES :\n",
    "import sys\n",
    "from tqdm import tqdm\n",
    "%load_ext autoreload\n",
    "%autoreload 2\n",
    "sys.path.append(\"./code\")\n",
    "from metrics import METEOR, BLEU, NIST, WACC, compute_metrics\n",
    "from data_processing import WMT22, dataset\n",
    "\n",
    "metrics = [METEOR, BLEU, NIST, WACC]"
   ]
  },
  {
   "cell_type": "code",
   "execution_count": 46,
   "metadata": {},
   "outputs": [],
   "source": [
    "reference = \"Je me présente je m'appelle Henri\"\n",
    "good_candidate = \"Je me présente je me prénomme Henri\"\n",
    "avg_candidate = \"Bonjour mon nom est Henri\"\n",
    "bad_candidate = \"J'aime les pizzas\""
   ]
  },
  {
   "cell_type": "markdown",
   "metadata": {},
   "source": [
    "## 1 - METEOR"
   ]
  },
  {
   "cell_type": "code",
   "execution_count": 47,
   "metadata": {},
   "outputs": [
    {
     "name": "stdout",
     "output_type": "stream",
     "text": [
      "0.5391304347826087\n",
      "0.09803921568627452\n",
      "0.0\n"
     ]
    }
   ],
   "source": [
    "print(METEOR(good_candidate, reference))\n",
    "print(METEOR(avg_candidate, reference))\n",
    "print(METEOR(bad_candidate, reference))"
   ]
  },
  {
   "cell_type": "markdown",
   "metadata": {},
   "source": [
    "## 2 - BLEU"
   ]
  },
  {
   "cell_type": "code",
   "execution_count": 48,
   "metadata": {},
   "outputs": [
    {
     "name": "stdout",
     "output_type": "stream",
     "text": [
      "0.7054014205932617\n",
      "0.1666666567325592\n",
      "0.0\n"
     ]
    }
   ],
   "source": [
    "print(BLEU(good_candidate, reference))\n",
    "print(BLEU(avg_candidate, reference))\n",
    "print(BLEU(bad_candidate, reference))"
   ]
  },
  {
   "cell_type": "markdown",
   "metadata": {},
   "source": [
    "## 3 - NIST"
   ]
  },
  {
   "cell_type": "code",
   "execution_count": 49,
   "metadata": {},
   "outputs": [
    {
     "name": "stdout",
     "output_type": "stream",
     "text": [
      "1.9656602059902528\n",
      "0.3869880158145604\n",
      "0.0\n"
     ]
    }
   ],
   "source": [
    "print(NIST(good_candidate, reference))\n",
    "print(NIST(avg_candidate, reference))\n",
    "print(NIST(bad_candidate, reference))"
   ]
  },
  {
   "cell_type": "markdown",
   "metadata": {},
   "source": [
    "## 4 - WAcc"
   ]
  },
  {
   "cell_type": "code",
   "execution_count": 50,
   "metadata": {},
   "outputs": [
    {
     "name": "stdout",
     "output_type": "stream",
     "text": [
      "0.7142857015132904\n",
      "0.0\n",
      "-1.0\n"
     ]
    }
   ],
   "source": [
    "print(WACC(good_candidate, reference))\n",
    "print(WACC(avg_candidate, reference))\n",
    "print(WACC(bad_candidate, reference))"
   ]
  },
  {
   "cell_type": "markdown",
   "metadata": {},
   "source": [
    "## Test on WMT Data"
   ]
  },
  {
   "cell_type": "code",
   "execution_count": 69,
   "metadata": {},
   "outputs": [],
   "source": [
    "df = WMT22.read_data()"
   ]
  },
  {
   "cell_type": "code",
   "execution_count": 70,
   "metadata": {},
   "outputs": [
    {
     "data": {
      "text/html": [
       "<div>\n",
       "<style scoped>\n",
       "    .dataframe tbody tr th:only-of-type {\n",
       "        vertical-align: middle;\n",
       "    }\n",
       "\n",
       "    .dataframe tbody tr th {\n",
       "        vertical-align: top;\n",
       "    }\n",
       "\n",
       "    .dataframe thead th {\n",
       "        text-align: right;\n",
       "    }\n",
       "</style>\n",
       "<table border=\"1\" class=\"dataframe\">\n",
       "  <thead>\n",
       "    <tr style=\"text-align: right;\">\n",
       "      <th></th>\n",
       "      <th>seg_id</th>\n",
       "      <th>sys</th>\n",
       "      <th>hyp</th>\n",
       "      <th>domain</th>\n",
       "      <th>doc</th>\n",
       "      <th>source</th>\n",
       "      <th>ref</th>\n",
       "      <th>score</th>\n",
       "      <th>sltl</th>\n",
       "    </tr>\n",
       "  </thead>\n",
       "  <tbody>\n",
       "    <tr>\n",
       "      <th>29200</th>\n",
       "      <td>911</td>\n",
       "      <td>QUARTZ_TuneReranking</td>\n",
       "      <td>Возврат товара должен быть произведен в течени...</td>\n",
       "      <td>ecommerce</td>\n",
       "      <td>ecommerce_en_24</td>\n",
       "      <td>Returns must be within 30 days of delivery in ...</td>\n",
       "      <td>Возвраты осуществляются в течение 30 дней с мо...</td>\n",
       "      <td>0.0</td>\n",
       "      <td>enru</td>\n",
       "    </tr>\n",
       "    <tr>\n",
       "      <th>1085</th>\n",
       "      <td>1102</td>\n",
       "      <td>bleu_bestmbr</td>\n",
       "      <td>Через несколько недель после того, как я верну...</td>\n",
       "      <td>social</td>\n",
       "      <td>t1_hoh4p6r</td>\n",
       "      <td>A few weeks after I returned home, I received ...</td>\n",
       "      <td>Спустя несколько недель после того, как я верн...</td>\n",
       "      <td>-3.0</td>\n",
       "      <td>enru</td>\n",
       "    </tr>\n",
       "  </tbody>\n",
       "</table>\n",
       "</div>"
      ],
      "text/plain": [
       "       seg_id                   sys  \\\n",
       "29200     911  QUARTZ_TuneReranking   \n",
       "1085     1102          bleu_bestmbr   \n",
       "\n",
       "                                                     hyp     domain  \\\n",
       "29200  Возврат товара должен быть произведен в течени...  ecommerce   \n",
       "1085   Через несколько недель после того, как я верну...     social   \n",
       "\n",
       "                   doc                                             source  \\\n",
       "29200  ecommerce_en_24  Returns must be within 30 days of delivery in ...   \n",
       "1085        t1_hoh4p6r  A few weeks after I returned home, I received ...   \n",
       "\n",
       "                                                     ref  score  sltl  \n",
       "29200  Возвраты осуществляются в течение 30 дней с мо...    0.0  enru  \n",
       "1085   Спустя несколько недель после того, как я верн...   -3.0  enru  "
      ]
     },
     "execution_count": 70,
     "metadata": {},
     "output_type": "execute_result"
    }
   ],
   "source": [
    "sample = df.sample(1000)\n",
    "sample.sample(2)"
   ]
  },
  {
   "cell_type": "code",
   "execution_count": 78,
   "metadata": {},
   "outputs": [
    {
     "name": "stderr",
     "output_type": "stream",
     "text": [
      "100%|█████████████████████████████████████████████| 4/4 [00:01<00:00,  2.94it/s]\n"
     ]
    }
   ],
   "source": [
    "for metric in tqdm(metrics):\n",
    "    \n",
    "    sample[str(metric.__name__)] = sample.apply(lambda x : metric(\n",
    "        reference = x.ref, \n",
    "        candidate = x.hyp,), axis = 1)"
   ]
  },
  {
   "cell_type": "code",
   "execution_count": 79,
   "metadata": {},
   "outputs": [
    {
     "data": {
      "text/html": [
       "<div>\n",
       "<style scoped>\n",
       "    .dataframe tbody tr th:only-of-type {\n",
       "        vertical-align: middle;\n",
       "    }\n",
       "\n",
       "    .dataframe tbody tr th {\n",
       "        vertical-align: top;\n",
       "    }\n",
       "\n",
       "    .dataframe thead th {\n",
       "        text-align: right;\n",
       "    }\n",
       "</style>\n",
       "<table border=\"1\" class=\"dataframe\">\n",
       "  <thead>\n",
       "    <tr style=\"text-align: right;\">\n",
       "      <th></th>\n",
       "      <th>score</th>\n",
       "      <th>METEOR</th>\n",
       "      <th>BLEU</th>\n",
       "      <th>NIST</th>\n",
       "      <th>WACC</th>\n",
       "    </tr>\n",
       "  </thead>\n",
       "  <tbody>\n",
       "    <tr>\n",
       "      <th>score</th>\n",
       "      <td>1.000000</td>\n",
       "      <td>0.129131</td>\n",
       "      <td>0.107183</td>\n",
       "      <td>0.035658</td>\n",
       "      <td>0.102204</td>\n",
       "    </tr>\n",
       "    <tr>\n",
       "      <th>METEOR</th>\n",
       "      <td>0.129131</td>\n",
       "      <td>1.000000</td>\n",
       "      <td>0.876642</td>\n",
       "      <td>0.728350</td>\n",
       "      <td>0.762269</td>\n",
       "    </tr>\n",
       "    <tr>\n",
       "      <th>BLEU</th>\n",
       "      <td>0.107183</td>\n",
       "      <td>0.876642</td>\n",
       "      <td>1.000000</td>\n",
       "      <td>0.777584</td>\n",
       "      <td>0.889027</td>\n",
       "    </tr>\n",
       "    <tr>\n",
       "      <th>NIST</th>\n",
       "      <td>0.035658</td>\n",
       "      <td>0.728350</td>\n",
       "      <td>0.777584</td>\n",
       "      <td>1.000000</td>\n",
       "      <td>0.636838</td>\n",
       "    </tr>\n",
       "    <tr>\n",
       "      <th>WACC</th>\n",
       "      <td>0.102204</td>\n",
       "      <td>0.762269</td>\n",
       "      <td>0.889027</td>\n",
       "      <td>0.636838</td>\n",
       "      <td>1.000000</td>\n",
       "    </tr>\n",
       "  </tbody>\n",
       "</table>\n",
       "</div>"
      ],
      "text/plain": [
       "           score    METEOR      BLEU      NIST      WACC\n",
       "score   1.000000  0.129131  0.107183  0.035658  0.102204\n",
       "METEOR  0.129131  1.000000  0.876642  0.728350  0.762269\n",
       "BLEU    0.107183  0.876642  1.000000  0.777584  0.889027\n",
       "NIST    0.035658  0.728350  0.777584  1.000000  0.636838\n",
       "WACC    0.102204  0.762269  0.889027  0.636838  1.000000"
      ]
     },
     "execution_count": 79,
     "metadata": {},
     "output_type": "execute_result"
    }
   ],
   "source": [
    "sample[[\"score\"] + [str(metric.__name__) for metric in metrics]].corr(method = \"spearman\")"
   ]
  },
  {
   "cell_type": "code",
   "execution_count": 81,
   "metadata": {},
   "outputs": [
    {
     "data": {
      "text/html": [
       "<div>\n",
       "<style scoped>\n",
       "    .dataframe tbody tr th:only-of-type {\n",
       "        vertical-align: middle;\n",
       "    }\n",
       "\n",
       "    .dataframe tbody tr th {\n",
       "        vertical-align: top;\n",
       "    }\n",
       "\n",
       "    .dataframe thead th {\n",
       "        text-align: right;\n",
       "    }\n",
       "</style>\n",
       "<table border=\"1\" class=\"dataframe\">\n",
       "  <thead>\n",
       "    <tr style=\"text-align: right;\">\n",
       "      <th></th>\n",
       "      <th>score</th>\n",
       "      <th>METEOR</th>\n",
       "      <th>BLEU</th>\n",
       "      <th>NIST</th>\n",
       "      <th>WACC</th>\n",
       "    </tr>\n",
       "  </thead>\n",
       "  <tbody>\n",
       "    <tr>\n",
       "      <th>score</th>\n",
       "      <td>1.000000</td>\n",
       "      <td>0.100935</td>\n",
       "      <td>0.083766</td>\n",
       "      <td>0.027280</td>\n",
       "      <td>0.079863</td>\n",
       "    </tr>\n",
       "    <tr>\n",
       "      <th>METEOR</th>\n",
       "      <td>0.100935</td>\n",
       "      <td>1.000000</td>\n",
       "      <td>0.710016</td>\n",
       "      <td>0.538894</td>\n",
       "      <td>0.590097</td>\n",
       "    </tr>\n",
       "    <tr>\n",
       "      <th>BLEU</th>\n",
       "      <td>0.083766</td>\n",
       "      <td>0.710016</td>\n",
       "      <td>1.000000</td>\n",
       "      <td>0.593039</td>\n",
       "      <td>0.732003</td>\n",
       "    </tr>\n",
       "    <tr>\n",
       "      <th>NIST</th>\n",
       "      <td>0.027280</td>\n",
       "      <td>0.538894</td>\n",
       "      <td>0.593039</td>\n",
       "      <td>1.000000</td>\n",
       "      <td>0.460533</td>\n",
       "    </tr>\n",
       "    <tr>\n",
       "      <th>WACC</th>\n",
       "      <td>0.079863</td>\n",
       "      <td>0.590097</td>\n",
       "      <td>0.732003</td>\n",
       "      <td>0.460533</td>\n",
       "      <td>1.000000</td>\n",
       "    </tr>\n",
       "  </tbody>\n",
       "</table>\n",
       "</div>"
      ],
      "text/plain": [
       "           score    METEOR      BLEU      NIST      WACC\n",
       "score   1.000000  0.100935  0.083766  0.027280  0.079863\n",
       "METEOR  0.100935  1.000000  0.710016  0.538894  0.590097\n",
       "BLEU    0.083766  0.710016  1.000000  0.593039  0.732003\n",
       "NIST    0.027280  0.538894  0.593039  1.000000  0.460533\n",
       "WACC    0.079863  0.590097  0.732003  0.460533  1.000000"
      ]
     },
     "execution_count": 81,
     "metadata": {},
     "output_type": "execute_result"
    }
   ],
   "source": [
    "sample[[\"score\"] + [str(metric.__name__) for metric in metrics]].corr(method = \"kendall\")"
   ]
  },
  {
   "cell_type": "markdown",
   "metadata": {},
   "source": [
    "# Test dataset and dataloader"
   ]
  },
  {
   "cell_type": "code",
   "execution_count": 27,
   "metadata": {},
   "outputs": [
    {
     "name": "stderr",
     "output_type": "stream",
     "text": [
      "[nltk_data] Downloading package wordnet to /Users/henriup/nltk_data...\n",
      "[nltk_data]   Package wordnet is already up-to-date!\n",
      "[nltk_data] Downloading package omw-1.4 to /Users/henriup/nltk_data...\n",
      "[nltk_data]   Package omw-1.4 is already up-to-date!\n"
     ]
    }
   ],
   "source": [
    "dataset_WMT22 = dataset(set_name = \"WMT22\")"
   ]
  },
  {
   "cell_type": "code",
   "execution_count": 28,
   "metadata": {},
   "outputs": [
    {
     "data": {
      "text/plain": "('Sie können jederzeit zurückkehren, da unser Chat-Service-Fenster rund um die Uhr geöffnet ist',\n 'Sie können jederzeit wiederkommen, da unser Chat-Service-Fenster täglich rund um die Uhr geöffnet ist')"
     },
     "execution_count": 28,
     "metadata": {},
     "output_type": "execute_result"
    }
   ],
   "source": [
    "dataset_WMT22.__getitem__(0)"
   ]
  },
  {
   "cell_type": "code",
   "execution_count": 72,
   "metadata": {},
   "outputs": [
    {
     "name": "stderr",
     "output_type": "stream",
     "text": [
      "100%|██████████| 5/5 [00:00<00:00, 34.06it/s]\n"
     ]
    }
   ],
   "source": [
    "metrics_scores = compute_metrics(\n",
    "    set_name = \"WMT22\",\n",
    "    metrics = metrics,\n",
    "    batch_size = 20,\n",
    "    path = \"./data/metrics_scores.csv\"\n",
    ")"
   ]
  },
  {
   "cell_type": "code",
   "execution_count": 73,
   "metadata": {},
   "outputs": [],
   "source": [
    "metrics_scores = pd.read_csv(\n",
    "    \"./data/metrics_scores.csv\",\n",
    "    index_col = \"gold_score\"\n",
    ")"
   ]
  },
  {
   "cell_type": "code",
   "execution_count": 74,
   "metadata": {},
   "outputs": [
    {
     "data": {
      "text/html": "<div>\n<style scoped>\n    .dataframe tbody tr th:only-of-type {\n        vertical-align: middle;\n    }\n\n    .dataframe tbody tr th {\n        vertical-align: top;\n    }\n\n    .dataframe thead th {\n        text-align: right;\n    }\n</style>\n<table border=\"1\" class=\"dataframe\">\n  <thead>\n    <tr style=\"text-align: right;\">\n      <th></th>\n      <th>hyp</th>\n      <th>ref</th>\n      <th>METEOR</th>\n      <th>BLEU</th>\n      <th>NIST</th>\n      <th>WACC</th>\n    </tr>\n    <tr>\n      <th>gold_score</th>\n      <th></th>\n      <th></th>\n      <th></th>\n      <th></th>\n      <th></th>\n      <th></th>\n    </tr>\n  </thead>\n  <tbody>\n    <tr>\n      <th>0.0</th>\n      <td>Sie können jederzeit zurückkehren, da unser Ch...</td>\n      <td>Sie können jederzeit wiederkommen, da unser Ch...</td>\n      <td>0.867122</td>\n      <td>0.854733</td>\n      <td>3.555746</td>\n      <td>0.857143</td>\n    </tr>\n    <tr>\n      <th>0.0</th>\n      <td>Ich hoffe sehr, dass Sie eine Lösung finden</td>\n      <td>Ich hoffe wirklich, dass Sie eine Lösung finde...</td>\n      <td>0.801768</td>\n      <td>0.772185</td>\n      <td>2.817808</td>\n      <td>0.777778</td>\n    </tr>\n    <tr>\n      <th>0.0</th>\n      <td>Vielen Dank, dass Sie #PRS_ORG# kontaktiert ha...</td>\n      <td>Vielen Dank, dass Sie #PRS_ORG# kontaktiert ha...</td>\n      <td>0.689663</td>\n      <td>0.500000</td>\n      <td>2.730337</td>\n      <td>0.466667</td>\n    </tr>\n    <tr>\n      <th>0.0</th>\n      <td>Ich wünsche Ihnen einen schönen Abend.</td>\n      <td>Ich wünsche Ihnen noch einen schönen Abend.</td>\n      <td>0.875743</td>\n      <td>0.846482</td>\n      <td>2.782738</td>\n      <td>0.857143</td>\n    </tr>\n    <tr>\n      <th>-1.0</th>\n      <td>Der Iran meldet die niedrigste Anzahl tägliche...</td>\n      <td>Iran meldet niedrigste Zahl täglicher COVID-19...</td>\n      <td>0.823621</td>\n      <td>0.615385</td>\n      <td>2.569898</td>\n      <td>0.500000</td>\n    </tr>\n    <tr>\n      <th>...</th>\n      <td>...</td>\n      <td>...</td>\n      <td>...</td>\n      <td>...</td>\n      <td>...</td>\n      <td>...</td>\n    </tr>\n    <tr>\n      <th>-1.0</th>\n      <td>Warten Sie, bis der Bildschirm „Wiederherstell...</td>\n      <td>Warten Sie, bis der Bildschirm „Wiederherstell...</td>\n      <td>0.999711</td>\n      <td>1.000000</td>\n      <td>3.584963</td>\n      <td>1.000000</td>\n    </tr>\n    <tr>\n      <th>-4.0</th>\n      <td>Lassen Sie den Netzschalter los.</td>\n      <td>Lassen Sie die Power-Taste los.</td>\n      <td>0.625000</td>\n      <td>0.600000</td>\n      <td>1.723308</td>\n      <td>0.600000</td>\n    </tr>\n    <tr>\n      <th>-2.0</th>\n      <td>Nachdem der E-Reader zurückgesetzt wurde, werd...</td>\n      <td>Nachdem das Lesegerät zurückgesetzt wurde, wer...</td>\n      <td>0.881307</td>\n      <td>0.857143</td>\n      <td>3.488938</td>\n      <td>0.857143</td>\n    </tr>\n    <tr>\n      <th>-1.0</th>\n      <td>Danach müssen Sie sich mit Ihrer E-Mail-Adress...</td>\n      <td>Danach müssen Sie sich mit Ihrer E-Mail-Adress...</td>\n      <td>0.905455</td>\n      <td>0.909091</td>\n      <td>3.144938</td>\n      <td>0.909091</td>\n    </tr>\n    <tr>\n      <th>-2.1</th>\n      <td>unsere aktuellen Preise finden Sie auf der Reg...</td>\n      <td>Auf der Registerkarte „Zahlungen und Postgebüh...</td>\n      <td>0.679348</td>\n      <td>0.636364</td>\n      <td>2.583296</td>\n      <td>0.000000</td>\n    </tr>\n  </tbody>\n</table>\n<p>100 rows × 6 columns</p>\n</div>",
      "text/plain": "                                                          hyp  \\\ngold_score                                                      \n 0.0        Sie können jederzeit zurückkehren, da unser Ch...   \n 0.0              Ich hoffe sehr, dass Sie eine Lösung finden   \n 0.0        Vielen Dank, dass Sie #PRS_ORG# kontaktiert ha...   \n 0.0                   Ich wünsche Ihnen einen schönen Abend.   \n-1.0        Der Iran meldet die niedrigste Anzahl tägliche...   \n...                                                       ...   \n-1.0        Warten Sie, bis der Bildschirm „Wiederherstell...   \n-4.0                         Lassen Sie den Netzschalter los.   \n-2.0        Nachdem der E-Reader zurückgesetzt wurde, werd...   \n-1.0        Danach müssen Sie sich mit Ihrer E-Mail-Adress...   \n-2.1        unsere aktuellen Preise finden Sie auf der Reg...   \n\n                                                          ref    METEOR  \\\ngold_score                                                                \n 0.0        Sie können jederzeit wiederkommen, da unser Ch...  0.867122   \n 0.0        Ich hoffe wirklich, dass Sie eine Lösung finde...  0.801768   \n 0.0        Vielen Dank, dass Sie #PRS_ORG# kontaktiert ha...  0.689663   \n 0.0              Ich wünsche Ihnen noch einen schönen Abend.  0.875743   \n-1.0        Iran meldet niedrigste Zahl täglicher COVID-19...  0.823621   \n...                                                       ...       ...   \n-1.0        Warten Sie, bis der Bildschirm „Wiederherstell...  0.999711   \n-4.0                          Lassen Sie die Power-Taste los.  0.625000   \n-2.0        Nachdem das Lesegerät zurückgesetzt wurde, wer...  0.881307   \n-1.0        Danach müssen Sie sich mit Ihrer E-Mail-Adress...  0.905455   \n-2.1        Auf der Registerkarte „Zahlungen und Postgebüh...  0.679348   \n\n                BLEU      NIST      WACC  \ngold_score                                \n 0.0        0.854733  3.555746  0.857143  \n 0.0        0.772185  2.817808  0.777778  \n 0.0        0.500000  2.730337  0.466667  \n 0.0        0.846482  2.782738  0.857143  \n-1.0        0.615385  2.569898  0.500000  \n...              ...       ...       ...  \n-1.0        1.000000  3.584963  1.000000  \n-4.0        0.600000  1.723308  0.600000  \n-2.0        0.857143  3.488938  0.857143  \n-1.0        0.909091  3.144938  0.909091  \n-2.1        0.636364  2.583296  0.000000  \n\n[100 rows x 6 columns]"
     },
     "execution_count": 74,
     "metadata": {},
     "output_type": "execute_result"
    }
   ],
   "source": [
    "metrics_scores"
   ]
  },
  {
   "cell_type": "code",
   "execution_count": null,
   "metadata": {},
   "outputs": [],
   "source": []
  }
 ],
 "metadata": {
  "kernelspec": {
   "display_name": "Python 3 (ipykernel)",
   "language": "python",
   "name": "python3"
  },
  "language_info": {
   "codemirror_mode": {
    "name": "ipython",
    "version": 3
   },
   "file_extension": ".py",
   "mimetype": "text/x-python",
   "name": "python",
   "nbconvert_exporter": "python",
   "pygments_lexer": "ipython3",
   "version": "3.9.15"
  }
 },
 "nbformat": 4,
 "nbformat_minor": 5
}