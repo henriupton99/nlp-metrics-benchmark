{
 "cells": [
  {
   "cell_type": "markdown",
   "metadata": {},
   "source": [
    "# Test metrics on Toy Example"
   ]
  },
  {
   "cell_type": "code",
   "execution_count": 103,
   "metadata": {},
   "outputs": [
    {
     "name": "stdout",
     "output_type": "stream",
     "text": [
      "The autoreload extension is already loaded. To reload it, use:\n",
      "  %reload_ext autoreload\n"
     ]
    }
   ],
   "source": [
    "# FUNCTIONS / CLASSES :\n",
    "import sys\n",
    "from tqdm import tqdm\n",
    "import pandas as pd\n",
    "%load_ext autoreload\n",
    "%autoreload 2\n",
    "sys.path.append(\"./code\")\n",
    "from metrics import METEOR, BLEU, WACC, CHRF, TER, compute_metrics\n",
    "from data_processing import WMT22, dataset\n",
    "\n",
    "metrics = [METEOR, BLEU, WACC, CHRF, TER]"
   ]
  },
  {
   "cell_type": "code",
   "execution_count": 104,
   "metadata": {},
   "outputs": [],
   "source": [
    "reference = \"Je me présente je m'appelle Henri\"\n",
    "good_candidate = \"Je me présente je me prénomme Henri\"\n",
    "avg_candidate = \"Bonjour mon nom est Henri\"\n",
    "bad_candidate = \"J'aime les pizzas\""
   ]
  },
  {
   "cell_type": "code",
   "execution_count": 105,
   "metadata": {},
   "outputs": [
    {
     "name": "stdout",
     "output_type": "stream",
     "text": [
      "METRIC :  METEOR\n",
      "good candidate :  0.6098360655737705\n",
      "avg candidate :  0.0847457627118644\n",
      "bad candidate :  0.0\n",
      "METRIC :  BLEU\n",
      "good candidate :  0.7142857313156128\n",
      "avg candidate :  0.16374613344669342\n",
      "bad candidate :  0.0\n",
      "METRIC :  WACC\n",
      "good candidate :  0.6666666567325592\n",
      "avg candidate :  0.1666666865348816\n",
      "bad candidate :  0.0\n",
      "METRIC :  CHRF\n",
      "good candidate :  0.6306954117328964\n",
      "avg candidate :  0.15168410023582476\n",
      "bad candidate :  0.08836230975871608\n",
      "METRIC :  TER\n",
      "good candidate :  0.6666666567325592\n",
      "avg candidate :  0.1666666865348816\n",
      "bad candidate :  0.0\n"
     ]
    }
   ],
   "source": [
    "for metric in metrics:\n",
    "    print(\"METRIC : \", str(metric.__name__))\n",
    "    print(\"good candidate : \", metric(reference = reference, candidate = good_candidate))\n",
    "    print(\"avg candidate : \", metric(reference = reference, candidate = avg_candidate))\n",
    "    print(\"bad candidate : \", metric(reference = reference, candidate = bad_candidate))"
   ]
  },
  {
   "cell_type": "markdown",
   "metadata": {},
   "source": [
    "## Test on WMT Data"
   ]
  },
  {
   "cell_type": "code",
   "execution_count": 106,
   "metadata": {},
   "outputs": [],
   "source": [
    "df = WMT22.read_data()"
   ]
  },
  {
   "cell_type": "code",
   "execution_count": 107,
   "metadata": {},
   "outputs": [
    {
     "data": {
      "text/html": "<div>\n<style scoped>\n    .dataframe tbody tr th:only-of-type {\n        vertical-align: middle;\n    }\n\n    .dataframe tbody tr th {\n        vertical-align: top;\n    }\n\n    .dataframe thead th {\n        text-align: right;\n    }\n</style>\n<table border=\"1\" class=\"dataframe\">\n  <thead>\n    <tr style=\"text-align: right;\">\n      <th></th>\n      <th>seg_id</th>\n      <th>sys</th>\n      <th>hyp</th>\n      <th>domain</th>\n      <th>doc</th>\n      <th>source</th>\n      <th>ref</th>\n      <th>score</th>\n      <th>sltl</th>\n    </tr>\n  </thead>\n  <tbody>\n    <tr>\n      <th>9415</th>\n      <td>1392</td>\n      <td>JDExploreAcademy</td>\n      <td>Wenn möglich, sichern Sie alle Bücher oder Dok...</td>\n      <td>conversation</td>\n      <td>conversation_en_fr_CLIENT-02_default_2020-12-2...</td>\n      <td>If possible, back up any books or documents th...</td>\n      <td>Sichern Sie nach Möglichkeit alle Bücher oder ...</td>\n      <td>0.0</td>\n      <td>ende</td>\n    </tr>\n    <tr>\n      <th>7390</th>\n      <td>1351</td>\n      <td>eTranslation</td>\n      <td>У меня есть несколько избранных семейных отнош...</td>\n      <td>social</td>\n      <td>t1_hqorx78</td>\n      <td>I do have a select few familial relationships,...</td>\n      <td>У меня есть несколько избранных членов семьи, ...</td>\n      <td>-15.0</td>\n      <td>enru</td>\n    </tr>\n  </tbody>\n</table>\n</div>",
      "text/plain": "      seg_id               sys  \\\n9415    1392  JDExploreAcademy   \n7390    1351      eTranslation   \n\n                                                    hyp        domain  \\\n9415  Wenn möglich, sichern Sie alle Bücher oder Dok...  conversation   \n7390  У меня есть несколько избранных семейных отнош...        social   \n\n                                                    doc  \\\n9415  conversation_en_fr_CLIENT-02_default_2020-12-2...   \n7390                                         t1_hqorx78   \n\n                                                 source  \\\n9415  If possible, back up any books or documents th...   \n7390  I do have a select few familial relationships,...   \n\n                                                    ref  score  sltl  \n9415  Sichern Sie nach Möglichkeit alle Bücher oder ...    0.0  ende  \n7390  У меня есть несколько избранных членов семьи, ...  -15.0  enru  "
     },
     "execution_count": 107,
     "metadata": {},
     "output_type": "execute_result"
    }
   ],
   "source": [
    "sample = df.sample(1000)\n",
    "sample.sample(2)"
   ]
  },
  {
   "cell_type": "code",
   "execution_count": 108,
   "metadata": {},
   "outputs": [
    {
     "name": "stderr",
     "output_type": "stream",
     "text": [
      "100%|██████████| 5/5 [00:19<00:00,  3.85s/it]\n"
     ]
    }
   ],
   "source": [
    "for metric in tqdm(metrics):\n",
    "    \n",
    "    sample[str(metric.__name__)] = sample.apply(lambda x : metric(\n",
    "        reference = x.ref, \n",
    "        candidate = x.hyp,), axis = 1)"
   ]
  },
  {
   "cell_type": "code",
   "execution_count": 109,
   "metadata": {},
   "outputs": [
    {
     "data": {
      "text/html": "<div>\n<style scoped>\n    .dataframe tbody tr th:only-of-type {\n        vertical-align: middle;\n    }\n\n    .dataframe tbody tr th {\n        vertical-align: top;\n    }\n\n    .dataframe thead th {\n        text-align: right;\n    }\n</style>\n<table border=\"1\" class=\"dataframe\">\n  <thead>\n    <tr style=\"text-align: right;\">\n      <th></th>\n      <th>score</th>\n      <th>METEOR</th>\n      <th>BLEU</th>\n      <th>WACC</th>\n      <th>CHRF</th>\n      <th>TER</th>\n    </tr>\n  </thead>\n  <tbody>\n    <tr>\n      <th>score</th>\n      <td>1.000000</td>\n      <td>0.143539</td>\n      <td>0.129894</td>\n      <td>0.126364</td>\n      <td>0.148412</td>\n      <td>0.124266</td>\n    </tr>\n    <tr>\n      <th>METEOR</th>\n      <td>0.143539</td>\n      <td>1.000000</td>\n      <td>0.884189</td>\n      <td>0.782927</td>\n      <td>0.871562</td>\n      <td>0.834735</td>\n    </tr>\n    <tr>\n      <th>BLEU</th>\n      <td>0.129894</td>\n      <td>0.884189</td>\n      <td>1.000000</td>\n      <td>0.896821</td>\n      <td>0.839349</td>\n      <td>0.922585</td>\n    </tr>\n    <tr>\n      <th>WACC</th>\n      <td>0.126364</td>\n      <td>0.782927</td>\n      <td>0.896821</td>\n      <td>1.000000</td>\n      <td>0.749420</td>\n      <td>0.968463</td>\n    </tr>\n    <tr>\n      <th>CHRF</th>\n      <td>0.148412</td>\n      <td>0.871562</td>\n      <td>0.839349</td>\n      <td>0.749420</td>\n      <td>1.000000</td>\n      <td>0.782937</td>\n    </tr>\n    <tr>\n      <th>TER</th>\n      <td>0.124266</td>\n      <td>0.834735</td>\n      <td>0.922585</td>\n      <td>0.968463</td>\n      <td>0.782937</td>\n      <td>1.000000</td>\n    </tr>\n  </tbody>\n</table>\n</div>",
      "text/plain": "           score    METEOR      BLEU      WACC      CHRF       TER\nscore   1.000000  0.143539  0.129894  0.126364  0.148412  0.124266\nMETEOR  0.143539  1.000000  0.884189  0.782927  0.871562  0.834735\nBLEU    0.129894  0.884189  1.000000  0.896821  0.839349  0.922585\nWACC    0.126364  0.782927  0.896821  1.000000  0.749420  0.968463\nCHRF    0.148412  0.871562  0.839349  0.749420  1.000000  0.782937\nTER     0.124266  0.834735  0.922585  0.968463  0.782937  1.000000"
     },
     "execution_count": 109,
     "metadata": {},
     "output_type": "execute_result"
    }
   ],
   "source": [
    "sample[[\"score\"] + [str(metric.__name__) for metric in metrics]].corr(method = \"spearman\")"
   ]
  },
  {
   "cell_type": "code",
   "execution_count": 110,
   "metadata": {},
   "outputs": [
    {
     "data": {
      "text/html": "<div>\n<style scoped>\n    .dataframe tbody tr th:only-of-type {\n        vertical-align: middle;\n    }\n\n    .dataframe tbody tr th {\n        vertical-align: top;\n    }\n\n    .dataframe thead th {\n        text-align: right;\n    }\n</style>\n<table border=\"1\" class=\"dataframe\">\n  <thead>\n    <tr style=\"text-align: right;\">\n      <th></th>\n      <th>score</th>\n      <th>METEOR</th>\n      <th>BLEU</th>\n      <th>WACC</th>\n      <th>CHRF</th>\n      <th>TER</th>\n    </tr>\n  </thead>\n  <tbody>\n    <tr>\n      <th>score</th>\n      <td>1.000000</td>\n      <td>0.111506</td>\n      <td>0.100801</td>\n      <td>0.098154</td>\n      <td>0.115328</td>\n      <td>0.096912</td>\n    </tr>\n    <tr>\n      <th>METEOR</th>\n      <td>0.111506</td>\n      <td>1.000000</td>\n      <td>0.723389</td>\n      <td>0.610296</td>\n      <td>0.703017</td>\n      <td>0.664192</td>\n    </tr>\n    <tr>\n      <th>BLEU</th>\n      <td>0.100801</td>\n      <td>0.723389</td>\n      <td>1.000000</td>\n      <td>0.744026</td>\n      <td>0.669145</td>\n      <td>0.783374</td>\n    </tr>\n    <tr>\n      <th>WACC</th>\n      <td>0.098154</td>\n      <td>0.610296</td>\n      <td>0.744026</td>\n      <td>1.000000</td>\n      <td>0.574675</td>\n      <td>0.898617</td>\n    </tr>\n    <tr>\n      <th>CHRF</th>\n      <td>0.115328</td>\n      <td>0.703017</td>\n      <td>0.669145</td>\n      <td>0.574675</td>\n      <td>1.000000</td>\n      <td>0.607663</td>\n    </tr>\n    <tr>\n      <th>TER</th>\n      <td>0.096912</td>\n      <td>0.664192</td>\n      <td>0.783374</td>\n      <td>0.898617</td>\n      <td>0.607663</td>\n      <td>1.000000</td>\n    </tr>\n  </tbody>\n</table>\n</div>",
      "text/plain": "           score    METEOR      BLEU      WACC      CHRF       TER\nscore   1.000000  0.111506  0.100801  0.098154  0.115328  0.096912\nMETEOR  0.111506  1.000000  0.723389  0.610296  0.703017  0.664192\nBLEU    0.100801  0.723389  1.000000  0.744026  0.669145  0.783374\nWACC    0.098154  0.610296  0.744026  1.000000  0.574675  0.898617\nCHRF    0.115328  0.703017  0.669145  0.574675  1.000000  0.607663\nTER     0.096912  0.664192  0.783374  0.898617  0.607663  1.000000"
     },
     "execution_count": 110,
     "metadata": {},
     "output_type": "execute_result"
    }
   ],
   "source": [
    "sample[[\"score\"] + [str(metric.__name__) for metric in metrics]].corr(method = \"kendall\")"
   ]
  },
  {
   "cell_type": "markdown",
   "metadata": {},
   "source": [
    "# Test dataset and dataloader"
   ]
  },
  {
   "cell_type": "code",
   "execution_count": 7,
   "metadata": {},
   "outputs": [],
   "source": [
    "dataset_WMT22 = dataset(set_name = \"WMT22\")"
   ]
  },
  {
   "cell_type": "code",
   "execution_count": 9,
   "metadata": {},
   "outputs": [
    {
     "data": {
      "text/plain": "('Sie können jederzeit zurückkehren, da unser Chat-Service-Fenster rund um die Uhr geöffnet ist',\n 'Sie können jederzeit wiederkommen, da unser Chat-Service-Fenster täglich rund um die Uhr geöffnet ist',\n 'conversation',\n 1,\n 0.0)"
     },
     "execution_count": 9,
     "metadata": {},
     "output_type": "execute_result"
    }
   ],
   "source": [
    "dataset_WMT22.__getitem__(0)"
   ]
  },
  {
   "cell_type": "code",
   "execution_count": 111,
   "metadata": {},
   "outputs": [
    {
     "name": "stderr",
     "output_type": "stream",
     "text": [
      "100%|██████████| 4987/4987 [52:49<00:00,  1.57it/s]\n"
     ]
    }
   ],
   "source": [
    "metrics_scores = compute_metrics(\n",
    "    set_name = \"WMT22\",\n",
    "    metrics = metrics,\n",
    "    batch_size = 20,\n",
    "    path = \"./data/metrics_scores.csv\"\n",
    ")"
   ]
  },
  {
   "cell_type": "code",
   "execution_count": 112,
   "metadata": {},
   "outputs": [],
   "source": [
    "metrics_scores = pd.read_csv(\n",
    "    \"./data/metrics_scores.csv\",\n",
    "    index_col = \"gold_score\"\n",
    ")"
   ]
  },
  {
   "cell_type": "code",
   "execution_count": 113,
   "metadata": {},
   "outputs": [
    {
     "data": {
      "text/html": "<div>\n<style scoped>\n    .dataframe tbody tr th:only-of-type {\n        vertical-align: middle;\n    }\n\n    .dataframe tbody tr th {\n        vertical-align: top;\n    }\n\n    .dataframe thead th {\n        text-align: right;\n    }\n</style>\n<table border=\"1\" class=\"dataframe\">\n  <thead>\n    <tr style=\"text-align: right;\">\n      <th></th>\n      <th>sltl</th>\n      <th>hyp</th>\n      <th>ref</th>\n      <th>domain</th>\n      <th>seg_id</th>\n      <th>METEOR</th>\n      <th>BLEU</th>\n      <th>WACC</th>\n      <th>CHRF</th>\n      <th>TER</th>\n    </tr>\n    <tr>\n      <th>gold_score</th>\n      <th></th>\n      <th></th>\n      <th></th>\n      <th></th>\n      <th></th>\n      <th></th>\n      <th></th>\n      <th></th>\n      <th></th>\n      <th></th>\n    </tr>\n  </thead>\n  <tbody>\n    <tr>\n      <th>0.386671</th>\n      <td>ende</td>\n      <td>Sie können jederzeit zurückkehren, da unser Ch...</td>\n      <td>Sie können jederzeit wiederkommen, da unser Ch...</td>\n      <td>conversation</td>\n      <td>1</td>\n      <td>1.376832</td>\n      <td>1.642982</td>\n      <td>0.358519</td>\n      <td>0.979707</td>\n      <td>0.335239</td>\n    </tr>\n    <tr>\n      <th>0.386671</th>\n      <td>ende</td>\n      <td>Ich hoffe sehr, dass Sie eine Lösung finden</td>\n      <td>Ich hoffe wirklich, dass Sie eine Lösung finde...</td>\n      <td>conversation</td>\n      <td>2</td>\n      <td>1.061923</td>\n      <td>1.260124</td>\n      <td>0.301252</td>\n      <td>0.357702</td>\n      <td>0.278000</td>\n    </tr>\n    <tr>\n      <th>0.386671</th>\n      <td>ende</td>\n      <td>Vielen Dank, dass Sie #PRS_ORG# kontaktiert ha...</td>\n      <td>Vielen Dank, dass Sie #PRS_ORG# kontaktiert ha...</td>\n      <td>conversation</td>\n      <td>3</td>\n      <td>0.521747</td>\n      <td>-0.002266</td>\n      <td>0.076767</td>\n      <td>0.530673</td>\n      <td>0.101705</td>\n    </tr>\n    <tr>\n      <th>0.386671</th>\n      <td>ende</td>\n      <td>Ich wünsche Ihnen einen schönen Abend.</td>\n      <td>Ich wünsche Ihnen noch einen schönen Abend.</td>\n      <td>conversation</td>\n      <td>4</td>\n      <td>1.418371</td>\n      <td>1.604712</td>\n      <td>0.358519</td>\n      <td>1.297007</td>\n      <td>0.335239</td>\n    </tr>\n    <tr>\n      <th>0.117933</th>\n      <td>ende</td>\n      <td>Der Iran meldet die niedrigste Anzahl tägliche...</td>\n      <td>Iran meldet niedrigste Zahl täglicher COVID-19...</td>\n      <td>news</td>\n      <td>5</td>\n      <td>1.167222</td>\n      <td>0.532886</td>\n      <td>0.100819</td>\n      <td>1.134610</td>\n      <td>0.077665</td>\n    </tr>\n    <tr>\n      <th>...</th>\n      <td>...</td>\n      <td>...</td>\n      <td>...</td>\n      <td>...</td>\n      <td>...</td>\n      <td>...</td>\n      <td>...</td>\n      <td>...</td>\n      <td>...</td>\n      <td>...</td>\n    </tr>\n    <tr>\n      <th>0.386671</th>\n      <td>zhen</td>\n      <td>The exercise achievements have been confirmed ...</td>\n      <td>The results of the exercise have won recogniti...</td>\n      <td>news</td>\n      <td>1871</td>\n      <td>-1.637440</td>\n      <td>-1.262939</td>\n      <td>-0.115648</td>\n      <td>-1.791407</td>\n      <td>-0.138698</td>\n    </tr>\n    <tr>\n      <th>0.117933</th>\n      <td>zhen</td>\n      <td>Ruan Xiongsheng, the director of the Exercise ...</td>\n      <td>Ruan Xiongsheng, Director of the Exercise Guid...</td>\n      <td>news</td>\n      <td>1872</td>\n      <td>1.562744</td>\n      <td>1.725648</td>\n      <td>0.358519</td>\n      <td>1.667488</td>\n      <td>0.369582</td>\n    </tr>\n    <tr>\n      <th>0.386671</th>\n      <td>zhen</td>\n      <td>The achievements made from exercise proved spe...</td>\n      <td>The achievements made from the exercise proved...</td>\n      <td>news</td>\n      <td>1873</td>\n      <td>1.655621</td>\n      <td>1.913690</td>\n      <td>0.401469</td>\n      <td>1.875915</td>\n      <td>0.378168</td>\n    </tr>\n    <tr>\n      <th>0.386671</th>\n      <td>zhen</td>\n      <td>According to Chen Chunming, leader of Guidance...</td>\n      <td>According to Chen Chunming, leader of Guidance...</td>\n      <td>news</td>\n      <td>1874</td>\n      <td>1.070302</td>\n      <td>1.081698</td>\n      <td>0.259562</td>\n      <td>0.919349</td>\n      <td>0.265178</td>\n    </tr>\n    <tr>\n      <th>0.386671</th>\n      <td>zhen</td>\n      <td>During the exercise period, Chinese People’s L...</td>\n      <td>During the exercise, Chinese People’s Liberati...</td>\n      <td>news</td>\n      <td>1875</td>\n      <td>1.872884</td>\n      <td>1.867890</td>\n      <td>0.389443</td>\n      <td>1.963337</td>\n      <td>0.366148</td>\n    </tr>\n  </tbody>\n</table>\n<p>99726 rows × 10 columns</p>\n</div>",
      "text/plain": "            sltl                                                hyp  \\\ngold_score                                                            \n0.386671    ende  Sie können jederzeit zurückkehren, da unser Ch...   \n0.386671    ende        Ich hoffe sehr, dass Sie eine Lösung finden   \n0.386671    ende  Vielen Dank, dass Sie #PRS_ORG# kontaktiert ha...   \n0.386671    ende             Ich wünsche Ihnen einen schönen Abend.   \n0.117933    ende  Der Iran meldet die niedrigste Anzahl tägliche...   \n...          ...                                                ...   \n0.386671    zhen  The exercise achievements have been confirmed ...   \n0.117933    zhen  Ruan Xiongsheng, the director of the Exercise ...   \n0.386671    zhen  The achievements made from exercise proved spe...   \n0.386671    zhen  According to Chen Chunming, leader of Guidance...   \n0.386671    zhen  During the exercise period, Chinese People’s L...   \n\n                                                          ref        domain  \\\ngold_score                                                                    \n0.386671    Sie können jederzeit wiederkommen, da unser Ch...  conversation   \n0.386671    Ich hoffe wirklich, dass Sie eine Lösung finde...  conversation   \n0.386671    Vielen Dank, dass Sie #PRS_ORG# kontaktiert ha...  conversation   \n0.386671          Ich wünsche Ihnen noch einen schönen Abend.  conversation   \n0.117933    Iran meldet niedrigste Zahl täglicher COVID-19...          news   \n...                                                       ...           ...   \n0.386671    The results of the exercise have won recogniti...          news   \n0.117933    Ruan Xiongsheng, Director of the Exercise Guid...          news   \n0.386671    The achievements made from the exercise proved...          news   \n0.386671    According to Chen Chunming, leader of Guidance...          news   \n0.386671    During the exercise, Chinese People’s Liberati...          news   \n\n            seg_id    METEOR      BLEU      WACC      CHRF       TER  \ngold_score                                                            \n0.386671         1  1.376832  1.642982  0.358519  0.979707  0.335239  \n0.386671         2  1.061923  1.260124  0.301252  0.357702  0.278000  \n0.386671         3  0.521747 -0.002266  0.076767  0.530673  0.101705  \n0.386671         4  1.418371  1.604712  0.358519  1.297007  0.335239  \n0.117933         5  1.167222  0.532886  0.100819  1.134610  0.077665  \n...            ...       ...       ...       ...       ...       ...  \n0.386671      1871 -1.637440 -1.262939 -0.115648 -1.791407 -0.138698  \n0.117933      1872  1.562744  1.725648  0.358519  1.667488  0.369582  \n0.386671      1873  1.655621  1.913690  0.401469  1.875915  0.378168  \n0.386671      1874  1.070302  1.081698  0.259562  0.919349  0.265178  \n0.386671      1875  1.872884  1.867890  0.389443  1.963337  0.366148  \n\n[99726 rows x 10 columns]"
     },
     "execution_count": 113,
     "metadata": {},
     "output_type": "execute_result"
    }
   ],
   "source": [
    "metrics_scores"
   ]
  },
  {
   "cell_type": "code",
   "execution_count": null,
   "metadata": {},
   "outputs": [],
   "source": []
  }
 ],
 "metadata": {
  "kernelspec": {
   "display_name": "Python 3 (ipykernel)",
   "language": "python",
   "name": "python3"
  },
  "language_info": {
   "codemirror_mode": {
    "name": "ipython",
    "version": 3
   },
   "file_extension": ".py",
   "mimetype": "text/x-python",
   "name": "python",
   "nbconvert_exporter": "python",
   "pygments_lexer": "ipython3",
   "version": "3.9.15"
  }
 },
 "nbformat": 4,
 "nbformat_minor": 5
}