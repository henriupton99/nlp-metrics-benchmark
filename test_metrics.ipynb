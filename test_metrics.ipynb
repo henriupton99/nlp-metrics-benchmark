{
 "cells": [
  {
   "cell_type": "markdown",
   "metadata": {},
   "source": [
    "# Test metrics on Toy Example"
   ]
  },
  {
   "cell_type": "code",
   "execution_count": 5,
   "metadata": {},
   "outputs": [
    {
     "name": "stdout",
     "output_type": "stream",
     "text": [
      "The autoreload extension is already loaded. To reload it, use:\n",
      "  %reload_ext autoreload\n"
     ]
    }
   ],
   "source": [
    "# FUNCTIONS / CLASSES :\n",
    "import sys\n",
    "%load_ext autoreload\n",
    "%autoreload 2\n",
    "sys.path.append(\"./code\")\n",
    "from metrics import *\n",
    "from data_processing import *\n",
    "\n",
    "metrics_dict = { \"ngram_based\" :[BLEU,\n",
    "           Sacre_BLEU,\n",
    "           ROUGE_1,\n",
    "           ROUGE_L,\n",
    "           ROUGE_S4,\n",
    "           CHRF,\n",
    "           CHRF_1,\n",
    "           CHRF_pp,\n",
    "           METEOR],\n",
    "           \n",
    "           \"edit_based\": [WER, TER],\n",
    "           \n",
    "           \"embedding_based\" : [BARY,\n",
    "            DEPTH,\n",
    "            MOVER]\n",
    "}"
   ]
  },
  {
   "cell_type": "code",
   "execution_count": 6,
   "metadata": {},
   "outputs": [],
   "source": [
    "reference = \"Je me présente je m'appelle Henri\"\n",
    "good_candidate = \"Je me présente je me prénomme Henri\"\n",
    "avg_candidate = \"Bonjour mon nom est Henri\"\n",
    "bad_candidate = \"J'aime les pizzas\""
   ]
  },
  {
   "cell_type": "code",
   "execution_count": 11,
   "metadata": {},
   "outputs": [
    {
     "name": "stdout",
     "output_type": "stream",
     "text": [
      "METRIC TYPE :  NGRAM_BASED\n",
      "METRIC NAME :  BLEU\n",
      "good candidate :  0.7142857313156128\n",
      "avg candidate :  0.16374613344669342\n",
      "bad candidate :  0.0\n",
      "TIME :  -0.00056295800004591\n",
      "METRIC NAME :  Sacre_BLEU\n",
      "good candidate :  0.7142857313156128\n",
      "avg candidate :  0.16374613344669342\n",
      "bad candidate :  0.0\n",
      "TIME :  -1.9374999965293682e-05\n",
      "METRIC NAME :  ROUGE_1\n",
      "good candidate :  0.7058823704719543\n",
      "avg candidate :  0.1538461595773697\n",
      "bad candidate :  0.0\n",
      "TIME :  0.0003142499999739812\n",
      "METRIC NAME :  ROUGE_L\n",
      "good candidate :  0.7058823704719543\n",
      "avg candidate :  0.1538461595773697\n",
      "bad candidate :  0.0\n",
      "TIME :  0.00017112599994106859\n",
      "METRIC NAME :  ROUGE_S4\n",
      "good candidate :  0.5142857142857143\n",
      "avg candidate :  0.0\n",
      "bad candidate :  0.0\n",
      "TIME :  -0.00015362599992840842\n",
      "METRIC NAME :  CHRF\n",
      "good candidate :  0.6306954117328964\n",
      "avg candidate :  0.15168410023582476\n",
      "bad candidate :  0.08836230975871608\n",
      "TIME :  -0.00010387499992248195\n",
      "METRIC NAME :  CHRF_1\n",
      "good candidate :  0.6301317811012268\n",
      "avg candidate :  0.15004166960716248\n",
      "bad candidate :  0.08252978324890137\n",
      "TIME :  -9.11249999262509e-05\n",
      "METRIC NAME :  CHRF_pp\n",
      "good candidate :  0.6441160440444946\n",
      "avg candidate :  0.1384241133928299\n",
      "bad candidate :  0.06970440596342087\n",
      "TIME :  0.0001076669998383295\n",
      "METRIC NAME :  METEOR\n",
      "good candidate :  0.6098360655737705\n",
      "avg candidate :  0.0847457627118644\n",
      "bad candidate :  0.0\n",
      "TIME :  0.0001512490000550315\n",
      "METRIC TYPE :  EDIT_BASED\n",
      "METRIC NAME :  WER\n",
      "good candidate :  0.6666666567325592\n",
      "avg candidate :  0.1666666865348816\n",
      "bad candidate :  0.0\n",
      "TIME :  4.366699999991397e-05\n",
      "METRIC NAME :  TER\n",
      "good candidate :  0.6666666567325592\n",
      "avg candidate :  0.1666666865348816\n",
      "bad candidate :  0.0\n",
      "TIME :  0.0003099169998677098\n",
      "METRIC TYPE :  EMBEDDING_BASED\n",
      "METRIC NAME :  BARY\n",
      "good candidate :  0.3192832484818588\n",
      "avg candidate :  0.5897568838962052\n",
      "bad candidate :  0.5822031345450204\n",
      "TIME :  0.0006239169999844307\n",
      "METRIC NAME :  DEPTH\n",
      "good candidate :  0.3646970036278802\n",
      "avg candidate :  0.744547628348565\n",
      "bad candidate :  0.7300220214306717\n",
      "TIME :  -0.00019270799998594157\n",
      "METRIC NAME :  MOVER\n",
      "good candidate :  0.6917209051312115\n",
      "avg candidate :  0.580844590101863\n",
      "bad candidate :  0.5589217572966214\n",
      "TIME :  -0.00015691600015088625\n"
     ]
    },
    {
     "name": "stderr",
     "output_type": "stream",
     "text": [
      "BaryScore Progress: 100%|██████████| 1/1 [00:00<00:00,  3.10it/s]\n",
      "BaryScore Progress: 100%|██████████| 1/1 [00:00<00:00, 20.42it/s]\n",
      "BaryScore Progress: 100%|██████████| 1/1 [00:00<00:00, 20.60it/s]\n",
      "Depth Score Progress: 100%|██████████| 1/1 [00:00<00:00, 424.40it/s]\n",
      "Depth Score Progress: 100%|██████████| 1/1 [00:00<00:00, 437.82it/s]\n",
      "Depth Score Progress: 100%|██████████| 1/1 [00:00<00:00, 464.07it/s]\n"
     ]
    }
   ],
   "source": [
    "test_metrics(\n",
    "    metrics = metrics_dict,\n",
    "    reference = reference,\n",
    "    good_candidate = good_candidate,\n",
    "    avg_candidate = avg_candidate,\n",
    "    bad_candidate = bad_candidate\n",
    ")"
   ]
  },
  {
   "cell_type": "markdown",
   "metadata": {},
   "source": [
    "# Compute metrics for WMT22"
   ]
  },
  {
   "cell_type": "code",
   "execution_count": null,
   "metadata": {},
   "outputs": [],
   "source": [
    "metrics_all = [metric for sublist in metrics_dict.values() for metric in sublist]\n",
    "metrics_scores = compute_metrics(\n",
    "    set_name = \"WMT22\",\n",
    "    metrics = metrics_all,\n",
    "    sample_size = 5000,\n",
    "    path = \"./data/metrics_scores_2.csv\"\n",
    ")"
   ]
  }
 ],
 "metadata": {
  "kernelspec": {
   "display_name": "Python 3 (ipykernel)",
   "language": "python",
   "name": "python3"
  },
  "language_info": {
   "codemirror_mode": {
    "name": "ipython",
    "version": 3
   },
   "file_extension": ".py",
   "mimetype": "text/x-python",
   "name": "python",
   "nbconvert_exporter": "python",
   "pygments_lexer": "ipython3",
   "version": "3.9.15"
  }
 },
 "nbformat": 4,
 "nbformat_minor": 5
}