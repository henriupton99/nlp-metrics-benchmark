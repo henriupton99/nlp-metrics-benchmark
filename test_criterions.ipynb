{
 "cells": [
  {
   "cell_type": "markdown",
   "metadata": {},
   "source": [
    "# Test criterions for Benchmark"
   ]
  },
  {
   "cell_type": "code",
   "execution_count": 11,
   "metadata": {},
   "outputs": [
    {
     "name": "stdout",
     "output_type": "stream",
     "text": [
      "The autoreload extension is already loaded. To reload it, use:\n",
      "  %reload_ext autoreload\n"
     ]
    }
   ],
   "source": [
    "# FUNCTIONS / CLASSES :\n",
    "import sys\n",
    "from tqdm import tqdm\n",
    "import pandas as pd\n",
    "import numpy as np\n",
    "import matplotlib.pyplot as plt\n",
    "%load_ext autoreload\n",
    "%autoreload 2\n",
    "sys.path.append(\"./code\")\n",
    "from metrics import METEOR, BLEU, WACC, CHRF, TER, compute_metrics\n",
    "from criterions import compute_correlation, domain_coverage, bad_quality_detection, Borda_count\n",
    "\n",
    "metrics = [METEOR, BLEU, WACC, CHRF, TER]"
   ]
  },
  {
   "cell_type": "code",
   "execution_count": 12,
   "metadata": {},
   "outputs": [],
   "source": [
    "data = pd.read_csv(\"./data/metrics_scores.csv\")"
   ]
  },
  {
   "cell_type": "code",
   "execution_count": 13,
   "metadata": {},
   "outputs": [
    {
     "data": {
      "text/plain": "'BLEU'"
     },
     "execution_count": 13,
     "metadata": {},
     "output_type": "execute_result"
    }
   ],
   "source": [
    "str(metrics[1].__name__)"
   ]
  },
  {
   "cell_type": "code",
   "execution_count": 14,
   "metadata": {},
   "outputs": [
    {
     "data": {
      "text/plain": "0.8949504906624423"
     },
     "execution_count": 14,
     "metadata": {},
     "output_type": "execute_result"
    }
   ],
   "source": [
    "compute_correlation(\n",
    "    data = data,\n",
    "    metric_1 = str(metrics[1].__name__),\n",
    "    metric_2 = str(metrics[2].__name__),\n",
    "    correlation_type = \"spearman\"\n",
    ")"
   ]
  },
  {
   "cell_type": "code",
   "execution_count": 15,
   "metadata": {},
   "outputs": [
    {
     "name": "stdout",
     "output_type": "stream",
     "text": [
      "Correlation w human score : \n",
      "METRIC NAME :  METEOR\n",
      "CONVERSATION  =>  0.29231939987576444\n",
      "NEWS  =>  0.14756060587829803\n",
      "ECOMMERCE  =>  0.14282016444857923\n",
      "SOCIAL  =>  0.13670934104122962\n",
      "\n",
      "\n",
      "METRIC NAME :  BLEU\n",
      "CONVERSATION  =>  0.26905612961816205\n",
      "NEWS  =>  0.13754037533154614\n",
      "ECOMMERCE  =>  0.1474267190668435\n",
      "SOCIAL  =>  0.13686813474759743\n",
      "\n",
      "\n",
      "METRIC NAME :  WACC\n",
      "CONVERSATION  =>  0.2571729675695661\n",
      "NEWS  =>  0.14278751324656416\n",
      "ECOMMERCE  =>  0.1372842440678774\n",
      "SOCIAL  =>  0.1302596016046559\n",
      "\n",
      "\n",
      "METRIC NAME :  CHRF\n",
      "CONVERSATION  =>  0.32104551324256964\n",
      "NEWS  =>  0.16162020938432775\n",
      "ECOMMERCE  =>  0.12404576310627463\n",
      "SOCIAL  =>  0.14901331381144958\n",
      "\n",
      "\n",
      "METRIC NAME :  TER\n",
      "CONVERSATION  =>  0.2601935475209502\n",
      "NEWS  =>  0.146210884453443\n",
      "ECOMMERCE  =>  0.14040870314210407\n",
      "SOCIAL  =>  0.12762008757179272\n",
      "\n",
      "\n"
     ]
    }
   ],
   "source": [
    "data = pd.read_csv(\"./data/metrics_scores.csv\")\n",
    "data = data[data.sltl == \"ende\"]\n",
    "\n",
    "print(\"Correlation w human score : \")\n",
    "for metric in metrics:\n",
    "    metric_name = str(metric.__name__)\n",
    "    print(\"METRIC NAME : \", metric_name)\n",
    "    for domain in data.domain.unique():\n",
    "        score = domain_coverage(\n",
    "                    data = data,\n",
    "                    candidate_metric = metric_name,\n",
    "                    correlation_type = \"spearman\",\n",
    "                    domain = domain\n",
    "                )\n",
    "        print(domain.upper(), \" => \", score)\n",
    "    \n",
    "    print(\"\\n\")"
   ]
  },
  {
   "cell_type": "code",
   "execution_count": 16,
   "metadata": {},
   "outputs": [
    {
     "name": "stdout",
     "output_type": "stream",
     "text": [
      "Correlation w human score : \n",
      "METRIC NAME :  METEOR\n",
      "SCORE =>  0.14359840095952806\n",
      "\n",
      "\n",
      "METRIC NAME :  BLEU\n",
      "SCORE =>  0.12923019192273663\n",
      "\n",
      "\n",
      "METRIC NAME :  WACC\n",
      "SCORE =>  0.14434491350466092\n",
      "\n",
      "\n",
      "METRIC NAME :  CHRF\n",
      "SCORE =>  0.1435465015869422\n",
      "\n",
      "\n",
      "METRIC NAME :  TER\n",
      "SCORE =>  0.14505717852765349\n",
      "\n",
      "\n"
     ]
    }
   ],
   "source": [
    "data = pd.read_csv(\"./data/metrics_scores.csv\")\n",
    "data = data[data.sltl == \"ende\"]\n",
    "\n",
    "print(\"Correlation w human score : \")\n",
    "for metric in metrics:\n",
    "    metric_name = str(metric.__name__)\n",
    "    print(\"METRIC NAME : \", metric_name)\n",
    "    score = bad_quality_detection(\n",
    "                data = data,\n",
    "                candidate_metric = metric_name,\n",
    "                correlation_type = \"spearman\",\n",
    "                alpha = 0.1\n",
    "            )\n",
    "    print(\"SCORE => \", score)\n",
    "    print(\"\\n\")"
   ]
  },
  {
   "cell_type": "code",
   "execution_count": 27,
   "metadata": {},
   "outputs": [
    {
     "name": "stdout",
     "output_type": "stream",
     "text": [
      "[[3. 0. 1. 4. 2.]\n",
      " [3. 0. 4. 2. 1.]\n",
      " [1. 0. 4. 2. 3.]\n",
      " [3. 1. 0. 2. 4.]\n",
      " [4. 2. 0. 3. 1.]\n",
      " [3. 0. 1. 4. 2.]]\n",
      "BORDA COUNT RANKS : \n",
      "METEOR  :  1\n",
      "BLEU  :  2\n",
      "WACC  :  4\n",
      "CHRF  :  0\n"
     ]
    },
    {
     "data": {
      "image/png": "[encoded data removed]",
      "text/plain": "<Figure size 640x480 with 1 Axes>"
     },
     "metadata": {
      "transient": {}
     },
     "output_type": "display_data"
    }
   ],
   "source": [
    "borda_count_ranks = Borda_count(\n",
    "                        data = data,\n",
    "                        metrics = metrics,\n",
    "                        correlation_type = \"spearman\"\n",
    "                    )\n",
    "print(\"BORDA COUNT RANKS : \")\n",
    "for n in range(N):\n",
    "    print(str(metrics[n].__name__) , \" : \", borda_count_ranks[n])\n",
    "\n",
    "plt.bar([str(metric.__name__) for metric in metrics], -1*borda_count_ranks)\n",
    "plt.xlabel('Candidates')\n",
    "plt.ylabel('-1 x Rank')\n",
    "plt.title('Candidate Ranking')\n",
    "plt.show()"
   ]
  },
  {
   "cell_type": "code",
   "execution_count": 8,
   "metadata": {},
   "outputs": [
    {
     "name": "stdout",
     "output_type": "stream",
     "text": [
      "BORDA COUNT RANKS : \n",
      "METEOR  :  0\n",
      "BLEU  :  1\n",
      "NIST  :  2\n",
      "WACC  :  3\n"
     ]
    },
    {
     "data": {
      "image/png": "[encoded data removed]",
      "text/plain": "<Figure size 640x480 with 1 Axes>"
     },
     "metadata": {
      "transient": {}
     },
     "output_type": "display_data"
    }
   ],
   "source": [
    "data = pd.read_csv(\"./data/metrics_scores.csv\")\n",
    "L = len(data.domain.unique())\n",
    "N = len(metrics)\n",
    "ranks = np.empty((L, N))\n",
    "\n",
    "for l in range(L):\n",
    "    criterion_scores = []\n",
    "    criterion_domain = data.domain.unique()[l]\n",
    "    for n in range(N):\n",
    "        candidate_metric = str(metrics[n].__name__)\n",
    "        score = domain_coverage(\n",
    "                    data = data,\n",
    "                    candidate_metric = candidate_metric,\n",
    "                    correlation_type = \"spearman\",\n",
    "                    domain = criterion_domain\n",
    "                )\n",
    "        criterion_scores.append(-1*score)\n",
    "    \n",
    "    ranks[l,:] = np.argsort(criterion_scores)\n",
    "\n",
    "borda_count_ranks = Borda_count(ranks)\n"
   ]
  }
 ],
 "metadata": {
  "kernelspec": {
   "display_name": "Python 3 (ipykernel)",
   "language": "python",
   "name": "python3"
  },
  "language_info": {
   "codemirror_mode": {
    "name": "ipython",
    "version": 3
   },
   "file_extension": ".py",
   "mimetype": "text/x-python",
   "name": "python",
   "nbconvert_exporter": "python",
   "pygments_lexer": "ipython3",
   "version": "3.9.15"
  },
  "orig_nbformat": 2
 },
 "nbformat": 4,
 "nbformat_minor": 2
}