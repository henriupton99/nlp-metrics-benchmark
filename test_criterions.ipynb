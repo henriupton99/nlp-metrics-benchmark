{
 "cells": [
  {
   "cell_type": "markdown",
   "metadata": {},
   "source": [
    "# Test criterions for Benchmark"
   ]
  },
  {
   "cell_type": "code",
   "execution_count": 73,
   "metadata": {},
   "outputs": [
    {
     "name": "stdout",
     "output_type": "stream",
     "text": [
      "The autoreload extension is already loaded. To reload it, use:\n",
      "  %reload_ext autoreload\n"
     ]
    }
   ],
   "source": [
    "# FUNCTIONS / CLASSES :\n",
    "import sys\n",
    "from tqdm import tqdm\n",
    "import pandas as pd\n",
    "import numpy as np\n",
    "import matplotlib.pyplot as plt\n",
    "%load_ext autoreload\n",
    "%autoreload 2\n",
    "sys.path.append(\"./code\")\n",
    "from criterions import compute_correlation, domain_coverage, bad_quality_detection, Borda_count\n",
    "\n",
    "metrics = [METEOR, BLEU, NIST, WACC]"
   ]
  },
  {
   "cell_type": "code",
   "execution_count": 39,
   "metadata": {},
   "outputs": [],
   "source": [
    "data = pd.read_csv(\"./data/metrics_scores.csv\")"
   ]
  },
  {
   "cell_type": "code",
   "execution_count": 40,
   "metadata": {},
   "outputs": [
    {
     "data": {
      "text/plain": "'BLEU'"
     },
     "execution_count": 40,
     "metadata": {},
     "output_type": "execute_result"
    }
   ],
   "source": [
    "str(metrics[1].__name__)"
   ]
  },
  {
   "cell_type": "code",
   "execution_count": 41,
   "metadata": {},
   "outputs": [
    {
     "data": {
      "text/plain": "0.7655464881918864"
     },
     "execution_count": 41,
     "metadata": {},
     "output_type": "execute_result"
    }
   ],
   "source": [
    "compute_correlation(\n",
    "    data = data,\n",
    "    metric_1 = str(metrics[1].__name__),\n",
    "    metric_2 = str(metrics[2].__name__),\n",
    "    correlation_type = \"spearman\"\n",
    ")"
   ]
  },
  {
   "cell_type": "code",
   "execution_count": 42,
   "metadata": {},
   "outputs": [
    {
     "name": "stdout",
     "output_type": "stream",
     "text": [
      "Correlation w human score : \n",
      "METRIC NAME :  METEOR\n",
      "CONVERSATION  =>  0.29232146594181735\n",
      "NEWS  =>  0.14755862329587788\n",
      "ECOMMERCE  =>  0.1428198816575085\n",
      "SOCIAL  =>  0.13670858233137786\n",
      "\n",
      "\n",
      "METRIC NAME :  BLEU\n",
      "CONVERSATION  =>  0.2690547729282605\n",
      "NEWS  =>  0.13753846033647954\n",
      "ECOMMERCE  =>  0.1474266728613931\n",
      "SOCIAL  =>  0.13686813474759743\n",
      "\n",
      "\n",
      "METRIC NAME :  NIST\n",
      "CONVERSATION  =>  0.136395603558826\n",
      "NEWS  =>  0.06457183567530851\n",
      "ECOMMERCE  =>  0.09723806320788869\n",
      "SOCIAL  =>  0.04130344874851459\n",
      "\n",
      "\n",
      "METRIC NAME :  WACC\n",
      "CONVERSATION  =>  0.2571734166783578\n",
      "NEWS  =>  0.14278561240372054\n",
      "ECOMMERCE  =>  0.13728413921002927\n",
      "SOCIAL  =>  0.1302596016046559\n",
      "\n",
      "\n"
     ]
    }
   ],
   "source": [
    "data = pd.read_csv(\"./data/metrics_scores.csv\")\n",
    "data = data[data.sltl == \"ende\"]\n",
    "\n",
    "print(\"Correlation w human score : \")\n",
    "for metric in metrics:\n",
    "    metric_name = str(metric.__name__)\n",
    "    print(\"METRIC NAME : \", metric_name)\n",
    "    for domain in data.domain.unique():\n",
    "        score = domain_coverage(\n",
    "                    data = data,\n",
    "                    candidate_metric = metric_name,\n",
    "                    correlation_type = \"spearman\",\n",
    "                    domain = domain\n",
    "                )\n",
    "        print(domain.upper(), \" => \", score)\n",
    "    \n",
    "    print(\"\\n\")"
   ]
  },
  {
   "cell_type": "code",
   "execution_count": 45,
   "metadata": {},
   "outputs": [
    {
     "name": "stdout",
     "output_type": "stream",
     "text": [
      "Correlation w human score : \n",
      "METRIC NAME :  METEOR\n",
      "SCORE =>  0.14359812566483127\n",
      "\n",
      "\n",
      "METRIC NAME :  BLEU\n",
      "SCORE =>  0.12923011554030808\n",
      "\n",
      "\n",
      "METRIC NAME :  NIST\n",
      "SCORE =>  0.06066513031706968\n",
      "\n",
      "\n",
      "METRIC NAME :  WACC\n",
      "SCORE =>  0.14434483529920777\n",
      "\n",
      "\n"
     ]
    }
   ],
   "source": [
    "data = pd.read_csv(\"./data/metrics_scores.csv\")\n",
    "data = data[data.sltl == \"ende\"]\n",
    "\n",
    "print(\"Correlation w human score : \")\n",
    "for metric in metrics:\n",
    "    metric_name = str(metric.__name__)\n",
    "    print(\"METRIC NAME : \", metric_name)\n",
    "    score = bad_quality_detection(\n",
    "                data = data,\n",
    "                candidate_metric = metric_name,\n",
    "                correlation_type = \"spearman\",\n",
    "                alpha = 0.1\n",
    "            )\n",
    "    print(\"SCORE => \", score)\n",
    "    print(\"\\n\")"
   ]
  },
  {
   "cell_type": "code",
   "execution_count": 77,
   "metadata": {},
   "outputs": [
    {
     "name": "stdout",
     "output_type": "stream",
     "text": [
      "BORDA COUNT RANKS : \n",
      "METEOR  :  0\n",
      "BLEU  :  1\n",
      "NIST  :  2\n",
      "WACC  :  3\n"
     ]
    },
    {
     "data": {
      "image/png": "[encoded data removed]",
      "text/plain": "<Figure size 640x480 with 1 Axes>"
     },
     "metadata": {
      "transient": {}
     },
     "output_type": "display_data"
    }
   ],
   "source": [
    "data = pd.read_csv(\"./data/metrics_scores.csv\")\n",
    "L = len(data.domain.unique())\n",
    "N = len(metrics)\n",
    "ranks = np.empty((L, N))\n",
    "\n",
    "for l in range(L):\n",
    "    criterion_scores = []\n",
    "    criterion_domain = data.domain.unique()[l]\n",
    "    for n in range(N):\n",
    "        candidate_metric = str(metrics[n].__name__)\n",
    "        score = domain_coverage(\n",
    "                    data = data,\n",
    "                    candidate_metric = candidate_metric,\n",
    "                    correlation_type = \"spearman\",\n",
    "                    domain = criterion_domain\n",
    "                )\n",
    "        criterion_scores.append(-1*score)\n",
    "    \n",
    "    ranks[l,:] = np.argsort(criterion_scores)\n",
    "\n",
    "borda_count_ranks = Borda_count(ranks)\n",
    "print(\"BORDA COUNT RANKS : \")\n",
    "for n in range(N):\n",
    "    print(str(metrics[n].__name__) , \" : \", borda_count_ranks[n])\n",
    "\n",
    "plt.bar([str(metric.__name__) for metric in metrics], -1*borda_count_ranks)\n",
    "plt.xlabel('Candidates')\n",
    "plt.ylabel('-1 x Rank')\n",
    "plt.title('Candidate Ranking')\n",
    "plt.show()"
   ]
  }
 ],
 "metadata": {
  "kernelspec": {
   "display_name": "Python 3 (ipykernel)",
   "name": "python3"
  },
  "language_info": {
   "codemirror_mode": {
    "name": "ipython",
    "version": 3
   },
   "file_extension": ".py",
   "mimetype": "text/x-python",
   "name": "python",
   "nbconvert_exporter": "python",
   "pygments_lexer": "ipython3",
   "version": "3.9.15"
  },
  "orig_nbformat": 2
 },
 "nbformat": 4,
 "nbformat_minor": 2
}