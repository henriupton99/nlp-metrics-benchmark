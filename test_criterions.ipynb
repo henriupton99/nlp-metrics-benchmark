{
 "cells": [
  {
   "cell_type": "markdown",
   "metadata": {},
   "source": [
    "# Test criterions for Benchmark"
   ]
  },
  {
   "cell_type": "code",
   "execution_count": 74,
   "metadata": {},
   "outputs": [
    {
     "name": "stdout",
     "output_type": "stream",
     "text": [
      "The autoreload extension is already loaded. To reload it, use:\n",
      "  %reload_ext autoreload\n"
     ]
    }
   ],
   "source": [
    "# FUNCTIONS / CLASSES :\n",
    "import sys\n",
    "from tqdm import tqdm\n",
    "import pandas as pd\n",
    "import numpy as np\n",
    "import matplotlib.pyplot as plt\n",
    "%load_ext autoreload\n",
    "%autoreload 2\n",
    "sys.path.append(\"./code\")\n",
    "from metrics import *\n",
    "from criterions import compute_correlation, domain_coverage, bad_quality_detection, Borda_count\n",
    "\n",
    "## DICTIONNAIRE DES COUPLES DE TRADUCTIONS :\n",
    "sl_tls = {\n",
    "    \"ende\" : \"English-German\",\n",
    "    \"enru\" : \"English-Russian\",\n",
    "    \"zhen\" : \"Chinese-English\" \n",
    "}\n",
    "\n",
    "# Fast metrics :\n",
    "metrics = { \"ngram_based\" :[BLEU,\n",
    "           Sacre_BLEU,\n",
    "           ROUGE_1,\n",
    "           ROUGE_L,\n",
    "           ROUGE_S4,\n",
    "           CHRF,\n",
    "           CHRF_1,\n",
    "           CHRF_pp,\n",
    "           METEOR],\n",
    "           \n",
    "           \"edit_based\": [WER, TER]}\n",
    "\n",
    "# Energivore metrics :   \n",
    "metrics_embd =[BARY,\n",
    "            DEPTH,\n",
    "            MOVER]"
   ]
  },
  {
   "cell_type": "code",
   "execution_count": 6,
   "metadata": {},
   "outputs": [],
   "source": [
    "data = pd.read_csv(\"./data/ngram_based_metrics_scores.csv\")"
   ]
  },
  {
   "cell_type": "code",
   "execution_count": 8,
   "metadata": {},
   "outputs": [
    {
     "data": {
      "text/plain": "0.462788019552205"
     },
     "execution_count": 8,
     "metadata": {},
     "output_type": "execute_result"
    }
   ],
   "source": [
    "compute_correlation(\n",
    "    data = data,\n",
    "    metric_1 = str(metrics_ngram[1].__name__),\n",
    "    metric_2 = str(metrics_ngram[2].__name__),\n",
    "    correlation_type = \"spearman\"\n",
    ")"
   ]
  },
  {
   "cell_type": "code",
   "execution_count": 10,
   "metadata": {},
   "outputs": [
    {
     "name": "stdout",
     "output_type": "stream",
     "text": [
      "Correlation w human score : \n",
      "METRIC NAME :  BLEU\n",
      "CONVERSATION  =>  0.2690547729282605\n",
      "NEWS  =>  0.13753846033647954\n",
      "ECOMMERCE  =>  0.1474266728613931\n",
      "SOCIAL  =>  0.13686813474759743\n",
      "\n",
      "\n",
      "METRIC NAME :  Sacre_BLEU\n",
      "CONVERSATION  =>  0.2819671864070406\n",
      "NEWS  =>  0.14931235789144323\n",
      "ECOMMERCE  =>  0.14481209574501688\n",
      "SOCIAL  =>  0.1344726369374118\n",
      "\n",
      "\n",
      "METRIC NAME :  ROUGE_1\n",
      "CONVERSATION  =>  0.28209454603980927\n",
      "NEWS  =>  0.15131629222771703\n",
      "ECOMMERCE  =>  0.12887179360163514\n",
      "SOCIAL  =>  0.1312618640006047\n",
      "\n",
      "\n",
      "METRIC NAME :  ROUGE_L\n",
      "CONVERSATION  =>  0.27891270535136975\n",
      "NEWS  =>  0.15080596371074756\n",
      "ECOMMERCE  =>  0.12682009610544911\n",
      "SOCIAL  =>  0.13071684213111492\n",
      "\n",
      "\n",
      "METRIC NAME :  ROUGE_S4\n",
      "CONVERSATION  =>  0.26746331278737673\n",
      "NEWS  =>  0.14012899578376467\n",
      "ECOMMERCE  =>  0.13684461071665172\n",
      "SOCIAL  =>  0.106343673914925\n",
      "\n",
      "\n",
      "METRIC NAME :  CHRF\n",
      "CONVERSATION  =>  0.32104288615842846\n",
      "NEWS  =>  0.16161813593835653\n",
      "ECOMMERCE  =>  0.12404545301405787\n",
      "SOCIAL  =>  0.14901331381144958\n",
      "\n",
      "\n",
      "METRIC NAME :  CHRF_1\n",
      "CONVERSATION  =>  0.3094882150118452\n",
      "NEWS  =>  0.16212650100474768\n",
      "ECOMMERCE  =>  0.1228095195096021\n",
      "SOCIAL  =>  0.13482257330308062\n",
      "\n",
      "\n",
      "METRIC NAME :  CHRF_pp\n",
      "CONVERSATION  =>  0.3149977544944762\n",
      "NEWS  =>  0.15983970554714286\n",
      "ECOMMERCE  =>  0.1311452297787318\n",
      "SOCIAL  =>  0.14145527944410802\n",
      "\n",
      "\n",
      "METRIC NAME :  METEOR\n",
      "CONVERSATION  =>  0.2923188090714264\n",
      "NEWS  =>  0.14755861590002645\n",
      "ECOMMERCE  =>  0.142819819287945\n",
      "SOCIAL  =>  0.13670932565161883\n",
      "\n",
      "\n"
     ]
    }
   ],
   "source": [
    "data = pd.read_csv(\"./data/ngram_based_metrics_scores.csv\")\n",
    "data = data[data.sltl == \"ende\"]\n",
    "\n",
    "print(\"Correlation w human score : \")\n",
    "for metric in metrics_ngram:\n",
    "    metric_name = str(metric.__name__)\n",
    "    print(\"METRIC NAME : \", metric_name)\n",
    "    for domain in data.domain.unique():\n",
    "        score = domain_coverage(\n",
    "                    data = data,\n",
    "                    candidate_metric = metric_name,\n",
    "                    correlation_type = \"spearman\",\n",
    "                    domain = domain\n",
    "                )\n",
    "        print(domain.upper(), \" => \", score)\n",
    "    \n",
    "    print(\"\\n\")"
   ]
  },
  {
   "cell_type": "code",
   "execution_count": 12,
   "metadata": {},
   "outputs": [
    {
     "name": "stdout",
     "output_type": "stream",
     "text": [
      "Correlation w human score : \n",
      "METRIC NAME :  BLEU\n",
      "SCORE =>  0.12923011554030808\n",
      "\n",
      "\n",
      "METRIC NAME :  Sacre_BLEU\n",
      "SCORE =>  0.1478535900937936\n",
      "\n",
      "\n",
      "METRIC NAME :  ROUGE_1\n",
      "SCORE =>  0.14261265151348962\n",
      "\n",
      "\n",
      "METRIC NAME :  ROUGE_L\n",
      "SCORE =>  0.14324826704846574\n",
      "\n",
      "\n",
      "METRIC NAME :  ROUGE_S4\n",
      "SCORE =>  0.13726613949226157\n",
      "\n",
      "\n",
      "METRIC NAME :  CHRF\n",
      "SCORE =>  0.14354626182454208\n",
      "\n",
      "\n",
      "METRIC NAME :  CHRF_1\n",
      "SCORE =>  0.1486626282468477\n",
      "\n",
      "\n",
      "METRIC NAME :  CHRF_pp\n",
      "SCORE =>  0.14524505771968801\n",
      "\n",
      "\n",
      "METRIC NAME :  METEOR\n",
      "SCORE =>  0.14359880414191742\n",
      "\n",
      "\n"
     ]
    }
   ],
   "source": [
    "data = pd.read_csv(\"./data/ngram_based_metrics_scores.csv\")\n",
    "data = data[data.sltl == \"ende\"]\n",
    "\n",
    "print(\"Correlation w human score : \")\n",
    "for metric in metrics_ngram:\n",
    "    metric_name = str(metric.__name__)\n",
    "    print(\"METRIC NAME : \", metric_name)\n",
    "    score = bad_quality_detection(\n",
    "                data = data,\n",
    "                candidate_metric = metric_name,\n",
    "                correlation_type = \"spearman\",\n",
    "                alpha = 0.1\n",
    "            )\n",
    "    print(\"SCORE => \", score)\n",
    "    print(\"\\n\")"
   ]
  },
  {
   "cell_type": "code",
   "execution_count": 60,
   "metadata": {},
   "outputs": [],
   "source": [
    "for index, metric_type in enumerate(metrics):\n",
    "    temp = pd.read_csv(\"./data/\" + metric_type + \"_metrics_scores.csv\")\n",
    "    \n",
    "    if index == 0:\n",
    "        data = temp.copy()\n",
    "    else:\n",
    "        temp = temp[[str(metric.__name__) for metric in metrics[metric_type]]]\n",
    "        data = data.merge(temp, left_index=True, right_index=True)"
   ]
  },
  {
   "cell_type": "code",
   "execution_count": 72,
   "metadata": {},
   "outputs": [
    {
     "name": "stdout",
     "output_type": "stream",
     "text": [
      "[[ 5.  6.  7.  1.  8.  0. 10.  9.  4.  2.  3.]\n",
      " [ 8.  6.  5.  7. 10.  9.  1.  4.  0.  2.  3.]\n",
      " [ 7.  5.  6.  8.  1. 10.  9.  0.  4.  3.  2.]\n",
      " [ 8.  7.  6.  5.  2.  3.  1.  0. 10.  4.  9.]\n",
      " [ 8. 10.  9.  3.  1.  2.  6.  7.  4.  5.  0.]\n",
      " [ 6.  4.  7.  8.  5. 10.  1.  9.  0.  3.  2.]]\n",
      "BORDA COUNT RANKS : \n"
     ]
    },
    {
     "data": {
      "image/png": "[encoded data removed]",
      "text/plain": "<Figure size 1000x300 with 1 Axes>"
     },
     "metadata": {
      "transient": {}
     },
     "output_type": "display_data"
    }
   ],
   "source": [
    "metrics_all = [metric for sublist in metrics.values() for metric in sublist]\n",
    "\n",
    "for key, val in sl_tls.items():\n",
    "    print(key)\n",
    "    print(val)\n",
    "    \n",
    "    query = data[data.sltl == sl_tls]\n",
    "    \n",
    "    borda_count_ranks = Borda_count(\n",
    "                            data = data,\n",
    "                            metrics = metrics_all,\n",
    "                            correlation_type = \"spearman\"\n",
    "                        )\n",
    "\n",
    "    print(\"BORDA COUNT RANKS : \")\n",
    "    plt.figure(figsize = (10, 3))\n",
    "\n",
    "    category_colors = {\n",
    "        \"ngram_based\": \"blue\",\n",
    "        \"edit_based\": \"red\"\n",
    "    }\n",
    "\n",
    "    metrics_ranks = {}\n",
    "    for n in range(len(metrics_all)):\n",
    "        category = \"ngram_based\" if metrics_all[n] in metrics[\"ngram_based\"] else \"edit_based\"\n",
    "        metrics_ranks[str(metrics_all[n].__name__)] = (borda_count_ranks[n], category)\n",
    "\n",
    "    sorted_scores = sorted(metrics_ranks.items(), key=lambda x: x[1][0], reverse=True)\n",
    "\n",
    "    x = [sorted_scores[k][0] for k in range(len(metrics_all))]\n",
    "    y = [len(metrics_all) - sorted_scores[k][1][0] for k in range(len(metrics_all))]\n",
    "    colors = [category_colors[sorted_scores[k][1][1]] for k in range(len(metrics_all))]\n",
    "\n",
    "    plt.bar(x, y, color=colors)\n",
    "\n",
    "    for i, v in enumerate(sorted_scores):\n",
    "        plt.text(i, y[i] + 0.1, str(v[1][0]), ha='center', fontweight='bold')\n",
    "\n",
    "    plt.ylabel('Borda Rank')\n",
    "    plt.xticks(rotation=45)\n",
    "    plt.show()\n"
   ]
  },
  {
   "cell_type": "code",
   "execution_count": 8,
   "metadata": {},
   "outputs": [
    {
     "name": "stdout",
     "output_type": "stream",
     "text": [
      "BORDA COUNT RANKS : \n",
      "METEOR  :  0\n",
      "BLEU  :  1\n",
      "NIST  :  2\n",
      "WACC  :  3\n"
     ]
    },
    {
     "data": {
      "image/png": "[encoded data removed]",
      "text/plain": "<Figure size 640x480 with 1 Axes>"
     },
     "metadata": {
      "transient": {}
     },
     "output_type": "display_data"
    }
   ],
   "source": [
    "data = pd.read_csv(\"./data/metrics_scores.csv\")\n",
    "L = len(data.domain.unique())\n",
    "N = len(metrics)\n",
    "ranks = np.empty((L, N))\n",
    "\n",
    "for l in range(L):\n",
    "    criterion_scores = []\n",
    "    criterion_domain = data.domain.unique()[l]\n",
    "    for n in range(N):\n",
    "        candidate_metric = str(metrics[n].__name__)\n",
    "        score = domain_coverage(\n",
    "                    data = data,\n",
    "                    candidate_metric = candidate_metric,\n",
    "                    correlation_type = \"spearman\",\n",
    "                    domain = criterion_domain\n",
    "                )\n",
    "        criterion_scores.append(-1*score)\n",
    "    \n",
    "    ranks[l,:] = np.argsort(criterion_scores)\n",
    "\n",
    "borda_count_ranks = Borda_count(ranks)\n"
   ]
  }
 ],
 "metadata": {
  "kernelspec": {
   "display_name": "Python 3 (ipykernel)",
   "language": "python",
   "name": "python3"
  },
  "language_info": {
   "codemirror_mode": {
    "name": "ipython",
    "version": 3
   },
   "file_extension": ".py",
   "mimetype": "text/x-python",
   "name": "python",
   "nbconvert_exporter": "python",
   "pygments_lexer": "ipython3",
   "version": "3.9.15"
  },
  "orig_nbformat": 2
 },
 "nbformat": 4,
 "nbformat_minor": 2
}